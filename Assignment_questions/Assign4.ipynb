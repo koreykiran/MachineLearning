{
 "cells": [
  {
   "cell_type": "markdown",
   "metadata": {},
   "source": [
    "# Assignment #4 - Neural Networks\n",
    "\n",
    "### <font color=\"red\"> DUE: Apr 19 (Thursday) 11:00 pm </font>  "
   ]
  },
  {
   "cell_type": "markdown",
   "metadata": {},
   "source": [
    "<font color=\"blue\"> type your name here </font>"
   ]
  },
  {
   "cell_type": "markdown",
   "metadata": {},
   "source": [
    "# I. Overview\n",
    "\n",
    "Describe the objective of this assignment. You can briefly state how you accompilsh it."
   ]
  },
  {
   "cell_type": "markdown",
   "metadata": {},
   "source": [
    "# II. Data\n",
    "\n",
    "Introduce your data and visualize them. Describe your observations about the data.\n",
    "You can reuse the data that you examined in Assignment #0 (of course for classification). "
   ]
  },
  {
   "cell_type": "markdown",
   "metadata": {},
   "source": [
    "# III. Methods\n",
    "\n",
    "- Summarize the nonlinear classification model. \n",
    "- Inherit the NeuralNet class for regression, implement your own version of Nonlinear Logistic Regression classifier. \n",
    "- Explain your codes. \n",
    "- Use 5-fold cross validation to find a good neural network parameters including the structure and report the test accuracy. "
   ]
  },
  {
   "cell_type": "code",
   "execution_count": null,
   "metadata": {
    "collapsed": true
   },
   "outputs": [],
   "source": [
    "from nn import NeuralNet\n",
    "\n",
    "class NeuralNetLogReg(NeuralNet):\n",
    "    \"\"\" Nonlinear Logistic Regression\n",
    "    \"\"\"\n",
    "\n",
    "    # if you think, you need additional items to initialize here,\n",
    "    # add your code for it here\n",
    "    def __init__(self, nunits):\n",
    "        pass\n",
    "\n",
    "    # Looking at the final summary or comparison table in lecture note,\n",
    "    # add your codes for forward pass for logistic regression\n",
    "    def forward(self, X):\n",
    "        pass\n",
    "\n",
    "    # This is the error function that we want to minimize\n",
    "    # what was it? take a look at the lecture note to fill in\n",
    "    def _objectf(self, T, Y, wpenalty):\n",
    "        pass\n",
    "\n",
    "    # you must reuse the NeuralNet train since you already modified\n",
    "    # the objective or error function (maybe both), \n",
    "    # you do not have many to change here.\n",
    "    # MAKE SURE convert a vector label T to indicator matrix and \n",
    "    # feed that for training\n",
    "    def train(self, X, T, **params):\n",
    "        pass\n",
    "\n",
    "    # going through forward pass, you will have the probabilities for each label\n",
    "    # now, you can use argmax to find class labels\n",
    "    # return both label and probabilities        \n",
    "    def use(self, X):\n",
    "        pass\n"
   ]
  },
  {
   "cell_type": "markdown",
   "metadata": {},
   "source": [
    "# IV - Results\n",
    "\n",
    "- Pick one of classifieres in Assignment #2 and compare with Nonlinear Logistic Regression.\n",
    "- Presents the results of applications of thw two classifiers.\n",
    "- Visualize the results \n",
    "- Discuss about the choice of parameters for each model \n",
    "- What do you think about the results? "
   ]
  },
  {
   "cell_type": "markdown",
   "metadata": {},
   "source": [
    "# Conclusions\n",
    "\n",
    "Discuss the challenges or somethat that you learned. \n",
    "If you have any suggestion about the assignment, you can write about it. "
   ]
  },
  {
   "cell_type": "markdown",
   "metadata": {},
   "source": [
    "# Extra Credit\n",
    "\n",
    "One extra credit is assigned when finish the following bullets. \n",
    "\n",
    "- Try nonlinear regression with neural networks and compare with linear regression model \n",
    "- Use cross validation to discover the best model and compare models. "
   ]
  },
  {
   "cell_type": "markdown",
   "metadata": {},
   "source": [
    "# TO START\n",
    "\n",
    "- download [a4.tgz](http://webpages.uncc.edu/mlee173/teach/itcs6156/notebooks/assign/a4.tgz). \n",
    "- import the necessary classes or functions including NeuralNet.\n",
    "- inherit NeuralNet and make NeuralNetLogReg"
   ]
  },
  {
   "cell_type": "markdown",
   "metadata": {},
   "source": [
    "## Grading\n",
    "\n",
    "DO NOT forget to submit your data! Your notebook is supposed to run fine after running your codes. \n",
    "\n",
    "\n",
    "points | | description\n",
    "--|--|:--\n",
    "5 | Overview| states the objective and the appraoch \n",
    "10 | Data | \n",
    " | 2| Includes description of your data\n",
    " | 3| Plots to visualize data \n",
    " | 5| Reading and analyzing the plots \n",
    "45 | Methods | \n",
    " | 5| Summary of Neural Networks\n",
    " | 5| Summary of Nonlinear Logistic Regression\n",
    " | 5| Explanation of codes\n",
    " |10| Examination of correct implementation with preliminary test with *explanation (5 pts)*\n",
    " |20| Cross validation codes and explanation \n",
    "35 | Results | Your Data\n",
    "| 20| plots for results (10 pts for each classifier)\n",
    "| 5| Discussions about parameter/network structure choice \n",
    "| 5| Discussions about classificaion model comparison\n",
    "| 5| Discussion about the classification results. Try to analyze what nonlinear logistic regression learned. \n",
    "5 | Conclusions \n"
   ]
  }
 ],
 "metadata": {
  "kernelspec": {
   "display_name": "Python 3",
   "language": "python",
   "name": "python3"
  },
  "language_info": {
   "codemirror_mode": {
    "name": "ipython",
    "version": 3
   },
   "file_extension": ".py",
   "mimetype": "text/x-python",
   "name": "python",
   "nbconvert_exporter": "python",
   "pygments_lexer": "ipython3",
   "version": "3.6.1"
  }
 },
 "nbformat": 4,
 "nbformat_minor": 2
}
