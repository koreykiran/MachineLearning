{
 "cells": [
  {
   "cell_type": "markdown",
   "metadata": {},
   "source": [
    "# Assignment #0 - Data and Visualization\n",
    "\n",
    "<font color=\"red\"> <b> Due: January 29 (Monday) 11:00 pm </b> </font>\n"
   ]
  },
  {
   "cell_type": "markdown",
   "metadata": {},
   "source": [
    "<font color=\"blue\"> type your name here </font>"
   ]
  },
  {
   "cell_type": "markdown",
   "metadata": {},
   "source": [
    "# Overview\n",
    "\n",
    "In this assignment, you are getting familiar to the tools including Python, numpy, matplotlib, pandas, and Jupyter notebook. Search for data one for classification and one for regression from any data source. \n",
    "The data should to be large enough more than 10,000 samples and more than 10 feature values. "
   ]
  },
  {
   "cell_type": "markdown",
   "metadata": {},
   "source": [
    "# Data\n",
    "\n",
    "Introduce your data and visualize them. Describe your observations about the data."
   ]
  },
  {
   "cell_type": "markdown",
   "metadata": {},
   "source": [
    "# Conclusions\n",
    "\n",
    "Discuss the challenges or somethat that you learned. \n",
    "If you have any suggestion about the assignment, you can write about it. "
   ]
  },
  {
   "cell_type": "markdown",
   "metadata": {},
   "source": [
    "# References\n",
    "\n",
    "List your references here... "
   ]
  },
  {
   "cell_type": "markdown",
   "metadata": {},
   "source": [
    "## Grading\n",
    "\n",
    "DO NOT forget to submit your data! Your notebook is supposed to run fine after running your codes. \n",
    "\n",
    "\n",
    "Points | | Description\n",
    "--|--|:--\n",
    "10 | Introduction  \n",
    "80 | Data | \n",
    " | 5| Introduction of data for regression\n",
    " | 5| Source of the data \n",
    " | 5| Reading the data \n",
    " | 5| Preprocessing of the data \n",
    " | 10| Visualization of the data \n",
    " | 10| Preliminary observation \n",
    " | 5| Introduction of data for Classification \n",
    " | 5| Source of the data \n",
    " | 5| Reading the data \n",
    " | 5| Preprocessing of the data \n",
    " | 10| Visualization of the data \n",
    " | 10| Preliminary observation \n",
    "5 | Conclusions \n",
    "5 | References \n",
    "\n"
   ]
  }
 ],
 "metadata": {
  "kernelspec": {
   "display_name": "Python 3",
   "language": "python",
   "name": "python3"
  },
  "language_info": {
   "codemirror_mode": {
    "name": "ipython",
    "version": 3
   },
   "file_extension": ".py",
   "mimetype": "text/x-python",
   "name": "python",
   "nbconvert_exporter": "python",
   "pygments_lexer": "ipython3",
   "version": "3.6.1"
  }
 },
 "nbformat": 4,
 "nbformat_minor": 2
}
