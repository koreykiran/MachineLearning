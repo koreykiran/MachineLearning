{
 "cells": [
  {
   "cell_type": "markdown",
   "metadata": {},
   "source": [
    "# Assignment #1 - Linear Regression\n",
    "\n",
    "<font color=\"red\"> <b> Due: Feb 12 (Monday) 11:00 pm </b> </font>"
   ]
  },
  {
   "cell_type": "markdown",
   "metadata": {},
   "source": [
    "<font color=\"blue\"> Anonymous </font>"
   ]
  },
  {
   "cell_type": "markdown",
   "metadata": {},
   "source": [
    "# Introduction\n",
    "\n",
    "Describe the objective of this assignment. You can briefly state how you accompilsh it.\n",
    "<br>\n",
    "<br>\n",
    "<br>\n",
    "\n",
    "This assignment is designed to understand the internal working of the Linear Regression model for Machine Learning. By the end of the assignment we must be familiar with the meaning of the terms Supervised Learning, Input data and Target variables, training samples, hypotheses and prediction of new data. \n",
    "\n",
    "We implement two Linear Regression models using the two different metrics - Least Squares and Least Mean Squares. \n",
    "\n",
    "We understand how the model trains the input data along with the target variables ( Supervised Learning ) and then uses the model to predict future values. \n",
    "\n",
    "We learn how to preprocess and clean data found from different sources and feed it into the Linear Regression Model for training. \n",
    "\n",
    "We use this model to plot the prediction model that is ready to predict for new values. "
   ]
  },
  {
   "cell_type": "markdown",
   "metadata": {},
   "source": [
    "# Data\n",
    "\n",
    "Introduce your data and visualize them. Describe your observations about the data.\n",
    "You can reuse the data that you examined in Assignment #0. "
   ]
  },
  {
   "cell_type": "markdown",
   "metadata": {},
   "source": [
    "### INTRODUCTION OF DATA \n",
    "\n",
    "The data set is simulated with the following attributes\n",
    "\n",
    "\n",
    "    Satisfaction Level - How satisfied the employees are on a scale of 0 - 1\n",
    "    Last evaluation - The score on their last evalutaion on a scale of 0 - 1 \n",
    "    Number of projects - projects completed\n",
    "    Average monthly hours - average of the worked hours in a month\n",
    "    Time spent at the company - number of years spent in the company \n",
    "    Whether they have had a work accident - Yes/No \n",
    "    Whether they have had a promotion in the last 5 years - Yes/No\n",
    "    Departments (column sales) - Department of the employee\n",
    "    Salary - Salary range ( LOW < MEDIUM < HIGH )\n",
    "    Whether the employee has left - Yes/No \n",
    "    \n",
    "#### The dataset can be used to find out about the correlation of the various attrbutes with each other and to compute the risk of attrition of the company which can be useful to the executive management of the company in managing the Human Resources. We can see the relationship of each of the variables with the target variable 'Satisfaction Level' and design a regression model. We can also select the most significant and least significant features. \n",
    "\n",
    "Source : "
   ]
  },
  {
   "cell_type": "markdown",
   "metadata": {},
   "source": [
    "### PREPROCESSING THE DATA"
   ]
  },
  {
   "cell_type": "code",
   "execution_count": 1,
   "metadata": {
    "collapsed": true
   },
   "outputs": [],
   "source": [
    "import pandas as pd\n",
    "import matplotlib.pyplot as plt\n",
    "%matplotlib inline\n",
    "import numpy as np"
   ]
  },
  {
   "cell_type": "code",
   "execution_count": 71,
   "metadata": {
    "collapsed": true
   },
   "outputs": [],
   "source": [
    "df = pd.read_csv(\"HR_comma_sep.csv\")"
   ]
  },
  {
   "cell_type": "code",
   "execution_count": 3,
   "metadata": {
    "collapsed": true
   },
   "outputs": [],
   "source": [
    "import plotly.plotly as py\n",
    "from plotly.graph_objs import *\n",
    "from plotly.offline import plot"
   ]
  },
  {
   "cell_type": "code",
   "execution_count": 4,
   "metadata": {},
   "outputs": [
    {
     "data": {
      "text/plain": [
       "(14999, 10)"
      ]
     },
     "execution_count": 4,
     "metadata": {},
     "output_type": "execute_result"
    }
   ],
   "source": [
    "df.shape #Number of rows x columns of the dataset "
   ]
  },
  {
   "cell_type": "code",
   "execution_count": 72,
   "metadata": {
    "collapsed": true
   },
   "outputs": [],
   "source": [
    "df = df.rename(columns={'sales': 'department',}) \n",
    "#Renaming the column name to \"department\", as \"Sales\" is one of the departments"
   ]
  },
  {
   "cell_type": "code",
   "execution_count": 6,
   "metadata": {},
   "outputs": [
    {
     "data": {
      "text/html": [
       "<div>\n",
       "<style scoped>\n",
       "    .dataframe tbody tr th:only-of-type {\n",
       "        vertical-align: middle;\n",
       "    }\n",
       "\n",
       "    .dataframe tbody tr th {\n",
       "        vertical-align: top;\n",
       "    }\n",
       "\n",
       "    .dataframe thead th {\n",
       "        text-align: right;\n",
       "    }\n",
       "</style>\n",
       "<table border=\"1\" class=\"dataframe\">\n",
       "  <thead>\n",
       "    <tr style=\"text-align: right;\">\n",
       "      <th></th>\n",
       "      <th>satisfaction_level</th>\n",
       "      <th>last_evaluation</th>\n",
       "      <th>number_project</th>\n",
       "      <th>average_montly_hours</th>\n",
       "      <th>time_spend_company_years</th>\n",
       "      <th>Work_accident</th>\n",
       "      <th>left_company</th>\n",
       "      <th>promotion_last_5years</th>\n",
       "      <th>department</th>\n",
       "      <th>salary</th>\n",
       "    </tr>\n",
       "  </thead>\n",
       "  <tbody>\n",
       "    <tr>\n",
       "      <th>0</th>\n",
       "      <td>0.38</td>\n",
       "      <td>0.53</td>\n",
       "      <td>2</td>\n",
       "      <td>157</td>\n",
       "      <td>3</td>\n",
       "      <td>0</td>\n",
       "      <td>1</td>\n",
       "      <td>0</td>\n",
       "      <td>sales</td>\n",
       "      <td>low</td>\n",
       "    </tr>\n",
       "    <tr>\n",
       "      <th>1</th>\n",
       "      <td>0.80</td>\n",
       "      <td>0.86</td>\n",
       "      <td>5</td>\n",
       "      <td>262</td>\n",
       "      <td>6</td>\n",
       "      <td>0</td>\n",
       "      <td>1</td>\n",
       "      <td>0</td>\n",
       "      <td>sales</td>\n",
       "      <td>medium</td>\n",
       "    </tr>\n",
       "    <tr>\n",
       "      <th>2</th>\n",
       "      <td>0.11</td>\n",
       "      <td>0.88</td>\n",
       "      <td>7</td>\n",
       "      <td>272</td>\n",
       "      <td>4</td>\n",
       "      <td>0</td>\n",
       "      <td>1</td>\n",
       "      <td>0</td>\n",
       "      <td>sales</td>\n",
       "      <td>medium</td>\n",
       "    </tr>\n",
       "    <tr>\n",
       "      <th>3</th>\n",
       "      <td>0.72</td>\n",
       "      <td>0.87</td>\n",
       "      <td>5</td>\n",
       "      <td>223</td>\n",
       "      <td>5</td>\n",
       "      <td>0</td>\n",
       "      <td>1</td>\n",
       "      <td>0</td>\n",
       "      <td>sales</td>\n",
       "      <td>low</td>\n",
       "    </tr>\n",
       "    <tr>\n",
       "      <th>4</th>\n",
       "      <td>0.37</td>\n",
       "      <td>0.52</td>\n",
       "      <td>2</td>\n",
       "      <td>159</td>\n",
       "      <td>3</td>\n",
       "      <td>0</td>\n",
       "      <td>1</td>\n",
       "      <td>0</td>\n",
       "      <td>sales</td>\n",
       "      <td>low</td>\n",
       "    </tr>\n",
       "    <tr>\n",
       "      <th>5</th>\n",
       "      <td>0.41</td>\n",
       "      <td>0.50</td>\n",
       "      <td>2</td>\n",
       "      <td>153</td>\n",
       "      <td>3</td>\n",
       "      <td>0</td>\n",
       "      <td>1</td>\n",
       "      <td>0</td>\n",
       "      <td>sales</td>\n",
       "      <td>low</td>\n",
       "    </tr>\n",
       "    <tr>\n",
       "      <th>6</th>\n",
       "      <td>0.10</td>\n",
       "      <td>0.77</td>\n",
       "      <td>6</td>\n",
       "      <td>247</td>\n",
       "      <td>4</td>\n",
       "      <td>0</td>\n",
       "      <td>1</td>\n",
       "      <td>0</td>\n",
       "      <td>sales</td>\n",
       "      <td>low</td>\n",
       "    </tr>\n",
       "    <tr>\n",
       "      <th>7</th>\n",
       "      <td>0.92</td>\n",
       "      <td>0.85</td>\n",
       "      <td>5</td>\n",
       "      <td>259</td>\n",
       "      <td>5</td>\n",
       "      <td>0</td>\n",
       "      <td>1</td>\n",
       "      <td>0</td>\n",
       "      <td>sales</td>\n",
       "      <td>low</td>\n",
       "    </tr>\n",
       "    <tr>\n",
       "      <th>8</th>\n",
       "      <td>0.89</td>\n",
       "      <td>1.00</td>\n",
       "      <td>5</td>\n",
       "      <td>224</td>\n",
       "      <td>5</td>\n",
       "      <td>0</td>\n",
       "      <td>1</td>\n",
       "      <td>0</td>\n",
       "      <td>sales</td>\n",
       "      <td>low</td>\n",
       "    </tr>\n",
       "    <tr>\n",
       "      <th>9</th>\n",
       "      <td>0.42</td>\n",
       "      <td>0.53</td>\n",
       "      <td>2</td>\n",
       "      <td>142</td>\n",
       "      <td>3</td>\n",
       "      <td>0</td>\n",
       "      <td>1</td>\n",
       "      <td>0</td>\n",
       "      <td>sales</td>\n",
       "      <td>low</td>\n",
       "    </tr>\n",
       "  </tbody>\n",
       "</table>\n",
       "</div>"
      ],
      "text/plain": [
       "   satisfaction_level  last_evaluation  number_project  average_montly_hours  \\\n",
       "0                0.38             0.53               2                   157   \n",
       "1                0.80             0.86               5                   262   \n",
       "2                0.11             0.88               7                   272   \n",
       "3                0.72             0.87               5                   223   \n",
       "4                0.37             0.52               2                   159   \n",
       "5                0.41             0.50               2                   153   \n",
       "6                0.10             0.77               6                   247   \n",
       "7                0.92             0.85               5                   259   \n",
       "8                0.89             1.00               5                   224   \n",
       "9                0.42             0.53               2                   142   \n",
       "\n",
       "   time_spend_company_years  Work_accident  left_company  \\\n",
       "0                         3              0             1   \n",
       "1                         6              0             1   \n",
       "2                         4              0             1   \n",
       "3                         5              0             1   \n",
       "4                         3              0             1   \n",
       "5                         3              0             1   \n",
       "6                         4              0             1   \n",
       "7                         5              0             1   \n",
       "8                         5              0             1   \n",
       "9                         3              0             1   \n",
       "\n",
       "   promotion_last_5years department  salary  \n",
       "0                      0      sales     low  \n",
       "1                      0      sales  medium  \n",
       "2                      0      sales  medium  \n",
       "3                      0      sales     low  \n",
       "4                      0      sales     low  \n",
       "5                      0      sales     low  \n",
       "6                      0      sales     low  \n",
       "7                      0      sales     low  \n",
       "8                      0      sales     low  \n",
       "9                      0      sales     low  "
      ]
     },
     "execution_count": 6,
     "metadata": {},
     "output_type": "execute_result"
    }
   ],
   "source": [
    "df.head(10)"
   ]
  },
  {
   "cell_type": "code",
   "execution_count": 7,
   "metadata": {},
   "outputs": [
    {
     "data": {
      "text/html": [
       "<div>\n",
       "<style scoped>\n",
       "    .dataframe tbody tr th:only-of-type {\n",
       "        vertical-align: middle;\n",
       "    }\n",
       "\n",
       "    .dataframe tbody tr th {\n",
       "        vertical-align: top;\n",
       "    }\n",
       "\n",
       "    .dataframe thead th {\n",
       "        text-align: right;\n",
       "    }\n",
       "</style>\n",
       "<table border=\"1\" class=\"dataframe\">\n",
       "  <thead>\n",
       "    <tr style=\"text-align: right;\">\n",
       "      <th></th>\n",
       "      <th>satisfaction_level</th>\n",
       "      <th>last_evaluation</th>\n",
       "      <th>number_project</th>\n",
       "      <th>average_montly_hours</th>\n",
       "      <th>time_spend_company_years</th>\n",
       "      <th>Work_accident</th>\n",
       "      <th>left_company</th>\n",
       "      <th>promotion_last_5years</th>\n",
       "    </tr>\n",
       "  </thead>\n",
       "  <tbody>\n",
       "    <tr>\n",
       "      <th>count</th>\n",
       "      <td>14999.000000</td>\n",
       "      <td>14999.000000</td>\n",
       "      <td>14999.000000</td>\n",
       "      <td>14999.000000</td>\n",
       "      <td>14999.000000</td>\n",
       "      <td>14999.000000</td>\n",
       "      <td>14999.000000</td>\n",
       "      <td>14999.000000</td>\n",
       "    </tr>\n",
       "    <tr>\n",
       "      <th>mean</th>\n",
       "      <td>0.612834</td>\n",
       "      <td>0.716102</td>\n",
       "      <td>3.803054</td>\n",
       "      <td>201.050337</td>\n",
       "      <td>3.498233</td>\n",
       "      <td>0.144610</td>\n",
       "      <td>0.238083</td>\n",
       "      <td>0.021268</td>\n",
       "    </tr>\n",
       "    <tr>\n",
       "      <th>std</th>\n",
       "      <td>0.248631</td>\n",
       "      <td>0.171169</td>\n",
       "      <td>1.232592</td>\n",
       "      <td>49.943099</td>\n",
       "      <td>1.460136</td>\n",
       "      <td>0.351719</td>\n",
       "      <td>0.425924</td>\n",
       "      <td>0.144281</td>\n",
       "    </tr>\n",
       "    <tr>\n",
       "      <th>min</th>\n",
       "      <td>0.090000</td>\n",
       "      <td>0.360000</td>\n",
       "      <td>2.000000</td>\n",
       "      <td>96.000000</td>\n",
       "      <td>2.000000</td>\n",
       "      <td>0.000000</td>\n",
       "      <td>0.000000</td>\n",
       "      <td>0.000000</td>\n",
       "    </tr>\n",
       "    <tr>\n",
       "      <th>25%</th>\n",
       "      <td>0.440000</td>\n",
       "      <td>0.560000</td>\n",
       "      <td>3.000000</td>\n",
       "      <td>156.000000</td>\n",
       "      <td>3.000000</td>\n",
       "      <td>0.000000</td>\n",
       "      <td>0.000000</td>\n",
       "      <td>0.000000</td>\n",
       "    </tr>\n",
       "    <tr>\n",
       "      <th>50%</th>\n",
       "      <td>0.640000</td>\n",
       "      <td>0.720000</td>\n",
       "      <td>4.000000</td>\n",
       "      <td>200.000000</td>\n",
       "      <td>3.000000</td>\n",
       "      <td>0.000000</td>\n",
       "      <td>0.000000</td>\n",
       "      <td>0.000000</td>\n",
       "    </tr>\n",
       "    <tr>\n",
       "      <th>75%</th>\n",
       "      <td>0.820000</td>\n",
       "      <td>0.870000</td>\n",
       "      <td>5.000000</td>\n",
       "      <td>245.000000</td>\n",
       "      <td>4.000000</td>\n",
       "      <td>0.000000</td>\n",
       "      <td>0.000000</td>\n",
       "      <td>0.000000</td>\n",
       "    </tr>\n",
       "    <tr>\n",
       "      <th>max</th>\n",
       "      <td>1.000000</td>\n",
       "      <td>1.000000</td>\n",
       "      <td>7.000000</td>\n",
       "      <td>310.000000</td>\n",
       "      <td>10.000000</td>\n",
       "      <td>1.000000</td>\n",
       "      <td>1.000000</td>\n",
       "      <td>1.000000</td>\n",
       "    </tr>\n",
       "  </tbody>\n",
       "</table>\n",
       "</div>"
      ],
      "text/plain": [
       "       satisfaction_level  last_evaluation  number_project  \\\n",
       "count        14999.000000     14999.000000    14999.000000   \n",
       "mean             0.612834         0.716102        3.803054   \n",
       "std              0.248631         0.171169        1.232592   \n",
       "min              0.090000         0.360000        2.000000   \n",
       "25%              0.440000         0.560000        3.000000   \n",
       "50%              0.640000         0.720000        4.000000   \n",
       "75%              0.820000         0.870000        5.000000   \n",
       "max              1.000000         1.000000        7.000000   \n",
       "\n",
       "       average_montly_hours  time_spend_company_years  Work_accident  \\\n",
       "count          14999.000000              14999.000000   14999.000000   \n",
       "mean             201.050337                  3.498233       0.144610   \n",
       "std               49.943099                  1.460136       0.351719   \n",
       "min               96.000000                  2.000000       0.000000   \n",
       "25%              156.000000                  3.000000       0.000000   \n",
       "50%              200.000000                  3.000000       0.000000   \n",
       "75%              245.000000                  4.000000       0.000000   \n",
       "max              310.000000                 10.000000       1.000000   \n",
       "\n",
       "       left_company  promotion_last_5years  \n",
       "count  14999.000000           14999.000000  \n",
       "mean       0.238083               0.021268  \n",
       "std        0.425924               0.144281  \n",
       "min        0.000000               0.000000  \n",
       "25%        0.000000               0.000000  \n",
       "50%        0.000000               0.000000  \n",
       "75%        0.000000               0.000000  \n",
       "max        1.000000               1.000000  "
      ]
     },
     "execution_count": 7,
     "metadata": {},
     "output_type": "execute_result"
    }
   ],
   "source": [
    "df.describe()"
   ]
  },
  {
   "cell_type": "code",
   "execution_count": 43,
   "metadata": {},
   "outputs": [
    {
     "data": {
      "text/plain": [
       "satisfaction_level          0\n",
       "last_evaluation             0\n",
       "number_project              0\n",
       "average_montly_hours        0\n",
       "time_spend_company_years    0\n",
       "Work_accident               0\n",
       "left_company                0\n",
       "promotion_last_5years       0\n",
       "department                  0\n",
       "salary                      0\n",
       "dtype: int64"
      ]
     },
     "execution_count": 43,
     "metadata": {},
     "output_type": "execute_result"
    }
   ],
   "source": [
    "#Checking for missing values\n",
    "df.isnull().sum()\n",
    "\n",
    "#We observe that there are no missing values to handle "
   ]
  },
  {
   "cell_type": "code",
   "execution_count": 45,
   "metadata": {},
   "outputs": [
    {
     "data": {
      "text/plain": [
       "array(['sales', 'accounting', 'hr', 'technical', 'support', 'management',\n",
       "       'IT', 'product_mng', 'marketing', 'RandD'], dtype=object)"
      ]
     },
     "execution_count": 45,
     "metadata": {},
     "output_type": "execute_result"
    }
   ],
   "source": [
    "df.department.unique()"
   ]
  },
  {
   "cell_type": "code",
   "execution_count": 47,
   "metadata": {},
   "outputs": [
    {
     "data": {
      "text/plain": [
       "array(['low', 'medium', 'high'], dtype=object)"
      ]
     },
     "execution_count": 47,
     "metadata": {},
     "output_type": "execute_result"
    }
   ],
   "source": [
    "df.salary.unique()"
   ]
  },
  {
   "cell_type": "code",
   "execution_count": 51,
   "metadata": {},
   "outputs": [
    {
     "data": {
      "text/plain": [
       "array([[ 0.38,  0.53,  2.  , ...,  0.  ,  1.  ,  1.  ],\n",
       "       [ 0.8 ,  0.86,  5.  , ...,  0.  ,  1.  ,  2.  ],\n",
       "       [ 0.11,  0.88,  7.  , ...,  0.  ,  1.  ,  2.  ],\n",
       "       ..., \n",
       "       [ 0.37,  0.53,  2.  , ...,  0.  ,  5.  ,  1.  ],\n",
       "       [ 0.11,  0.96,  6.  , ...,  0.  ,  5.  ,  1.  ],\n",
       "       [ 0.37,  0.52,  2.  , ...,  0.  ,  5.  ,  1.  ]])"
      ]
     },
     "execution_count": 51,
     "metadata": {},
     "output_type": "execute_result"
    }
   ],
   "source": [
    "deptdic = {b'sales': 1, b'accounting':2, b'hr':3, b'technical':4, b'support':5, b'management':6, \n",
    "            b'IT': 7, b'product_mng':8, b'marketing':9, b'RandD':10}\n",
    "saldic = {b'low': 1, b'medium':2, b'high':3}\n",
    "\n",
    "def dept_conv(s):\n",
    "    return deptdic[s]\n",
    "\n",
    "def sal_conv(s):\n",
    "    return saldic[s]\n",
    "\n",
    "dat = np.loadtxt(\"HR_comma_sep.csv\", delimiter=',', skiprows=1,\n",
    "                 converters={8:dept_conv, 9:sal_conv})\n",
    "dat"
   ]
  },
  {
   "cell_type": "code",
   "execution_count": 52,
   "metadata": {},
   "outputs": [
    {
     "data": {
      "text/plain": [
       "False"
      ]
     },
     "execution_count": 52,
     "metadata": {},
     "output_type": "execute_result"
    }
   ],
   "source": [
    "np.any(np.isnan(dat))"
   ]
  },
  {
   "cell_type": "code",
   "execution_count": 73,
   "metadata": {},
   "outputs": [
    {
     "data": {
      "text/html": [
       "<div>\n",
       "<style scoped>\n",
       "    .dataframe tbody tr th:only-of-type {\n",
       "        vertical-align: middle;\n",
       "    }\n",
       "\n",
       "    .dataframe tbody tr th {\n",
       "        vertical-align: top;\n",
       "    }\n",
       "\n",
       "    .dataframe thead th {\n",
       "        text-align: right;\n",
       "    }\n",
       "</style>\n",
       "<table border=\"1\" class=\"dataframe\">\n",
       "  <thead>\n",
       "    <tr style=\"text-align: right;\">\n",
       "      <th></th>\n",
       "      <th>satisfaction_level</th>\n",
       "      <th>last_evaluation</th>\n",
       "      <th>number_project</th>\n",
       "      <th>average_montly_hours</th>\n",
       "      <th>time_spend_company</th>\n",
       "      <th>Work_accident</th>\n",
       "      <th>left</th>\n",
       "      <th>promotion_last_5years</th>\n",
       "      <th>department</th>\n",
       "      <th>salary</th>\n",
       "    </tr>\n",
       "  </thead>\n",
       "  <tbody>\n",
       "    <tr>\n",
       "      <th>0</th>\n",
       "      <td>0.38</td>\n",
       "      <td>0.53</td>\n",
       "      <td>2</td>\n",
       "      <td>157</td>\n",
       "      <td>3</td>\n",
       "      <td>0</td>\n",
       "      <td>1</td>\n",
       "      <td>0</td>\n",
       "      <td>sales</td>\n",
       "      <td>low</td>\n",
       "    </tr>\n",
       "    <tr>\n",
       "      <th>1</th>\n",
       "      <td>0.80</td>\n",
       "      <td>0.86</td>\n",
       "      <td>5</td>\n",
       "      <td>262</td>\n",
       "      <td>6</td>\n",
       "      <td>0</td>\n",
       "      <td>1</td>\n",
       "      <td>0</td>\n",
       "      <td>sales</td>\n",
       "      <td>medium</td>\n",
       "    </tr>\n",
       "    <tr>\n",
       "      <th>2</th>\n",
       "      <td>0.11</td>\n",
       "      <td>0.88</td>\n",
       "      <td>7</td>\n",
       "      <td>272</td>\n",
       "      <td>4</td>\n",
       "      <td>0</td>\n",
       "      <td>1</td>\n",
       "      <td>0</td>\n",
       "      <td>sales</td>\n",
       "      <td>medium</td>\n",
       "    </tr>\n",
       "    <tr>\n",
       "      <th>3</th>\n",
       "      <td>0.72</td>\n",
       "      <td>0.87</td>\n",
       "      <td>5</td>\n",
       "      <td>223</td>\n",
       "      <td>5</td>\n",
       "      <td>0</td>\n",
       "      <td>1</td>\n",
       "      <td>0</td>\n",
       "      <td>sales</td>\n",
       "      <td>low</td>\n",
       "    </tr>\n",
       "    <tr>\n",
       "      <th>4</th>\n",
       "      <td>0.37</td>\n",
       "      <td>0.52</td>\n",
       "      <td>2</td>\n",
       "      <td>159</td>\n",
       "      <td>3</td>\n",
       "      <td>0</td>\n",
       "      <td>1</td>\n",
       "      <td>0</td>\n",
       "      <td>sales</td>\n",
       "      <td>low</td>\n",
       "    </tr>\n",
       "  </tbody>\n",
       "</table>\n",
       "</div>"
      ],
      "text/plain": [
       "   satisfaction_level  last_evaluation  number_project  average_montly_hours  \\\n",
       "0                0.38             0.53               2                   157   \n",
       "1                0.80             0.86               5                   262   \n",
       "2                0.11             0.88               7                   272   \n",
       "3                0.72             0.87               5                   223   \n",
       "4                0.37             0.52               2                   159   \n",
       "\n",
       "   time_spend_company  Work_accident  left  promotion_last_5years department  \\\n",
       "0                   3              0     1                      0      sales   \n",
       "1                   6              0     1                      0      sales   \n",
       "2                   4              0     1                      0      sales   \n",
       "3                   5              0     1                      0      sales   \n",
       "4                   3              0     1                      0      sales   \n",
       "\n",
       "   salary  \n",
       "0     low  \n",
       "1  medium  \n",
       "2  medium  \n",
       "3     low  \n",
       "4     low  "
      ]
     },
     "execution_count": 73,
     "metadata": {},
     "output_type": "execute_result"
    }
   ],
   "source": [
    "newdf = df\n",
    "newdf.head(5)"
   ]
  },
  {
   "cell_type": "code",
   "execution_count": 74,
   "metadata": {},
   "outputs": [
    {
     "data": {
      "text/html": [
       "<div>\n",
       "<style scoped>\n",
       "    .dataframe tbody tr th:only-of-type {\n",
       "        vertical-align: middle;\n",
       "    }\n",
       "\n",
       "    .dataframe tbody tr th {\n",
       "        vertical-align: top;\n",
       "    }\n",
       "\n",
       "    .dataframe thead th {\n",
       "        text-align: right;\n",
       "    }\n",
       "</style>\n",
       "<table border=\"1\" class=\"dataframe\">\n",
       "  <thead>\n",
       "    <tr style=\"text-align: right;\">\n",
       "      <th></th>\n",
       "      <th>satisfaction_level</th>\n",
       "      <th>last_evaluation</th>\n",
       "      <th>number_project</th>\n",
       "      <th>average_montly_hours</th>\n",
       "      <th>time_spend_company</th>\n",
       "      <th>Work_accident</th>\n",
       "      <th>left</th>\n",
       "      <th>promotion_last_5years</th>\n",
       "      <th>department</th>\n",
       "      <th>salary</th>\n",
       "    </tr>\n",
       "  </thead>\n",
       "  <tbody>\n",
       "    <tr>\n",
       "      <th>0</th>\n",
       "      <td>0.38</td>\n",
       "      <td>0.53</td>\n",
       "      <td>2</td>\n",
       "      <td>157</td>\n",
       "      <td>3</td>\n",
       "      <td>0</td>\n",
       "      <td>1</td>\n",
       "      <td>0</td>\n",
       "      <td>1</td>\n",
       "      <td>1</td>\n",
       "    </tr>\n",
       "    <tr>\n",
       "      <th>1</th>\n",
       "      <td>0.80</td>\n",
       "      <td>0.86</td>\n",
       "      <td>5</td>\n",
       "      <td>262</td>\n",
       "      <td>6</td>\n",
       "      <td>0</td>\n",
       "      <td>1</td>\n",
       "      <td>0</td>\n",
       "      <td>1</td>\n",
       "      <td>2</td>\n",
       "    </tr>\n",
       "    <tr>\n",
       "      <th>2</th>\n",
       "      <td>0.11</td>\n",
       "      <td>0.88</td>\n",
       "      <td>7</td>\n",
       "      <td>272</td>\n",
       "      <td>4</td>\n",
       "      <td>0</td>\n",
       "      <td>1</td>\n",
       "      <td>0</td>\n",
       "      <td>1</td>\n",
       "      <td>2</td>\n",
       "    </tr>\n",
       "    <tr>\n",
       "      <th>3</th>\n",
       "      <td>0.72</td>\n",
       "      <td>0.87</td>\n",
       "      <td>5</td>\n",
       "      <td>223</td>\n",
       "      <td>5</td>\n",
       "      <td>0</td>\n",
       "      <td>1</td>\n",
       "      <td>0</td>\n",
       "      <td>1</td>\n",
       "      <td>1</td>\n",
       "    </tr>\n",
       "    <tr>\n",
       "      <th>4</th>\n",
       "      <td>0.37</td>\n",
       "      <td>0.52</td>\n",
       "      <td>2</td>\n",
       "      <td>159</td>\n",
       "      <td>3</td>\n",
       "      <td>0</td>\n",
       "      <td>1</td>\n",
       "      <td>0</td>\n",
       "      <td>1</td>\n",
       "      <td>1</td>\n",
       "    </tr>\n",
       "  </tbody>\n",
       "</table>\n",
       "</div>"
      ],
      "text/plain": [
       "   satisfaction_level  last_evaluation  number_project  average_montly_hours  \\\n",
       "0                0.38             0.53               2                   157   \n",
       "1                0.80             0.86               5                   262   \n",
       "2                0.11             0.88               7                   272   \n",
       "3                0.72             0.87               5                   223   \n",
       "4                0.37             0.52               2                   159   \n",
       "\n",
       "   time_spend_company  Work_accident  left  promotion_last_5years  department  \\\n",
       "0                   3              0     1                      0           1   \n",
       "1                   6              0     1                      0           1   \n",
       "2                   4              0     1                      0           1   \n",
       "3                   5              0     1                      0           1   \n",
       "4                   3              0     1                      0           1   \n",
       "\n",
       "   salary  \n",
       "0       1  \n",
       "1       2  \n",
       "2       2  \n",
       "3       1  \n",
       "4       1  "
      ]
     },
     "execution_count": 74,
     "metadata": {},
     "output_type": "execute_result"
    }
   ],
   "source": [
    "#Coverting strings to numbers in the pandas dataframe\n",
    "deptdic = {'sales': 1, 'accounting':2, 'hr':3, 'technical':4, 'support':5, 'management':6, \n",
    "            'IT': 7, 'product_mng':8, 'marketing':9, 'RandD':10}\n",
    "saldic = {'low': 1, 'medium':2, 'high':3}\n",
    "\n",
    "newdf['department'] = df['department'].apply(lambda x: deptdic[x])\n",
    "newdf['salary'] = df['salary'].apply(lambda x: saldic[x])\n",
    "newdf.head(5)"
   ]
  },
  {
   "cell_type": "code",
   "execution_count": 76,
   "metadata": {},
   "outputs": [
    {
     "data": {
      "text/html": [
       "<div>\n",
       "<style scoped>\n",
       "    .dataframe tbody tr th:only-of-type {\n",
       "        vertical-align: middle;\n",
       "    }\n",
       "\n",
       "    .dataframe tbody tr th {\n",
       "        vertical-align: top;\n",
       "    }\n",
       "\n",
       "    .dataframe thead th {\n",
       "        text-align: right;\n",
       "    }\n",
       "</style>\n",
       "<table border=\"1\" class=\"dataframe\">\n",
       "  <thead>\n",
       "    <tr style=\"text-align: right;\">\n",
       "      <th></th>\n",
       "      <th>satisfaction_level</th>\n",
       "      <th>last_evaluation</th>\n",
       "      <th>number_project</th>\n",
       "      <th>average_montly_hours</th>\n",
       "      <th>time_spend_company</th>\n",
       "      <th>Work_accident</th>\n",
       "      <th>left</th>\n",
       "      <th>promotion_last_5years</th>\n",
       "      <th>department</th>\n",
       "      <th>salary</th>\n",
       "    </tr>\n",
       "  </thead>\n",
       "  <tbody>\n",
       "    <tr>\n",
       "      <th>0</th>\n",
       "      <td>0.38</td>\n",
       "      <td>0.53</td>\n",
       "      <td>2</td>\n",
       "      <td>157</td>\n",
       "      <td>3</td>\n",
       "      <td>0</td>\n",
       "      <td>1</td>\n",
       "      <td>0</td>\n",
       "      <td>1</td>\n",
       "      <td>1</td>\n",
       "    </tr>\n",
       "    <tr>\n",
       "      <th>1</th>\n",
       "      <td>0.80</td>\n",
       "      <td>0.86</td>\n",
       "      <td>5</td>\n",
       "      <td>262</td>\n",
       "      <td>6</td>\n",
       "      <td>0</td>\n",
       "      <td>1</td>\n",
       "      <td>0</td>\n",
       "      <td>1</td>\n",
       "      <td>2</td>\n",
       "    </tr>\n",
       "    <tr>\n",
       "      <th>2</th>\n",
       "      <td>0.11</td>\n",
       "      <td>0.88</td>\n",
       "      <td>7</td>\n",
       "      <td>272</td>\n",
       "      <td>4</td>\n",
       "      <td>0</td>\n",
       "      <td>1</td>\n",
       "      <td>0</td>\n",
       "      <td>1</td>\n",
       "      <td>2</td>\n",
       "    </tr>\n",
       "    <tr>\n",
       "      <th>3</th>\n",
       "      <td>0.72</td>\n",
       "      <td>0.87</td>\n",
       "      <td>5</td>\n",
       "      <td>223</td>\n",
       "      <td>5</td>\n",
       "      <td>0</td>\n",
       "      <td>1</td>\n",
       "      <td>0</td>\n",
       "      <td>1</td>\n",
       "      <td>1</td>\n",
       "    </tr>\n",
       "    <tr>\n",
       "      <th>4</th>\n",
       "      <td>0.37</td>\n",
       "      <td>0.52</td>\n",
       "      <td>2</td>\n",
       "      <td>159</td>\n",
       "      <td>3</td>\n",
       "      <td>0</td>\n",
       "      <td>1</td>\n",
       "      <td>0</td>\n",
       "      <td>1</td>\n",
       "      <td>1</td>\n",
       "    </tr>\n",
       "  </tbody>\n",
       "</table>\n",
       "</div>"
      ],
      "text/plain": [
       "   satisfaction_level  last_evaluation  number_project  average_montly_hours  \\\n",
       "0                0.38             0.53               2                   157   \n",
       "1                0.80             0.86               5                   262   \n",
       "2                0.11             0.88               7                   272   \n",
       "3                0.72             0.87               5                   223   \n",
       "4                0.37             0.52               2                   159   \n",
       "\n",
       "   time_spend_company  Work_accident  left  promotion_last_5years  department  \\\n",
       "0                   3              0     1                      0           1   \n",
       "1                   6              0     1                      0           1   \n",
       "2                   4              0     1                      0           1   \n",
       "3                   5              0     1                      0           1   \n",
       "4                   3              0     1                      0           1   \n",
       "\n",
       "   salary  \n",
       "0       1  \n",
       "1       2  \n",
       "2       2  \n",
       "3       1  \n",
       "4       1  "
      ]
     },
     "execution_count": 76,
     "metadata": {},
     "output_type": "execute_result"
    }
   ],
   "source": [
    "newdf.head(5)"
   ]
  },
  {
   "cell_type": "code",
   "execution_count": 86,
   "metadata": {},
   "outputs": [
    {
     "data": {
      "text/html": [
       "<div>\n",
       "<style scoped>\n",
       "    .dataframe tbody tr th:only-of-type {\n",
       "        vertical-align: middle;\n",
       "    }\n",
       "\n",
       "    .dataframe tbody tr th {\n",
       "        vertical-align: top;\n",
       "    }\n",
       "\n",
       "    .dataframe thead th {\n",
       "        text-align: right;\n",
       "    }\n",
       "</style>\n",
       "<table border=\"1\" class=\"dataframe\">\n",
       "  <thead>\n",
       "    <tr style=\"text-align: right;\">\n",
       "      <th></th>\n",
       "      <th>0</th>\n",
       "      <th>1</th>\n",
       "      <th>2</th>\n",
       "      <th>3</th>\n",
       "      <th>4</th>\n",
       "      <th>5</th>\n",
       "      <th>6</th>\n",
       "      <th>7</th>\n",
       "      <th>8</th>\n",
       "      <th>9</th>\n",
       "    </tr>\n",
       "  </thead>\n",
       "  <tbody>\n",
       "    <tr>\n",
       "      <th>0</th>\n",
       "      <td>0.318681</td>\n",
       "      <td>0.265625</td>\n",
       "      <td>0.0</td>\n",
       "      <td>0.285047</td>\n",
       "      <td>0.125</td>\n",
       "      <td>0.0</td>\n",
       "      <td>1.0</td>\n",
       "      <td>0.0</td>\n",
       "      <td>0.0</td>\n",
       "      <td>0.0</td>\n",
       "    </tr>\n",
       "    <tr>\n",
       "      <th>1</th>\n",
       "      <td>0.780220</td>\n",
       "      <td>0.781250</td>\n",
       "      <td>0.6</td>\n",
       "      <td>0.775701</td>\n",
       "      <td>0.500</td>\n",
       "      <td>0.0</td>\n",
       "      <td>1.0</td>\n",
       "      <td>0.0</td>\n",
       "      <td>0.0</td>\n",
       "      <td>0.5</td>\n",
       "    </tr>\n",
       "    <tr>\n",
       "      <th>2</th>\n",
       "      <td>0.021978</td>\n",
       "      <td>0.812500</td>\n",
       "      <td>1.0</td>\n",
       "      <td>0.822430</td>\n",
       "      <td>0.250</td>\n",
       "      <td>0.0</td>\n",
       "      <td>1.0</td>\n",
       "      <td>0.0</td>\n",
       "      <td>0.0</td>\n",
       "      <td>0.5</td>\n",
       "    </tr>\n",
       "    <tr>\n",
       "      <th>3</th>\n",
       "      <td>0.692308</td>\n",
       "      <td>0.796875</td>\n",
       "      <td>0.6</td>\n",
       "      <td>0.593458</td>\n",
       "      <td>0.375</td>\n",
       "      <td>0.0</td>\n",
       "      <td>1.0</td>\n",
       "      <td>0.0</td>\n",
       "      <td>0.0</td>\n",
       "      <td>0.0</td>\n",
       "    </tr>\n",
       "    <tr>\n",
       "      <th>4</th>\n",
       "      <td>0.307692</td>\n",
       "      <td>0.250000</td>\n",
       "      <td>0.0</td>\n",
       "      <td>0.294393</td>\n",
       "      <td>0.125</td>\n",
       "      <td>0.0</td>\n",
       "      <td>1.0</td>\n",
       "      <td>0.0</td>\n",
       "      <td>0.0</td>\n",
       "      <td>0.0</td>\n",
       "    </tr>\n",
       "  </tbody>\n",
       "</table>\n",
       "</div>"
      ],
      "text/plain": [
       "          0         1    2         3      4    5    6    7    8    9\n",
       "0  0.318681  0.265625  0.0  0.285047  0.125  0.0  1.0  0.0  0.0  0.0\n",
       "1  0.780220  0.781250  0.6  0.775701  0.500  0.0  1.0  0.0  0.0  0.5\n",
       "2  0.021978  0.812500  1.0  0.822430  0.250  0.0  1.0  0.0  0.0  0.5\n",
       "3  0.692308  0.796875  0.6  0.593458  0.375  0.0  1.0  0.0  0.0  0.0\n",
       "4  0.307692  0.250000  0.0  0.294393  0.125  0.0  1.0  0.0  0.0  0.0"
      ]
     },
     "execution_count": 86,
     "metadata": {},
     "output_type": "execute_result"
    }
   ],
   "source": [
    "from sklearn import preprocessing\n",
    "\n",
    "\n",
    "min_max_scaler = preprocessing.MinMaxScaler()\n",
    "np_scaled = min_max_scaler.fit_transform(newdf)\n",
    "df_norm = pd.DataFrame(np_scaled)\n",
    "df_norm.head(5)\n"
   ]
  },
  {
   "cell_type": "code",
   "execution_count": 92,
   "metadata": {
    "collapsed": true
   },
   "outputs": [],
   "source": [
    "df_norm = df_norm.rename(columns={'0': 'satisfaction_level','1':'last_evaluation','2':'number_project','3':'average_montly_hours','4':'time_spend_company',\n",
    "                       '5':'Work_accident','6':'left','7':'promotion_last_5years','8':'department','9':'salary'}) "
   ]
  },
  {
   "cell_type": "code",
   "execution_count": 93,
   "metadata": {},
   "outputs": [
    {
     "data": {
      "text/html": [
       "<div>\n",
       "<style scoped>\n",
       "    .dataframe tbody tr th:only-of-type {\n",
       "        vertical-align: middle;\n",
       "    }\n",
       "\n",
       "    .dataframe tbody tr th {\n",
       "        vertical-align: top;\n",
       "    }\n",
       "\n",
       "    .dataframe thead th {\n",
       "        text-align: right;\n",
       "    }\n",
       "</style>\n",
       "<table border=\"1\" class=\"dataframe\">\n",
       "  <thead>\n",
       "    <tr style=\"text-align: right;\">\n",
       "      <th></th>\n",
       "      <th>0</th>\n",
       "      <th>1</th>\n",
       "      <th>2</th>\n",
       "      <th>3</th>\n",
       "      <th>4</th>\n",
       "      <th>5</th>\n",
       "      <th>6</th>\n",
       "      <th>7</th>\n",
       "      <th>8</th>\n",
       "      <th>9</th>\n",
       "    </tr>\n",
       "  </thead>\n",
       "  <tbody>\n",
       "    <tr>\n",
       "      <th>0</th>\n",
       "      <td>0.318681</td>\n",
       "      <td>0.265625</td>\n",
       "      <td>0.0</td>\n",
       "      <td>0.285047</td>\n",
       "      <td>0.125</td>\n",
       "      <td>0.0</td>\n",
       "      <td>1.0</td>\n",
       "      <td>0.0</td>\n",
       "      <td>0.0</td>\n",
       "      <td>0.0</td>\n",
       "    </tr>\n",
       "    <tr>\n",
       "      <th>1</th>\n",
       "      <td>0.780220</td>\n",
       "      <td>0.781250</td>\n",
       "      <td>0.6</td>\n",
       "      <td>0.775701</td>\n",
       "      <td>0.500</td>\n",
       "      <td>0.0</td>\n",
       "      <td>1.0</td>\n",
       "      <td>0.0</td>\n",
       "      <td>0.0</td>\n",
       "      <td>0.5</td>\n",
       "    </tr>\n",
       "    <tr>\n",
       "      <th>2</th>\n",
       "      <td>0.021978</td>\n",
       "      <td>0.812500</td>\n",
       "      <td>1.0</td>\n",
       "      <td>0.822430</td>\n",
       "      <td>0.250</td>\n",
       "      <td>0.0</td>\n",
       "      <td>1.0</td>\n",
       "      <td>0.0</td>\n",
       "      <td>0.0</td>\n",
       "      <td>0.5</td>\n",
       "    </tr>\n",
       "    <tr>\n",
       "      <th>3</th>\n",
       "      <td>0.692308</td>\n",
       "      <td>0.796875</td>\n",
       "      <td>0.6</td>\n",
       "      <td>0.593458</td>\n",
       "      <td>0.375</td>\n",
       "      <td>0.0</td>\n",
       "      <td>1.0</td>\n",
       "      <td>0.0</td>\n",
       "      <td>0.0</td>\n",
       "      <td>0.0</td>\n",
       "    </tr>\n",
       "    <tr>\n",
       "      <th>4</th>\n",
       "      <td>0.307692</td>\n",
       "      <td>0.250000</td>\n",
       "      <td>0.0</td>\n",
       "      <td>0.294393</td>\n",
       "      <td>0.125</td>\n",
       "      <td>0.0</td>\n",
       "      <td>1.0</td>\n",
       "      <td>0.0</td>\n",
       "      <td>0.0</td>\n",
       "      <td>0.0</td>\n",
       "    </tr>\n",
       "  </tbody>\n",
       "</table>\n",
       "</div>"
      ],
      "text/plain": [
       "          0         1    2         3      4    5    6    7    8    9\n",
       "0  0.318681  0.265625  0.0  0.285047  0.125  0.0  1.0  0.0  0.0  0.0\n",
       "1  0.780220  0.781250  0.6  0.775701  0.500  0.0  1.0  0.0  0.0  0.5\n",
       "2  0.021978  0.812500  1.0  0.822430  0.250  0.0  1.0  0.0  0.0  0.5\n",
       "3  0.692308  0.796875  0.6  0.593458  0.375  0.0  1.0  0.0  0.0  0.0\n",
       "4  0.307692  0.250000  0.0  0.294393  0.125  0.0  1.0  0.0  0.0  0.0"
      ]
     },
     "execution_count": 93,
     "metadata": {},
     "output_type": "execute_result"
    }
   ],
   "source": [
    "df_norm.head(5)"
   ]
  },
  {
   "cell_type": "markdown",
   "metadata": {},
   "source": [
    "### PLOTS FOR UNDERSTANDING AND ANALYSIS"
   ]
  },
  {
   "cell_type": "code",
   "execution_count": 9,
   "metadata": {
    "collapsed": true
   },
   "outputs": [],
   "source": [
    "matdf = df\n",
    "x = matdf[\"number_project\"]\n",
    "y = matdf[\"satisfaction_level\"]\n"
   ]
  },
  {
   "cell_type": "markdown",
   "metadata": {},
   "source": [
    "#### USING MATPLOTLIB"
   ]
  },
  {
   "cell_type": "code",
   "execution_count": 10,
   "metadata": {},
   "outputs": [
    {
     "data": {
      "image/png": "[encoded data removed]",
      "text/plain": [
       "<matplotlib.figure.Figure at 0x10c0c2278>"
      ]
     },
     "metadata": {},
     "output_type": "display_data"
    }
   ],
   "source": [
    "figure1 = matdf.hist(color = 'Orange',figsize = (12,7) )\n"
   ]
  },
  {
   "cell_type": "code",
   "execution_count": 11,
   "metadata": {},
   "outputs": [
    {
     "data": {
      "image/png": "[encoded data removed]",
      "text/plain": [
       "<matplotlib.figure.Figure at 0x11a2ffa20>"
      ]
     },
     "metadata": {},
     "output_type": "display_data"
    },
    {
     "data": {
      "image/png": "[encoded data removed]",
      "text/plain": [
       "<matplotlib.figure.Figure at 0x11a713978>"
      ]
     },
     "metadata": {},
     "output_type": "display_data"
    },
    {
     "data": {
      "image/png": "[encoded data removed]",
      "text/plain": [
       "<matplotlib.figure.Figure at 0x11a9eb0b8>"
      ]
     },
     "metadata": {},
     "output_type": "display_data"
    }
   ],
   "source": [
    "figure = matdf.groupby('salary').hist(color = 'green',figsize=(12,7))"
   ]
  },
  {
   "cell_type": "code",
   "execution_count": 12,
   "metadata": {},
   "outputs": [
    {
     "data": {
      "image/png": "[encoded data removed]",
      "text/plain": [
       "<matplotlib.figure.Figure at 0x11b159c50>"
      ]
     },
     "metadata": {},
     "output_type": "display_data"
    }
   ],
   "source": [
    "boxplotdf = matdf[[\"satisfaction_level\",\"last_evaluation\",\"number_project\",\"time_spend_company\"]].copy()\n",
    "figure2 = boxplotdf.boxplot(figsize = (8,5))"
   ]
  },
  {
   "cell_type": "markdown",
   "metadata": {},
   "source": [
    "#### USING PLOTLY"
   ]
  },
  {
   "cell_type": "code",
   "execution_count": 13,
   "metadata": {
    "collapsed": true
   },
   "outputs": [],
   "source": [
    "data2 = df\n",
    "salary_dept = data2.filter(['salary','department','satisfaction_level'], axis=1)"
   ]
  },
  {
   "cell_type": "code",
   "execution_count": 14,
   "metadata": {
    "collapsed": true
   },
   "outputs": [],
   "source": [
    "satList1 = list(salary_dept[(salary_dept['salary']=='low')].groupby('department').mean()['satisfaction_level'])\n",
    "satList2 = list(salary_dept[(salary_dept['salary']=='medium')].groupby('department').mean()['satisfaction_level'])\n",
    "satList3 = list(salary_dept[(salary_dept['salary']=='high')].groupby('department').mean()['satisfaction_level'])"
   ]
  },
  {
   "cell_type": "code",
   "execution_count": 15,
   "metadata": {},
   "outputs": [
    {
     "data": {
      "text/html": [
       "<iframe id=\"igraph\" scrolling=\"no\" style=\"border:none;\" seamless=\"seamless\" src=\"https://plot.ly/~aish.gunashekar/5.embed\" height=\"525px\" width=\"100%\"></iframe>"
      ],
      "text/plain": [
       "<plotly.tools.PlotlyDisplay object>"
      ]
     },
     "execution_count": 15,
     "metadata": {},
     "output_type": "execute_result"
    }
   ],
   "source": [
    "SalaryVSDepartment = Heatmap(\n",
    "    # z should have number of elements equal to y, inner list should have number of elements in x\n",
    "    z = [satList1,satList2,satList3],\n",
    "    y = ['low','medium','high'],\n",
    "    x = ['IT','RandD','accounting','hr','management','marketing','product_mg','sales','support','technical']\n",
    ")\n",
    "\n",
    "\n",
    "layout= Layout(\n",
    "    title= 'Salary and Department against Satisfaction Level (Heat Gradient) of Employees',\n",
    "    hovermode= 'closest',\n",
    "    xaxis= dict(\n",
    "        title= 'Departments',\n",
    "        ticklen= 5,\n",
    "        zeroline= False,\n",
    "        gridwidth= 2,\n",
    "    ),\n",
    "    yaxis=dict(\n",
    "        title= 'Salary Level',\n",
    "        ticklen= 5,\n",
    "        gridwidth= 2,\n",
    "    ),\n",
    "\n",
    "    showlegend= False\n",
    ")\n",
    "\n",
    "data1 = [SalaryVSDepartment]\n",
    "fig_comp = Figure( data=data1, layout=layout)\n",
    "py.iplot(fig_comp, filename = 'salary-department-satisfaction-online')"
   ]
  },
  {
   "cell_type": "code",
   "execution_count": 16,
   "metadata": {},
   "outputs": [
    {
     "data": {
      "text/html": [
       "<iframe id=\"igraph\" scrolling=\"no\" style=\"border:none;\" seamless=\"seamless\" src=\"https://plot.ly/~aish.gunashekar/9.embed\" height=\"525px\" width=\"100%\"></iframe>"
      ],
      "text/plain": [
       "<plotly.tools.PlotlyDisplay object>"
      ]
     },
     "execution_count": 16,
     "metadata": {},
     "output_type": "execute_result"
    }
   ],
   "source": [
    "labels1 = ['low','medium','high']\n",
    "salary_dept.groupby('salary').count()\n",
    "values1 = [7316,6446,1237]\n",
    "\n",
    "trace1 = Pie(labels=labels1, values=values1)\n",
    "py.iplot([trace1], filename='salary_pie_chart')\n"
   ]
  },
  {
   "cell_type": "code",
   "execution_count": 257,
   "metadata": {},
   "outputs": [
    {
     "data": {
      "text/html": [
       "<iframe id=\"igraph\" scrolling=\"no\" style=\"border:none;\" seamless=\"seamless\" src=\"https://plot.ly/~aish.gunashekar/11.embed\" height=\"525px\" width=\"100%\"></iframe>"
      ],
      "text/plain": [
       "<plotly.tools.PlotlyDisplay object>"
      ]
     },
     "execution_count": 257,
     "metadata": {},
     "output_type": "execute_result"
    }
   ],
   "source": [
    "#plot4 - Department strength distribution\n",
    "\n",
    "labels2 = ['IT','RandD','accounting','hr','management','marketing','product_mg','sales','support','technical']\n",
    "salary_dept.groupby('department').count()\n",
    "\n",
    "values2 = [1227,787,767,739,630,858,902,4140,2229,2720]\n",
    "\n",
    "trace2 = Pie(labels=labels2, values=values2)\n",
    "py.iplot([trace2], filename='dept_pie_chart')"
   ]
  },
  {
   "cell_type": "code",
   "execution_count": 262,
   "metadata": {},
   "outputs": [
    {
     "data": {
      "text/html": [
       "<iframe id=\"igraph\" scrolling=\"no\" style=\"border:none;\" seamless=\"seamless\" src=\"https://plot.ly/~aish.gunashekar/16.embed\" height=\"525px\" width=\"100%\"></iframe>"
      ],
      "text/plain": [
       "<plotly.tools.PlotlyDisplay object>"
      ]
     },
     "execution_count": 262,
     "metadata": {},
     "output_type": "execute_result"
    }
   ],
   "source": [
    "new_df = df\n",
    "salaryListLeft = []\n",
    "salaryListLeft = new_df[(new_df['left']==1)]['salary']\n",
    "\n",
    "salaryListNotLeft = []\n",
    "salaryListNotLeft = new_df[(new_df['left']==0)]['salary']\n",
    "\n",
    "deptListLeft = []\n",
    "deptListLeft = new_df[(new_df['left']==1)]['department']\n",
    "\n",
    "deptListNotLeft = []\n",
    "deptListNotLeft = new_df[(new_df['left']==0)]['department']\n",
    "\n",
    "avgHoursLeft = []\n",
    "avgHoursLeft = new_df[(new_df['left']==1)]['average_montly_hours']\n",
    "\n",
    "avgHoursNotLeft = []\n",
    "\n",
    "#plot 5 ( two sub plots )\n",
    "\n",
    "sal_satis = data2.filter(['salary','satisfaction_level'], axis=1)\n",
    "dep_satis = data2.filter(['department','satisfaction_level'], axis=1)\n",
    "\n",
    "satis_list = []\n",
    "satis_list = satList1 + satList2 +satList3\n",
    "labels3 = satis_list\n",
    "\n",
    "grouped1 = sal_satis.groupby('satisfaction_level').count()\n",
    "grouped2 = dep_satis.groupby('satisfaction_level').count()\n",
    "\n",
    "\n",
    "values4a = []\n",
    "values4b = []\n",
    "\n",
    "for satis in grouped1.index:\n",
    "    values4a = values4a + list(grouped1.loc[satis])\n",
    "    \n",
    "for satis in grouped2.index:\n",
    "    values4b = values4b + list(grouped2.loc[satis])\n",
    "    \n",
    "\n",
    "trace1a = {\"x\": salaryListLeft,\n",
    "          \"y\": satis_list,\n",
    "          \"marker\": {\"color\": \"pink\", \"size\": 12},\n",
    "          \"mode\": \"markers\",\n",
    "          \"name\": \"Left\",\n",
    "          \"type\": \"scatter\",\n",
    "}\n",
    "\n",
    "trace2a = {\"x\": salaryListNotLeft,\n",
    "          \"y\": satis_list,\n",
    "          \"marker\": {\"color\": \"blue\", \"size\": 12},\n",
    "          \"mode\": \"markers\",\n",
    "          \"name\": \"Stayed\",\n",
    "          \"type\": \"scatter\"\n",
    "}\n",
    "\n",
    "data5 = Data([trace1a, trace2a])\n",
    "layout5 = {\"title\": \"Employees that Left/Stayed in the company based on Salary and Satisfaction Level\",\n",
    "          \"xaxis\": {\"title\": \"Salary Level\", },\n",
    "          \"yaxis\": {\"title\": \"Satisfaction Level\"}}\n",
    "\n",
    "fig5 = Figure(data=data5, layout=layout5)\n",
    "py.iplot(fig5, filename='basic_dot-plot')"
   ]
  },
  {
   "cell_type": "code",
   "execution_count": 264,
   "metadata": {},
   "outputs": [
    {
     "data": {
      "text/html": [
       "<iframe id=\"igraph\" scrolling=\"no\" style=\"border:none;\" seamless=\"seamless\" src=\"https://plot.ly/~aish.gunashekar/18.embed\" height=\"525px\" width=\"100%\"></iframe>"
      ],
      "text/plain": [
       "<plotly.tools.PlotlyDisplay object>"
      ]
     },
     "execution_count": 264,
     "metadata": {},
     "output_type": "execute_result"
    }
   ],
   "source": [
    "trace1b = {\"x\": deptListLeft,\n",
    "          \"y\": satis_list,\n",
    "          \"marker\": {\"color\": \"pink\", \"size\": 12},\n",
    "          \"mode\": \"markers\",\n",
    "          \"name\": \"Left\",\n",
    "          \"type\": \"scatter\",\n",
    "}\n",
    "\n",
    "trace2b = {\"x\": deptListNotLeft,\n",
    "          \"y\": satis_list,\n",
    "          \"marker\": {\"color\": \"blue\", \"size\": 12},\n",
    "          \"mode\": \"markers\",\n",
    "          \"name\": \"Stayed\",\n",
    "          \"type\": \"scatter\"\n",
    "}\n",
    "\n",
    "data6 = Data([trace1b, trace2b])\n",
    "layout6 = {\"title\": \"Employees that Left/Stayed in the company based on Department and Satisfaction Level\",\n",
    "          \"xaxis\": {\"title\": \"Department\", },\n",
    "          \"yaxis\": {\"title\": \"Satisfaction Level\"}}\n",
    "\n",
    "\n",
    "fig6 = Figure(data=data6, layout=layout6)\n",
    "py.iplot(fig6, filename='basic_dot-plot2')"
   ]
  },
  {
   "cell_type": "code",
   "execution_count": null,
   "metadata": {
    "collapsed": true
   },
   "outputs": [],
   "source": []
  },
  {
   "cell_type": "markdown",
   "metadata": {},
   "source": [
    "### PRELIMINARY OBSERVATIONS"
   ]
  },
  {
   "cell_type": "markdown",
   "metadata": {},
   "source": [
    "##### USING THE HISTOGRAMS \n",
    "\n",
    "#### There are highest number of employees with a Satisfaction level of around 0.7\n",
    "#### Highest number of employees with 4 projects under them.\n",
    "#### Almost all employees have not received promotions in the last 5 years\n",
    "#### There are a large number of employees working 250 hours a month\n",
    "\n",
    "##### USING THE GROUPED HISTOGRAMS \n",
    "\n",
    "#### Highest number of people with a MEDIUM salary LEFT the company\n",
    "\n",
    "##### USING THE BOX PLOTS\n",
    "\n",
    "#### Most people work for maximum of 5 years\n",
    "\n",
    "##### USING THE HEATMAP\n",
    "\n",
    "#### The MARKETING team has a LOW SATISFACTION score inspite of a HIGH salary\n",
    "\n",
    "##### USING THE PIE CHART\n",
    "\n",
    "#### Highest number of employees have a LOW salary\n",
    "\n",
    "##### USING THE SCATTER PLOTS\n",
    "\n",
    "#### Most people with a LOW salary left the company \n",
    "\n",
    "#### Most people in the SALES department left the company "
   ]
  },
  {
   "cell_type": "markdown",
   "metadata": {},
   "source": [
    "# Method\n",
    "\n",
    "Summarize the linear models (least-squares and LMS) and explain your implementation of **class** *LinearModel*. \n",
    "The explanation of your codes should not be the comments in a code cell. \n",
    "This section should include\n",
    " - review of the linear models \n",
    " \n",
    " \n",
    " <b>Least Squares :</b>\n",
    " \n",
    "In Least Squares method, for each of the data points, we measure the vertical distance between the point and the line, square it and add these up. The fitted line would be the one where this sum of distances is minimized as much as possible. \n",
    "\n",
    "We use Least Squares method because we are looking for a probabilistic model that fits the observed data best and can be used for future prediction. The least squares model does much better in fitting a curve than many methods such as plotting the average slope of all the slopes between the pait of points ( x E X , t E T )\n",
    "\n",
    "We find the best possible intercept and slope of a line that fits the observed data best. \n",
    " \n",
    " \n",
    " \n",
    " <b>Least Mean Squares : </b>\n",
    " \n",
    "The Least Squares method is applied to data in a batch and may increase the computation cost when large datasets are fed. We use the Least Mean Square method in such cases which uses the concept of sequential or online learning. Each observation point is fed into the model one by one through a loop using the train_step, and the parameters are updated until it converges to a certain point. In this method, we can process large datasets better than the Least Squares method. \n",
    " \n",
    " \n",
    " - your implementation and description\n",
    " \n",
    " \n",
    "Least Squares Implementation : \n",
    "\n",
    "The train() function : \n",
    "The input array is first converted to a 2-Dimensional array as the numpy library functions are not compatible with the \n",
    "2D arrays. \n",
    "The model then computes the Least Squares using a built in library for the Target Variables ( T ) and input data ( X ).\n",
    "The computed weights are stored in the global variable w. \n",
    "\n",
    "The use () fucntion :\n",
    "Now, the dot product of the weights with the input data is the predicted data. \n",
    "The array is first converted to a 2-Dimensional array. \n",
    "These predicted values computed using the weights which have the least squares ( minimized error ) is returned by the use function. \n",
    "\n",
    "Least Mean Square Implementation : \n",
    "\n",
    "The train() function :\n",
    "N --> stores the number of rows in the DataFrame for the number of loops required.\n",
    "The input array is first converted to a 2-Dimensional array as the numpy library functions are not compatible with the \n",
    "2D arrays. \n",
    "If the w variable used to store weights has not been initialized, it is initialized with zeros with the same number of columns.  \n",
    "A for loop is run for each observation and control is transferred to the train_step fucntion where the weight is computed and updated to the global variable w. \n",
    "Once the for loop terminates, the updated weights are returned. \n",
    "\n",
    "\n",
    "The train_step() function:\n",
    "\n",
    "The array is first made 2-Dimensional. \n",
    "The train_step function first initializes the array with zeros if empty. \n",
    "We multiple the dot product of w and x with a learning rate - alpha so the weights move closer to convergence and update the weight with the new learned value. \n",
    "The updated weights are now returned. \n",
    "\n",
    "The use() fucntion\n",
    "\n",
    "Now, the dot product of the weights with the input data is the predicted data. \n",
    "The array is first converted to a 2-Dimensional array. \n",
    "These predicted values computed using the weights which have the least squares ( minimized error ) is returned by the use function. \n",
    "\n"
   ]
  },
  {
   "cell_type": "markdown",
   "metadata": {},
   "source": [
    "### Super Classs Definition"
   ]
  },
  {
   "cell_type": "code",
   "execution_count": 113,
   "metadata": {
    "collapsed": true
   },
   "outputs": [],
   "source": [
    "import numpy as np \n",
    "from abc import ABC, abstractmethod\n",
    "\n",
    "# Super class for machine learning models \n",
    "\n",
    "class BaseModel(ABC):\n",
    "    \"\"\" Super class for ITCS Machine Learning Class\"\"\"\n",
    "    \n",
    "    @abstractmethod\n",
    "    def train(self, X, T):\n",
    "        pass\n",
    "\n",
    "    @abstractmethod\n",
    "    def use(self, X):\n",
    "        pass\n",
    "\n",
    "    \n",
    "class LinearModel(BaseModel):\n",
    "    \"\"\"\n",
    "        Abstract class for a linear model \n",
    "        \n",
    "        Attributes\n",
    "        ==========\n",
    "        w       ndarray\n",
    "                weight vector/matrix\n",
    "    \"\"\"\n",
    "\n",
    "    def __init__(self):\n",
    "        \"\"\"\n",
    "            weight vector w is initialized as None\n",
    "        \"\"\"\n",
    "        self.w = None\n",
    "\n",
    "    def _check_matrix(self, mat, name):\n",
    "        if len(mat.shape) != 2:\n",
    "            raise ValueError(''.join([\"Wrong matrix \", name]))\n",
    "        \n",
    "    # add a basis\n",
    "    def add_ones(self, X):\n",
    "        \"\"\"\n",
    "            add a column basis to X input matrix\n",
    "        \"\"\"\n",
    "        self._check_matrix(X, 'X')\n",
    "        return np.hstack((np.ones((X.shape[0], 1)), X))\n",
    "        #return np.hstack((np.ones((X.shape[0], 1)), X.reshape((X.shape[0], -1))))\n",
    "\n",
    "    ####################################################\n",
    "    #### abstract funcitons ############################\n",
    "    @abstractmethod\n",
    "    def train(self, X, T):\n",
    "        \"\"\"\n",
    "            train linear model\n",
    "            \n",
    "            parameters\n",
    "            -----------\n",
    "            X     2d array\n",
    "                  input data\n",
    "            T     2d array\n",
    "                  target labels\n",
    "        \"\"\"        \n",
    "        pass\n",
    "    \n",
    "    @abstractmethod\n",
    "    def use(self, X):\n",
    "        \"\"\"\n",
    "            apply the learned model to input X\n",
    "            \n",
    "            parameters\n",
    "            ----------\n",
    "            X     2d array\n",
    "                  input data\n",
    "            \n",
    "        \"\"\"        \n",
    "        pass "
   ]
  },
  {
   "cell_type": "markdown",
   "metadata": {},
   "source": [
    "### Least Squares"
   ]
  },
  {
   "cell_type": "code",
   "execution_count": 114,
   "metadata": {
    "collapsed": true
   },
   "outputs": [],
   "source": [
    "# Linear Regression Class for least squares\n",
    "class LinearRegress(LinearModel): \n",
    "    \"\"\" \n",
    "        LinearRegress class \n",
    "        \n",
    "        attributes\n",
    "        ===========\n",
    "        w    nd.array  (column vector/matrix)\n",
    "             weights\n",
    "    \"\"\"\n",
    "    def __init__(self):\n",
    "        LinearModel.__init__(self)\n",
    "        \n",
    "    # train lease-squares model\n",
    "    def train(self, X, T):\n",
    "        \n",
    "        #N = X.shape[0]\n",
    "        #code for finding w\n",
    "        X1 = LinearModel.add_ones(self,X)\n",
    "        #X1 = np.hstack((np.ones((N, 1)), \n",
    "        #X1 = X1.reshape((X.shape[0], -1))))\n",
    "        LinearModel.w = np.linalg.lstsq(X1.T @ X1, X1.T @ T)[0]\n",
    "        #pass  ## TODO: replace this with your codes\n",
    "    \n",
    "    # apply the learned model to data X\n",
    "    def use(self, X):\n",
    "        X1 = LinearModel.add_ones(self,X)\n",
    "        return X1 @ LinearModel.w\n",
    "        pass  ## TODO: replace this with your codes"
   ]
  },
  {
   "cell_type": "code",
   "execution_count": null,
   "metadata": {
    "collapsed": true
   },
   "outputs": [],
   "source": []
  },
  {
   "cell_type": "markdown",
   "metadata": {},
   "source": [
    "### Least Mean Squares"
   ]
  },
  {
   "cell_type": "code",
   "execution_count": 122,
   "metadata": {
    "collapsed": true
   },
   "outputs": [],
   "source": [
    "import collections # for checking iterable instance\n",
    "\n",
    "# LMS class \n",
    "class LMS(LinearModel):\n",
    "    \"\"\"\n",
    "        Lease Mean Squares. online learning algorithm\n",
    "    \n",
    "        attributes\n",
    "        ==========\n",
    "        w        nd.array\n",
    "                 weight matrix\n",
    "        alpha    float\n",
    "                 learning rate\n",
    "    \"\"\"\n",
    "    def __init__(self, alpha):\n",
    "        LinearModel.__init__(self)\n",
    "        self.alpha = alpha\n",
    "    \n",
    "    # batch training by using train_step function\n",
    "    def train(self, X, T):\n",
    "        \n",
    "        N = X.shape[0]\n",
    "        print(N)\n",
    "        X1 = self.add_ones(X)\n",
    "        print(X1)\n",
    "        if self.w is None:   \n",
    "            self.w = np.zeros(X1.shape[1])\n",
    "        for k in range(N):\n",
    "            \n",
    "            #y = LinearModel.w @ X1[k, :]\n",
    "            #error = LinearModel.w @ X1[k,:]\n",
    "            #error = (np.dot(LinearModel.w,X1[k,:]))\n",
    "            #print(\"Error is {}\".format(error))\n",
    "            #print(\"w before changing {}\".format(LinearModel.w))\n",
    "            #LinearModel.w -= (self.alpha * (error - T[k]) * X1[k, :])\n",
    "            \n",
    "            \n",
    "            self.w = self.train_step( X[k], T[k] )\n",
    "     \n",
    "        print(\"Current Weight is {}\".format(self.w))\n",
    "        return self.w\n",
    "        \n",
    "        #print(\"Training done\")\n",
    "        #pass  ## TODO: replace this with your codes\n",
    "            \n",
    "    # train LMS model one step \n",
    "    # here the x is 1d vector\n",
    "    def train_step(self, x, t):\n",
    "        x1 = np.concatenate([[1],x])\n",
    "        if self.w is None:    \n",
    "            self.w = np.zeros(x1.shape[0])\n",
    "        #x1 = LinearModel.add_ones(self,x)\n",
    "        self.w -= self.alpha * ((self.w @ x1) - t) * x1\n",
    "        #error = (np.dot(x1,LinearModel.w) - t)\n",
    "        #s = self.alpha * ( (error) * x1 )\n",
    "        #return s\n",
    "        \n",
    "        return self.w\n",
    "        #pass  ## TODO: replace this with your codes\n",
    "    \n",
    "    # apply the current model to data X\n",
    "    def use(self, X):\n",
    "        \n",
    "        X1 = self.add_ones(X)\n",
    "        s = np.reshape((X1 @ self.w),(-1,1))\n",
    "        return s\n",
    "        #return np.dot(X1,LinearModel.w)\n",
    "        \n",
    "        #pass  ## TODO: replace this with your codes\n",
    "        "
   ]
  },
  {
   "cell_type": "markdown",
   "metadata": {},
   "source": [
    "### Usage Examples"
   ]
  },
  {
   "cell_type": "code",
   "execution_count": 118,
   "metadata": {
    "collapsed": true
   },
   "outputs": [],
   "source": [
    "# HERE follow are for my code tests.\n",
    "\n",
    "import matplotlib.pyplot as plt\n",
    "%matplotlib inline"
   ]
  },
  {
   "cell_type": "code",
   "execution_count": 109,
   "metadata": {},
   "outputs": [
    {
     "data": {
      "text/plain": [
       "[<matplotlib.lines.Line2D at 0x26777d5f8>]"
      ]
     },
     "execution_count": 109,
     "metadata": {},
     "output_type": "execute_result"
    },
    {
     "data": {
      "image/png": "[encoded data removed]",
      "text/plain": [
       "<matplotlib.figure.Figure at 0x110e3aa20>"
      ]
     },
     "metadata": {},
     "output_type": "display_data"
    }
   ],
   "source": [
    "X = np.linspace(0,10, 11).reshape((-1, 1))\n",
    "T = -2 * X + 3.2\n",
    "\n",
    "ls = LinearRegress()\n",
    "\n",
    "ls.train(X, T)\n",
    "\n",
    "plt.plot(ls.use(X))"
   ]
  },
  {
   "cell_type": "code",
   "execution_count": 110,
   "metadata": {},
   "outputs": [
    {
     "data": {
      "image/png": "[encoded data removed]",
      "text/plain": [
       "<matplotlib.figure.Figure at 0x2677f5710>"
      ]
     },
     "metadata": {},
     "output_type": "display_data"
    }
   ],
   "source": [
    "lms = LMS(0.1)\n",
    "\n",
    "for x, t in zip(X, T):\n",
    "    lms.train_step(x, t)\n",
    "    plt.plot(lms.use(X))"
   ]
  },
  {
   "cell_type": "code",
   "execution_count": 111,
   "metadata": {},
   "outputs": [
    {
     "name": "stdout",
     "output_type": "stream",
     "text": [
      "11\n",
      "[[  1.   0.]\n",
      " [  1.   1.]\n",
      " [  1.   2.]\n",
      " [  1.   3.]\n",
      " [  1.   4.]\n",
      " [  1.   5.]\n",
      " [  1.   6.]\n",
      " [  1.   7.]\n",
      " [  1.   8.]\n",
      " [  1.   9.]\n",
      " [  1.  10.]]\n",
      "Current Weight is [  2367.84056128  22226.18529438]\n"
     ]
    },
    {
     "data": {
      "text/plain": [
       "[<matplotlib.lines.Line2D at 0x2678b7438>]"
      ]
     },
     "execution_count": 111,
     "metadata": {},
     "output_type": "execute_result"
    },
    {
     "data": {
      "image/png": "[encoded data removed]",
      "text/plain": [
       "<matplotlib.figure.Figure at 0x26781d9b0>"
      ]
     },
     "metadata": {},
     "output_type": "display_data"
    }
   ],
   "source": [
    "lms.train(X, T)\n",
    "plt.plot(lms.use(X))"
   ]
  },
  {
   "cell_type": "markdown",
   "metadata": {},
   "source": [
    "# Experiments\n",
    "\n",
    "Apply two methods on the data and discuss the results.\n",
    "Please describe your experiment and related codes. You may have subsections of results and discussions here.\n"
   ]
  },
  {
   "cell_type": "code",
   "execution_count": 239,
   "metadata": {},
   "outputs": [
    {
     "data": {
      "text/html": [
       "<div>\n",
       "<style scoped>\n",
       "    .dataframe tbody tr th:only-of-type {\n",
       "        vertical-align: middle;\n",
       "    }\n",
       "\n",
       "    .dataframe tbody tr th {\n",
       "        vertical-align: top;\n",
       "    }\n",
       "\n",
       "    .dataframe thead th {\n",
       "        text-align: right;\n",
       "    }\n",
       "</style>\n",
       "<table border=\"1\" class=\"dataframe\">\n",
       "  <thead>\n",
       "    <tr style=\"text-align: right;\">\n",
       "      <th></th>\n",
       "      <th>satisfaction_level</th>\n",
       "      <th>last_evaluation</th>\n",
       "      <th>number_project</th>\n",
       "      <th>average_montly_hours</th>\n",
       "      <th>time_spend_company</th>\n",
       "      <th>Work_accident</th>\n",
       "      <th>left</th>\n",
       "      <th>promotion_last_5years</th>\n",
       "      <th>department</th>\n",
       "      <th>salary</th>\n",
       "    </tr>\n",
       "  </thead>\n",
       "  <tbody>\n",
       "    <tr>\n",
       "      <th>0</th>\n",
       "      <td>0.38</td>\n",
       "      <td>0.53</td>\n",
       "      <td>2</td>\n",
       "      <td>157</td>\n",
       "      <td>3</td>\n",
       "      <td>0</td>\n",
       "      <td>1</td>\n",
       "      <td>0</td>\n",
       "      <td>1</td>\n",
       "      <td>1</td>\n",
       "    </tr>\n",
       "    <tr>\n",
       "      <th>1</th>\n",
       "      <td>0.80</td>\n",
       "      <td>0.86</td>\n",
       "      <td>5</td>\n",
       "      <td>262</td>\n",
       "      <td>6</td>\n",
       "      <td>0</td>\n",
       "      <td>1</td>\n",
       "      <td>0</td>\n",
       "      <td>1</td>\n",
       "      <td>2</td>\n",
       "    </tr>\n",
       "    <tr>\n",
       "      <th>2</th>\n",
       "      <td>0.11</td>\n",
       "      <td>0.88</td>\n",
       "      <td>7</td>\n",
       "      <td>272</td>\n",
       "      <td>4</td>\n",
       "      <td>0</td>\n",
       "      <td>1</td>\n",
       "      <td>0</td>\n",
       "      <td>1</td>\n",
       "      <td>2</td>\n",
       "    </tr>\n",
       "    <tr>\n",
       "      <th>3</th>\n",
       "      <td>0.72</td>\n",
       "      <td>0.87</td>\n",
       "      <td>5</td>\n",
       "      <td>223</td>\n",
       "      <td>5</td>\n",
       "      <td>0</td>\n",
       "      <td>1</td>\n",
       "      <td>0</td>\n",
       "      <td>1</td>\n",
       "      <td>1</td>\n",
       "    </tr>\n",
       "    <tr>\n",
       "      <th>4</th>\n",
       "      <td>0.37</td>\n",
       "      <td>0.52</td>\n",
       "      <td>2</td>\n",
       "      <td>159</td>\n",
       "      <td>3</td>\n",
       "      <td>0</td>\n",
       "      <td>1</td>\n",
       "      <td>0</td>\n",
       "      <td>1</td>\n",
       "      <td>1</td>\n",
       "    </tr>\n",
       "  </tbody>\n",
       "</table>\n",
       "</div>"
      ],
      "text/plain": [
       "   satisfaction_level  last_evaluation  number_project  average_montly_hours  \\\n",
       "0                0.38             0.53               2                   157   \n",
       "1                0.80             0.86               5                   262   \n",
       "2                0.11             0.88               7                   272   \n",
       "3                0.72             0.87               5                   223   \n",
       "4                0.37             0.52               2                   159   \n",
       "\n",
       "   time_spend_company  Work_accident  left  promotion_last_5years  department  \\\n",
       "0                   3              0     1                      0           1   \n",
       "1                   6              0     1                      0           1   \n",
       "2                   4              0     1                      0           1   \n",
       "3                   5              0     1                      0           1   \n",
       "4                   3              0     1                      0           1   \n",
       "\n",
       "   salary  \n",
       "0       1  \n",
       "1       2  \n",
       "2       2  \n",
       "3       1  \n",
       "4       1  "
      ]
     },
     "execution_count": 239,
     "metadata": {},
     "output_type": "execute_result"
    }
   ],
   "source": [
    "df.head(5)"
   ]
  },
  {
   "cell_type": "code",
   "execution_count": 187,
   "metadata": {},
   "outputs": [
    {
     "name": "stdout",
     "output_type": "stream",
     "text": [
      "14999\n",
      "[[ 1.          0.265625    0.         ...,  0.          0.          0.        ]\n",
      " [ 1.          0.78125     0.6        ...,  0.          0.          0.5       ]\n",
      " [ 1.          0.8125      1.         ...,  0.          0.          0.5       ]\n",
      " ..., \n",
      " [ 1.          0.265625    0.         ...,  0.          0.44444444  0.        ]\n",
      " [ 1.          0.9375      0.8        ...,  0.          0.44444444  0.        ]\n",
      " [ 1.          0.25        0.         ...,  0.          0.44444444  0.        ]]\n",
      "Current Weight is [ 0.43118373  0.65949879 -0.68105262 -0.11766334  0.8164391  -0.02841283\n",
      " -0.38030706 -0.01543533  0.02664924 -0.00800259]\n"
     ]
    },
    {
     "data": {
      "image/png": "[encoded data removed]",
      "text/plain": [
       "<matplotlib.figure.Figure at 0x121308be0>"
      ]
     },
     "metadata": {},
     "output_type": "display_data"
    }
   ],
   "source": [
    "df_norm.head(10)\n",
    "T = np.array(df_norm.loc[:,0].copy())\n",
    "X = np.array(df_norm.loc[:,1:9].copy())\n",
    "#X = np.sort(X)\n",
    "y = lmswithoutstep()"
   ]
  },
  {
   "cell_type": "code",
   "execution_count": 188,
   "metadata": {},
   "outputs": [
    {
     "data": {
      "text/plain": [
       "array([[ 0.29457138],\n",
       "       [ 0.47042523],\n",
       "       [ 0.00900545],\n",
       "       ..., \n",
       "       [ 0.31411309],\n",
       "       [ 0.2391001 ],\n",
       "       [ 0.29556099]])"
      ]
     },
     "execution_count": 188,
     "metadata": {},
     "output_type": "execute_result"
    }
   ],
   "source": [
    "y"
   ]
  },
  {
   "cell_type": "code",
   "execution_count": 175,
   "metadata": {},
   "outputs": [
    {
     "data": {
      "text/plain": [
       "0.059863363517575992"
      ]
     },
     "execution_count": 175,
     "metadata": {},
     "output_type": "execute_result"
    }
   ],
   "source": [
    "from sklearn.linear_model import LinearRegression\n",
    "from sklearn.metrics import mean_squared_error\n",
    "\n",
    "model = LinearRegression()\n",
    "model.fit(X,T)\n",
    "p = model.predict(X)\n",
    "mean_squared_error(p,T)"
   ]
  },
  {
   "cell_type": "code",
   "execution_count": 189,
   "metadata": {},
   "outputs": [
    {
     "name": "stdout",
     "output_type": "stream",
     "text": [
      "Root Mean Squared Error 0.391611537801\n"
     ]
    }
   ],
   "source": [
    "print(\"Root Mean Squared Error\",np.sqrt(np.mean((T-y)**2)))"
   ]
  },
  {
   "cell_type": "markdown",
   "metadata": {},
   "source": [
    "#### We first define the different implementations as fucntion calls "
   ]
  },
  {
   "cell_type": "markdown",
   "metadata": {},
   "source": [
    "#### Least Mean Squares"
   ]
  },
  {
   "cell_type": "code",
   "execution_count": 186,
   "metadata": {
    "collapsed": true
   },
   "outputs": [],
   "source": [
    "#Defining a function to call Least Mean Squares with a learning rate of 0.1\n",
    "\n",
    "def lmswithoutstep():\n",
    "    lms = LMS(0.1)\n",
    "    lms.train(X, T)\n",
    "    y = lms.use(X)\n",
    "    plt.plot(lms.use(X),'r')\n",
    "    plt.plot(T,'g')\n",
    "    return y"
   ]
  },
  {
   "cell_type": "code",
   "execution_count": 126,
   "metadata": {
    "collapsed": true
   },
   "outputs": [],
   "source": [
    "def lmswithstep():\n",
    "    lms = LMS(0.1)\n",
    "    for x, t in zip(X, T):\n",
    "        lms.train_step(x, t)\n",
    "        plt.plot(lms.use(X))"
   ]
  },
  {
   "cell_type": "markdown",
   "metadata": {},
   "source": [
    "#### Least Squares"
   ]
  },
  {
   "cell_type": "code",
   "execution_count": 251,
   "metadata": {
    "collapsed": true
   },
   "outputs": [],
   "source": [
    "def lsnormal():\n",
    "    ls = LinearRegress()\n",
    "    ls.train(X, T)\n",
    "    plt.plot(ls.use(X))\n",
    "    plt.plot(T,'g')\n",
    "    plt.xlim([0, 500])\n",
    "    return (ls.use(X))\n",
    "    #plt.ylim([0, 1])"
   ]
  },
  {
   "cell_type": "markdown",
   "metadata": {},
   "source": [
    "#### Experimenting with the two models for the dataset"
   ]
  },
  {
   "cell_type": "code",
   "execution_count": 301,
   "metadata": {},
   "outputs": [
    {
     "data": {
      "text/html": [
       "<div>\n",
       "<style scoped>\n",
       "    .dataframe tbody tr th:only-of-type {\n",
       "        vertical-align: middle;\n",
       "    }\n",
       "\n",
       "    .dataframe tbody tr th {\n",
       "        vertical-align: top;\n",
       "    }\n",
       "\n",
       "    .dataframe thead th {\n",
       "        text-align: right;\n",
       "    }\n",
       "</style>\n",
       "<table border=\"1\" class=\"dataframe\">\n",
       "  <thead>\n",
       "    <tr style=\"text-align: right;\">\n",
       "      <th></th>\n",
       "      <th>0</th>\n",
       "      <th>1</th>\n",
       "      <th>2</th>\n",
       "      <th>3</th>\n",
       "      <th>4</th>\n",
       "      <th>5</th>\n",
       "      <th>6</th>\n",
       "      <th>7</th>\n",
       "      <th>8</th>\n",
       "      <th>9</th>\n",
       "    </tr>\n",
       "  </thead>\n",
       "  <tbody>\n",
       "    <tr>\n",
       "      <th>0</th>\n",
       "      <td>0.318681</td>\n",
       "      <td>0.265625</td>\n",
       "      <td>0.0</td>\n",
       "      <td>0.285047</td>\n",
       "      <td>0.125</td>\n",
       "      <td>0.0</td>\n",
       "      <td>1.0</td>\n",
       "      <td>0.0</td>\n",
       "      <td>0.0</td>\n",
       "      <td>0.0</td>\n",
       "    </tr>\n",
       "    <tr>\n",
       "      <th>1</th>\n",
       "      <td>0.780220</td>\n",
       "      <td>0.781250</td>\n",
       "      <td>0.6</td>\n",
       "      <td>0.775701</td>\n",
       "      <td>0.500</td>\n",
       "      <td>0.0</td>\n",
       "      <td>1.0</td>\n",
       "      <td>0.0</td>\n",
       "      <td>0.0</td>\n",
       "      <td>0.5</td>\n",
       "    </tr>\n",
       "    <tr>\n",
       "      <th>2</th>\n",
       "      <td>0.021978</td>\n",
       "      <td>0.812500</td>\n",
       "      <td>1.0</td>\n",
       "      <td>0.822430</td>\n",
       "      <td>0.250</td>\n",
       "      <td>0.0</td>\n",
       "      <td>1.0</td>\n",
       "      <td>0.0</td>\n",
       "      <td>0.0</td>\n",
       "      <td>0.5</td>\n",
       "    </tr>\n",
       "    <tr>\n",
       "      <th>3</th>\n",
       "      <td>0.692308</td>\n",
       "      <td>0.796875</td>\n",
       "      <td>0.6</td>\n",
       "      <td>0.593458</td>\n",
       "      <td>0.375</td>\n",
       "      <td>0.0</td>\n",
       "      <td>1.0</td>\n",
       "      <td>0.0</td>\n",
       "      <td>0.0</td>\n",
       "      <td>0.0</td>\n",
       "    </tr>\n",
       "    <tr>\n",
       "      <th>4</th>\n",
       "      <td>0.307692</td>\n",
       "      <td>0.250000</td>\n",
       "      <td>0.0</td>\n",
       "      <td>0.294393</td>\n",
       "      <td>0.125</td>\n",
       "      <td>0.0</td>\n",
       "      <td>1.0</td>\n",
       "      <td>0.0</td>\n",
       "      <td>0.0</td>\n",
       "      <td>0.0</td>\n",
       "    </tr>\n",
       "  </tbody>\n",
       "</table>\n",
       "</div>"
      ],
      "text/plain": [
       "          0         1    2         3      4    5    6    7    8    9\n",
       "0  0.318681  0.265625  0.0  0.285047  0.125  0.0  1.0  0.0  0.0  0.0\n",
       "1  0.780220  0.781250  0.6  0.775701  0.500  0.0  1.0  0.0  0.0  0.5\n",
       "2  0.021978  0.812500  1.0  0.822430  0.250  0.0  1.0  0.0  0.0  0.5\n",
       "3  0.692308  0.796875  0.6  0.593458  0.375  0.0  1.0  0.0  0.0  0.0\n",
       "4  0.307692  0.250000  0.0  0.294393  0.125  0.0  1.0  0.0  0.0  0.0"
      ]
     },
     "execution_count": 301,
     "metadata": {},
     "output_type": "execute_result"
    }
   ],
   "source": [
    "df_norm.head(5)"
   ]
  },
  {
   "cell_type": "markdown",
   "metadata": {},
   "source": [
    "##### Here we dont use the original dataset, we use the normalized dataset  \"df_norm\"\n",
    "<br> \n",
    "We take all 9 features and plot it against the target variable 'Satisfaction_Level'\n",
    "<br>\n",
    "\n",
    "#### Least  Mean Squares method"
   ]
  },
  {
   "cell_type": "code",
   "execution_count": 276,
   "metadata": {},
   "outputs": [
    {
     "name": "stdout",
     "output_type": "stream",
     "text": [
      "14999\n",
      "[[ 1.          0.265625    0.         ...,  0.          0.          0.        ]\n",
      " [ 1.          0.78125     0.6        ...,  0.          0.          0.5       ]\n",
      " [ 1.          0.8125      1.         ...,  0.          0.          0.5       ]\n",
      " ..., \n",
      " [ 1.          0.265625    0.         ...,  0.          0.44444444  0.        ]\n",
      " [ 1.          0.9375      0.8        ...,  0.          0.44444444  0.        ]\n",
      " [ 1.          0.25        0.         ...,  0.          0.44444444  0.        ]]\n",
      "Current Weight is [ 0.43118373  0.65949879 -0.68105262 -0.11766334  0.8164391  -0.02841283\n",
      " -0.38030706 -0.01543533  0.02664924 -0.00800259]\n"
     ]
    },
    {
     "data": {
      "image/png": "[encoded data removed]",
      "text/plain": [
       "<matplotlib.figure.Figure at 0x11c07d780>"
      ]
     },
     "metadata": {},
     "output_type": "display_data"
    }
   ],
   "source": [
    "df_norm.head(10)\n",
    "\n",
    "T = np.array(df_norm.loc[:,0].copy())\n",
    "X = np.array(df_norm.loc[:,1:9].copy())\n",
    "#X = np.sort(X)\n",
    "y1 = lmswithoutstep()"
   ]
  },
  {
   "cell_type": "markdown",
   "metadata": {},
   "source": [
    "#### Least Squares Method"
   ]
  },
  {
   "cell_type": "code",
   "execution_count": 277,
   "metadata": {},
   "outputs": [
    {
     "data": {
      "image/png": "[encoded data removed]",
      "text/plain": [
       "<matplotlib.figure.Figure at 0x1af952128>"
      ]
     },
     "metadata": {},
     "output_type": "display_data"
    }
   ],
   "source": [
    "df_norm.head(10)\n",
    "T = np.array(df_norm.loc[:,0].copy())\n",
    "X = np.array(df_norm.loc[:,1:9].copy())\n",
    "X = np.sort(X)\n",
    "y2 = lsnormal()"
   ]
  },
  {
   "cell_type": "markdown",
   "metadata": {},
   "source": [
    "#### Comparing the two models through errors"
   ]
  },
  {
   "cell_type": "code",
   "execution_count": 279,
   "metadata": {},
   "outputs": [
    {
     "name": "stdout",
     "output_type": "stream",
     "text": [
      "Root Mean Squared Error 0.391611537801\n",
      "Root Mean Squared Error 0.26564652223\n",
      "Mean_Squared_error 0.104011109139\n",
      "Mean_Squared_error 0.0705680747731\n",
      "Mean_Squared_log_error 0.0423810281195\n",
      "Mean_Squared_log_error 0.0327253400992\n",
      "R squared score -0.32481805818\n",
      "R squared score -16.3114244936\n",
      "Explained_variance_error -0.322201778407\n",
      "Explained_variance_error -16.3114244936\n"
     ]
    }
   ],
   "source": [
    "print(\"Root Mean Squared Error\",np.sqrt(np.mean((T-y1)**2)))\n",
    "print(\"Root Mean Squared Error\",np.sqrt(np.mean((T-y2)**2)))\n",
    "\n",
    "from sklearn.metrics import *\n",
    "\n",
    "print(\"Mean_Squared_error\",mean_squared_error(y1,T))\n",
    "print(\"Mean_Squared_error\",mean_squared_error(y2,T))\n",
    "\n",
    "print(\"Mean_Squared_log_error\",mean_squared_log_error(y1,T))\n",
    "print(\"Mean_Squared_log_error\",mean_squared_log_error(y2,T))\n",
    "\n",
    "\n",
    "print(\"R squared score\",r2_score(y1,T))\n",
    "print(\"R squared score\",r2_score(y2,T))\n",
    "\n",
    "print(\"Explained_variance_error\",explained_variance_score(y1,T))\n",
    "print(\"Explained_variance_error\",explained_variance_score(y2,T))"
   ]
  },
  {
   "cell_type": "markdown",
   "metadata": {},
   "source": [
    "<b>Conclusion</b> : Even though, the Least Mean Squares model looks ( according to plots) to be more accurate, the Least Squares model is giving a lower mean_squared_error and Root_mean_squared error rate.\n",
    "\n",
    "<br> <br>\n",
    "#### Now, We reduce the number of input features to 5"
   ]
  },
  {
   "cell_type": "code",
   "execution_count": 280,
   "metadata": {},
   "outputs": [
    {
     "name": "stdout",
     "output_type": "stream",
     "text": [
      "14999\n",
      "[[ 1.          0.265625    0.          0.28504673  0.125       0.        ]\n",
      " [ 1.          0.78125     0.6         0.77570093  0.5         0.        ]\n",
      " [ 1.          0.8125      1.          0.82242991  0.25        0.        ]\n",
      " ..., \n",
      " [ 1.          0.265625    0.          0.21962617  0.125       0.        ]\n",
      " [ 1.          0.9375      0.8         0.85981308  0.25        0.        ]\n",
      " [ 1.          0.25        0.          0.28971963  0.125       0.        ]]\n",
      "Current Weight is [ 0.12318169  0.66689836 -0.66090513 -0.11658894  0.78490201 -0.02145668]\n"
     ]
    },
    {
     "data": {
      "image/png": "[encoded data removed]",
      "text/plain": [
       "<matplotlib.figure.Figure at 0x266bbb240>"
      ]
     },
     "metadata": {},
     "output_type": "display_data"
    }
   ],
   "source": [
    "df_norm.head(10)\n",
    "\n",
    "T = np.array(df_norm.loc[:,0].copy())\n",
    "X = np.array(df_norm.loc[:,1:5].copy())\n",
    "#X = np.sort(X)\n",
    "y1 = lmswithoutstep()"
   ]
  },
  {
   "cell_type": "code",
   "execution_count": 281,
   "metadata": {},
   "outputs": [
    {
     "data": {
      "image/png": "[encoded data removed]",
      "text/plain": [
       "<matplotlib.figure.Figure at 0x266fa9d68>"
      ]
     },
     "metadata": {},
     "output_type": "display_data"
    }
   ],
   "source": [
    "df_norm.head(10)\n",
    "T = np.array(df_norm.loc[:,0].copy())\n",
    "X = np.array(df_norm.loc[:,1:5].copy())\n",
    "X = np.sort(X)\n",
    "y2 = lsnormal()"
   ]
  },
  {
   "cell_type": "code",
   "execution_count": null,
   "metadata": {
    "collapsed": true
   },
   "outputs": [],
   "source": []
  },
  {
   "cell_type": "code",
   "execution_count": 282,
   "metadata": {},
   "outputs": [
    {
     "name": "stdout",
     "output_type": "stream",
     "text": [
      "Root Mean Squared Error 0.429842635765\n",
      "Root Mean Squared Error 0.262121986448\n",
      "Mean_Squared_error 0.169641342328\n",
      "Mean_Squared_error 0.0687079357794\n",
      "Mean_Squared_log_error 0.0842680168797\n",
      "Mean_Squared_log_error 0.0318179282854\n",
      "R squared score -2.01240672771\n",
      "R squared score -10.5737604491\n",
      "Explained_variance_error -1.05694637335\n",
      "Explained_variance_error -10.5737604491\n"
     ]
    }
   ],
   "source": [
    "print(\"Root Mean Squared Error\",np.sqrt(np.mean((T-y1)**2)))\n",
    "print(\"Root Mean Squared Error\",np.sqrt(np.mean((T-y2)**2)))\n",
    "\n",
    "from sklearn.metrics import *\n",
    "\n",
    "print(\"Mean_Squared_error\",mean_squared_error(y1,T))\n",
    "print(\"Mean_Squared_error\",mean_squared_error(y2,T))\n",
    "\n",
    "print(\"Mean_Squared_log_error\",mean_squared_log_error(y1,T))\n",
    "print(\"Mean_Squared_log_error\",mean_squared_log_error(y2,T))\n",
    "\n",
    "\n",
    "print(\"R squared score\",r2_score(y1,T))\n",
    "print(\"R squared score\",r2_score(y2,T))\n",
    "\n",
    "print(\"Explained_variance_error\",explained_variance_score(y1,T))\n",
    "print(\"Explained_variance_error\",explained_variance_score(y2,T))"
   ]
  },
  {
   "cell_type": "markdown",
   "metadata": {},
   "source": [
    "<b>Conclusion</b> : We observe that the error rate has slightly increased when we decrease the number of features from 9 to 5 \n",
    "<br> <br>\n",
    "#### We further reduce the input features to 2"
   ]
  },
  {
   "cell_type": "code",
   "execution_count": 283,
   "metadata": {},
   "outputs": [
    {
     "name": "stdout",
     "output_type": "stream",
     "text": [
      "14999\n",
      "[[ 1.     0.     0.125]\n",
      " [ 1.     0.6    0.5  ]\n",
      " [ 1.     1.     0.25 ]\n",
      " ..., \n",
      " [ 1.     0.     0.125]\n",
      " [ 1.     0.8    0.25 ]\n",
      " [ 1.     0.     0.125]]\n",
      "Current Weight is [ 0.25471203 -0.30925282  1.08901057]\n"
     ]
    },
    {
     "data": {
      "image/png": "[encoded data removed]",
      "text/plain": [
       "<matplotlib.figure.Figure at 0x26764ab00>"
      ]
     },
     "metadata": {},
     "output_type": "display_data"
    }
   ],
   "source": [
    "df_norm.head(10)\n",
    "\n",
    "T = np.array(df_norm.loc[:,0].copy())\n",
    "X = np.array(df_norm.loc[:,[2,4]].copy())\n",
    "#X = np.sort(X)\n",
    "y1 = lmswithoutstep()"
   ]
  },
  {
   "cell_type": "code",
   "execution_count": 284,
   "metadata": {},
   "outputs": [
    {
     "data": {
      "image/png": "[encoded data removed]",
      "text/plain": [
       "<matplotlib.figure.Figure at 0x11ecf1470>"
      ]
     },
     "metadata": {},
     "output_type": "display_data"
    }
   ],
   "source": [
    "df_norm.head(10)\n",
    "T = np.array(df_norm.loc[:,0].copy())\n",
    "X = np.array(df_norm.loc[:,[2,4]].copy())\n",
    "X = np.sort(X)\n",
    "y2 = lsnormal()"
   ]
  },
  {
   "cell_type": "code",
   "execution_count": 285,
   "metadata": {},
   "outputs": [
    {
     "name": "stdout",
     "output_type": "stream",
     "text": [
      "Root Mean Squared Error 0.407072576858\n",
      "Root Mean Squared Error 0.268229298024\n",
      "Mean_Squared_error 0.170707102591\n",
      "Mean_Squared_error 0.0719469563184\n",
      "Mean_Squared_log_error 0.0781283253899\n",
      "Mean_Squared_log_error 0.0332362536087\n",
      "R squared score -3.33791806538\n",
      "R squared score -25.6716578097\n",
      "Explained_variance_error -2.02385779122\n",
      "Explained_variance_error -25.6716578097\n"
     ]
    }
   ],
   "source": [
    "print(\"Root Mean Squared Error\",np.sqrt(np.mean((T-y1)**2)))\n",
    "print(\"Root Mean Squared Error\",np.sqrt(np.mean((T-y2)**2)))\n",
    "\n",
    "from sklearn.metrics import *\n",
    "\n",
    "print(\"Mean_Squared_error\",mean_squared_error(y1,T))\n",
    "print(\"Mean_Squared_error\",mean_squared_error(y2,T))\n",
    "\n",
    "print(\"Mean_Squared_log_error\",mean_squared_log_error(y1,T))\n",
    "print(\"Mean_Squared_log_error\",mean_squared_log_error(y2,T))\n",
    "\n",
    "\n",
    "print(\"R squared score\",r2_score(y1,T))\n",
    "print(\"R squared score\",r2_score(y2,T))\n",
    "\n",
    "print(\"Explained_variance_error\",explained_variance_score(y1,T))\n",
    "print(\"Explained_variance_error\",explained_variance_score(y2,T))"
   ]
  },
  {
   "cell_type": "markdown",
   "metadata": {},
   "source": [
    "<b>Conclusion</b> : We again see an increase in the error rates with the decrease in the number of features. However, the best R^2score and Explained Variance Score is 1 and lower the score, worse the model, therefore in theses metric the Least Mean Square model is performing better on the data."
   ]
  },
  {
   "cell_type": "markdown",
   "metadata": {},
   "source": [
    "### We see that the more features that we include, we are improving the accuracy rate of the regression model. Also, we see that the Least Squares model is performing slightly better than the Least Mean Squares model for the given data. "
   ]
  },
  {
   "cell_type": "markdown",
   "metadata": {},
   "source": [
    "# Conclusions\n",
    "\n",
    "Discuss the challenges or somethat that you learned. \n",
    "\n",
    "I found the implementation of the Least Mean Squares model to be a little challenging as it took me time to figure out that I have to initilize X with zeros only if it is empty. I was initializing it in every loop which failed all the tests. \n",
    "\n",
    "I also found using the data with the model to be a little challenging, as the features had a lot of different units and ranges. The model performed better after completely normalizing the data. \n",
    "\n",
    "I learned the proper working of a Linear regression model and also how to build it from scratch. \n",
    "\n",
    "I learned how to pre process data before feeding into a training model. \n",
    "\n",
    "\n"
   ]
  },
  {
   "cell_type": "markdown",
   "metadata": {},
   "source": [
    "# References\n",
    "\n",
    "http://scikit-learn.org/stable/modules/classes.html\n",
    "\n",
    "https://plot.ly/python/\n",
    "\n",
    "https://seaborn.pydata.org/\n",
    "\n",
    "https://www.kaggle.com/ludobenistant/hr-analytics/kernels"
   ]
  },
  {
   "cell_type": "markdown",
   "metadata": {},
   "source": [
    "# Extra Credit\n",
    "\n",
    "If you want to work more for an extra credit, place your work here about weight analysis. \n",
    "Try to answer to the question: \n",
    "- what is the most and least significant features for your data.\n",
    "- what are the consequences if you remove those features from the model? \n",
    "    \n",
    "    "
   ]
  },
  {
   "cell_type": "code",
   "execution_count": 298,
   "metadata": {
    "collapsed": true
   },
   "outputs": [],
   "source": [
    "import seaborn as sns \n",
    "import matplotlib.pyplot as plt\n",
    "data = df"
   ]
  },
  {
   "cell_type": "code",
   "execution_count": 293,
   "metadata": {},
   "outputs": [
    {
     "data": {
      "text/html": [
       "<div>\n",
       "<style scoped>\n",
       "    .dataframe tbody tr th:only-of-type {\n",
       "        vertical-align: middle;\n",
       "    }\n",
       "\n",
       "    .dataframe tbody tr th {\n",
       "        vertical-align: top;\n",
       "    }\n",
       "\n",
       "    .dataframe thead th {\n",
       "        text-align: right;\n",
       "    }\n",
       "</style>\n",
       "<table border=\"1\" class=\"dataframe\">\n",
       "  <thead>\n",
       "    <tr style=\"text-align: right;\">\n",
       "      <th></th>\n",
       "      <th>satisfaction_level</th>\n",
       "      <th>last_evaluation</th>\n",
       "      <th>number_project</th>\n",
       "      <th>average_montly_hours</th>\n",
       "      <th>time_spend_company</th>\n",
       "      <th>Work_accident</th>\n",
       "      <th>left</th>\n",
       "      <th>promotion_last_5years</th>\n",
       "      <th>department</th>\n",
       "      <th>salary</th>\n",
       "    </tr>\n",
       "  </thead>\n",
       "  <tbody>\n",
       "    <tr>\n",
       "      <th>satisfaction_level</th>\n",
       "      <td>1.000000</td>\n",
       "      <td>0.105021</td>\n",
       "      <td>-0.142970</td>\n",
       "      <td>-0.020048</td>\n",
       "      <td>-0.100866</td>\n",
       "      <td>0.058697</td>\n",
       "      <td>-0.388375</td>\n",
       "      <td>0.025605</td>\n",
       "      <td>0.015413</td>\n",
       "      <td>0.050022</td>\n",
       "    </tr>\n",
       "    <tr>\n",
       "      <th>last_evaluation</th>\n",
       "      <td>0.105021</td>\n",
       "      <td>1.000000</td>\n",
       "      <td>0.349333</td>\n",
       "      <td>0.339742</td>\n",
       "      <td>0.131591</td>\n",
       "      <td>-0.007104</td>\n",
       "      <td>0.006567</td>\n",
       "      <td>-0.008684</td>\n",
       "      <td>0.011855</td>\n",
       "      <td>-0.013002</td>\n",
       "    </tr>\n",
       "    <tr>\n",
       "      <th>number_project</th>\n",
       "      <td>-0.142970</td>\n",
       "      <td>0.349333</td>\n",
       "      <td>1.000000</td>\n",
       "      <td>0.417211</td>\n",
       "      <td>0.196786</td>\n",
       "      <td>-0.004741</td>\n",
       "      <td>0.023787</td>\n",
       "      <td>-0.006064</td>\n",
       "      <td>0.005577</td>\n",
       "      <td>-0.001803</td>\n",
       "    </tr>\n",
       "    <tr>\n",
       "      <th>average_montly_hours</th>\n",
       "      <td>-0.020048</td>\n",
       "      <td>0.339742</td>\n",
       "      <td>0.417211</td>\n",
       "      <td>1.000000</td>\n",
       "      <td>0.127755</td>\n",
       "      <td>-0.010143</td>\n",
       "      <td>0.071287</td>\n",
       "      <td>-0.003544</td>\n",
       "      <td>-0.002387</td>\n",
       "      <td>-0.002242</td>\n",
       "    </tr>\n",
       "    <tr>\n",
       "      <th>time_spend_company</th>\n",
       "      <td>-0.100866</td>\n",
       "      <td>0.131591</td>\n",
       "      <td>0.196786</td>\n",
       "      <td>0.127755</td>\n",
       "      <td>1.000000</td>\n",
       "      <td>0.002120</td>\n",
       "      <td>0.144822</td>\n",
       "      <td>0.067433</td>\n",
       "      <td>-0.001611</td>\n",
       "      <td>0.048715</td>\n",
       "    </tr>\n",
       "    <tr>\n",
       "      <th>Work_accident</th>\n",
       "      <td>0.058697</td>\n",
       "      <td>-0.007104</td>\n",
       "      <td>-0.004741</td>\n",
       "      <td>-0.010143</td>\n",
       "      <td>0.002120</td>\n",
       "      <td>1.000000</td>\n",
       "      <td>-0.154622</td>\n",
       "      <td>0.039245</td>\n",
       "      <td>0.019215</td>\n",
       "      <td>0.009247</td>\n",
       "    </tr>\n",
       "    <tr>\n",
       "      <th>left</th>\n",
       "      <td>-0.388375</td>\n",
       "      <td>0.006567</td>\n",
       "      <td>0.023787</td>\n",
       "      <td>0.071287</td>\n",
       "      <td>0.144822</td>\n",
       "      <td>-0.154622</td>\n",
       "      <td>1.000000</td>\n",
       "      <td>-0.061788</td>\n",
       "      <td>-0.043814</td>\n",
       "      <td>-0.157898</td>\n",
       "    </tr>\n",
       "    <tr>\n",
       "      <th>promotion_last_5years</th>\n",
       "      <td>0.025605</td>\n",
       "      <td>-0.008684</td>\n",
       "      <td>-0.006064</td>\n",
       "      <td>-0.003544</td>\n",
       "      <td>0.067433</td>\n",
       "      <td>0.039245</td>\n",
       "      <td>-0.061788</td>\n",
       "      <td>1.000000</td>\n",
       "      <td>0.015170</td>\n",
       "      <td>0.098119</td>\n",
       "    </tr>\n",
       "    <tr>\n",
       "      <th>department</th>\n",
       "      <td>0.015413</td>\n",
       "      <td>0.011855</td>\n",
       "      <td>0.005577</td>\n",
       "      <td>-0.002387</td>\n",
       "      <td>-0.001611</td>\n",
       "      <td>0.019215</td>\n",
       "      <td>-0.043814</td>\n",
       "      <td>0.015170</td>\n",
       "      <td>1.000000</td>\n",
       "      <td>0.033415</td>\n",
       "    </tr>\n",
       "    <tr>\n",
       "      <th>salary</th>\n",
       "      <td>0.050022</td>\n",
       "      <td>-0.013002</td>\n",
       "      <td>-0.001803</td>\n",
       "      <td>-0.002242</td>\n",
       "      <td>0.048715</td>\n",
       "      <td>0.009247</td>\n",
       "      <td>-0.157898</td>\n",
       "      <td>0.098119</td>\n",
       "      <td>0.033415</td>\n",
       "      <td>1.000000</td>\n",
       "    </tr>\n",
       "  </tbody>\n",
       "</table>\n",
       "</div>"
      ],
      "text/plain": [
       "                       satisfaction_level  last_evaluation  number_project  \\\n",
       "satisfaction_level               1.000000         0.105021       -0.142970   \n",
       "last_evaluation                  0.105021         1.000000        0.349333   \n",
       "number_project                  -0.142970         0.349333        1.000000   \n",
       "average_montly_hours            -0.020048         0.339742        0.417211   \n",
       "time_spend_company              -0.100866         0.131591        0.196786   \n",
       "Work_accident                    0.058697        -0.007104       -0.004741   \n",
       "left                            -0.388375         0.006567        0.023787   \n",
       "promotion_last_5years            0.025605        -0.008684       -0.006064   \n",
       "department                       0.015413         0.011855        0.005577   \n",
       "salary                           0.050022        -0.013002       -0.001803   \n",
       "\n",
       "                       average_montly_hours  time_spend_company  \\\n",
       "satisfaction_level                -0.020048           -0.100866   \n",
       "last_evaluation                    0.339742            0.131591   \n",
       "number_project                     0.417211            0.196786   \n",
       "average_montly_hours               1.000000            0.127755   \n",
       "time_spend_company                 0.127755            1.000000   \n",
       "Work_accident                     -0.010143            0.002120   \n",
       "left                               0.071287            0.144822   \n",
       "promotion_last_5years             -0.003544            0.067433   \n",
       "department                        -0.002387           -0.001611   \n",
       "salary                            -0.002242            0.048715   \n",
       "\n",
       "                       Work_accident      left  promotion_last_5years  \\\n",
       "satisfaction_level          0.058697 -0.388375               0.025605   \n",
       "last_evaluation            -0.007104  0.006567              -0.008684   \n",
       "number_project             -0.004741  0.023787              -0.006064   \n",
       "average_montly_hours       -0.010143  0.071287              -0.003544   \n",
       "time_spend_company          0.002120  0.144822               0.067433   \n",
       "Work_accident               1.000000 -0.154622               0.039245   \n",
       "left                       -0.154622  1.000000              -0.061788   \n",
       "promotion_last_5years       0.039245 -0.061788               1.000000   \n",
       "department                  0.019215 -0.043814               0.015170   \n",
       "salary                      0.009247 -0.157898               0.098119   \n",
       "\n",
       "                       department    salary  \n",
       "satisfaction_level       0.015413  0.050022  \n",
       "last_evaluation          0.011855 -0.013002  \n",
       "number_project           0.005577 -0.001803  \n",
       "average_montly_hours    -0.002387 -0.002242  \n",
       "time_spend_company      -0.001611  0.048715  \n",
       "Work_accident            0.019215  0.009247  \n",
       "left                    -0.043814 -0.157898  \n",
       "promotion_last_5years    0.015170  0.098119  \n",
       "department               1.000000  0.033415  \n",
       "salary                   0.033415  1.000000  "
      ]
     },
     "execution_count": 293,
     "metadata": {},
     "output_type": "execute_result"
    },
    {
     "data": {
      "image/png": "[encoded data removed]",
      "text/plain": [
       "<matplotlib.figure.Figure at 0x17e6962e8>"
      ]
     },
     "metadata": {},
     "output_type": "display_data"
    }
   ],
   "source": [
    "\n",
    "\n",
    "corr = df.corr()\n",
    "corr = (corr)\n",
    "sns.heatmap(corr, \n",
    "            xticklabels=corr.columns.values,\n",
    "            yticklabels=corr.columns.values)\n",
    "\n",
    "corr"
   ]
  },
  {
   "cell_type": "markdown",
   "metadata": {},
   "source": [
    "### Using the correlation matrix we observe that the 'Satisfaction_Level' feature has the lowest correlation with the 'Department'."
   ]
  },
  {
   "cell_type": "markdown",
   "metadata": {},
   "source": [
    "### We notice 'Satisfaction_Level''s highest positive correlation is with 'Left' ( Whether the employee left the company or not )\n",
    "\n",
    "### Most significant feature - Left \n",
    "\n",
    "### Least significant feature - Department \n",
    "<br>\n",
    "\n",
    "\n",
    "### Removing the most significant attribute - Left"
   ]
  },
  {
   "cell_type": "code",
   "execution_count": 303,
   "metadata": {},
   "outputs": [
    {
     "name": "stdout",
     "output_type": "stream",
     "text": [
      "14999\n",
      "[[ 1.          0.          0.28504673 ...,  0.          0.          0.        ]\n",
      " [ 1.          0.6         0.77570093 ...,  0.          0.          0.5       ]\n",
      " [ 1.          1.          0.82242991 ...,  0.          0.          0.5       ]\n",
      " ..., \n",
      " [ 1.          0.          0.21962617 ...,  0.          0.44444444  0.        ]\n",
      " [ 1.          0.8         0.85981308 ...,  0.          0.44444444  0.        ]\n",
      " [ 1.          0.          0.28971963 ...,  0.          0.44444444  0.        ]]\n",
      "Current Weight is [ 0.20874977 -0.420575    0.12450567  1.05791073 -0.02680213 -0.03397123\n",
      "  0.00847821 -0.00285128]\n"
     ]
    },
    {
     "data": {
      "image/png": "[encoded data removed]",
      "text/plain": [
       "<matplotlib.figure.Figure at 0x1230610f0>"
      ]
     },
     "metadata": {},
     "output_type": "display_data"
    }
   ],
   "source": [
    "df_norm.head(10)\n",
    "\n",
    "T = np.array(df_norm.loc[:,0].copy())\n",
    "X = np.array(df_norm.loc[:,[2,3,4,5,7,8,9]].copy())\n",
    "#X = np.sort(X)\n",
    "y1 = lmswithoutstep()"
   ]
  },
  {
   "cell_type": "code",
   "execution_count": 305,
   "metadata": {},
   "outputs": [
    {
     "data": {
      "image/png": "[encoded data removed]",
      "text/plain": [
       "<matplotlib.figure.Figure at 0x11f923550>"
      ]
     },
     "metadata": {},
     "output_type": "display_data"
    }
   ],
   "source": [
    "df_norm.head(10)\n",
    "\n",
    "T = np.array(df_norm.loc[:,0].copy())\n",
    "X = np.array(df_norm.loc[:,[2,3,4,5,7,8,9]].copy())\n",
    "#X = np.sort(X)\n",
    "y2 = lsnormal()"
   ]
  },
  {
   "cell_type": "code",
   "execution_count": 307,
   "metadata": {},
   "outputs": [
    {
     "name": "stdout",
     "output_type": "stream",
     "text": [
      "Root Mean Squared Error 0.427063544601\n",
      "Root Mean Squared Error 0.268363808518\n",
      "Mean_Squared_error 0.185617294188\n",
      "Mean_Squared_error 0.0720191337223\n",
      "Mean_Squared_log_error 0.0872246500329\n",
      "Mean_Squared_log_error 0.0333768350339\n",
      "R squared score -3.65537029711\n",
      "R squared score -26.4324267444\n",
      "Explained_variance_error -1.95322956888\n",
      "Explained_variance_error -26.4324267444\n"
     ]
    }
   ],
   "source": [
    "print(\"Root Mean Squared Error\",np.sqrt(np.mean((T-y1)**2)))\n",
    "print(\"Root Mean Squared Error\",np.sqrt(np.mean((T-y2)**2)))\n",
    "\n",
    "from sklearn.metrics import *\n",
    "\n",
    "print(\"Mean_Squared_error\",mean_squared_error(y1,T))\n",
    "print(\"Mean_Squared_error\",mean_squared_error(y2,T))\n",
    "\n",
    "print(\"Mean_Squared_log_error\",mean_squared_log_error(y1,T))\n",
    "print(\"Mean_Squared_log_error\",mean_squared_log_error(y2,T))\n",
    "\n",
    "\n",
    "print(\"R squared score\",r2_score(y1,T))\n",
    "print(\"R squared score\",r2_score(y2,T))\n",
    "\n",
    "print(\"Explained_variance_error\",explained_variance_score(y1,T))\n",
    "print(\"Explained_variance_error\",explained_variance_score(y2,T))"
   ]
  },
  {
   "cell_type": "markdown",
   "metadata": {},
   "source": [
    "<b>Errors of the model with the 'LEFT' attribute</b>\n",
    "\n",
    "Root Mean Squared Error 0.391611537801\n",
    "\n",
    "Root Mean Squared Error 0.26564652223\n",
    "\n",
    "Mean_Squared_error 0.104011109139\n",
    "\n",
    "Mean_Squared_error 0.0705680747731\n",
    "\n",
    "Mean_Squared_log_error 0.0423810281195\n",
    "\n",
    "Mean_Squared_log_error 0.0327253400992\n",
    "\n",
    "R squared score -0.32481805818\n",
    "\n",
    "R squared score -16.3114244936\n",
    "\n",
    "Explained_variance_error -0.322201778407\n",
    "\n",
    "Explained_variance_error -16.3114244936\n",
    "\n",
    "### We notice that there as in INCREASE in all error rate of all the metrics when the most significant attribute is removed. "
   ]
  },
  {
   "cell_type": "code",
   "execution_count": 309,
   "metadata": {},
   "outputs": [
    {
     "name": "stdout",
     "output_type": "stream",
     "text": [
      "14999\n",
      "[[ 1.          0.          0.28504673 ...,  1.          0.          0.        ]\n",
      " [ 1.          0.6         0.77570093 ...,  1.          0.          0.5       ]\n",
      " [ 1.          1.          0.82242991 ...,  1.          0.          0.5       ]\n",
      " ..., \n",
      " [ 1.          0.          0.21962617 ...,  1.          0.          0.        ]\n",
      " [ 1.          0.8         0.85981308 ...,  1.          0.          0.        ]\n",
      " [ 1.          0.          0.28971963 ...,  1.          0.          0.        ]]\n",
      "Current Weight is [  4.71773902e-01  -4.48079627e-01   1.43087685e-01   1.08430438e+00\n",
      "  -3.16111623e-02  -3.13311550e-01  -2.41526880e-02   1.63757117e-04]\n"
     ]
    },
    {
     "data": {
      "image/png": "[encoded data removed]",
      "text/plain": [
       "<matplotlib.figure.Figure at 0x11f6fada0>"
      ]
     },
     "metadata": {},
     "output_type": "display_data"
    }
   ],
   "source": [
    "df_norm.head(10)\n",
    "\n",
    "T = np.array(df_norm.loc[:,0].copy())\n",
    "X = np.array(df_norm.loc[:,[2,3,4,5,6,7,9]].copy())\n",
    "#X = np.sort(X)\n",
    "y1 = lmswithoutstep()"
   ]
  },
  {
   "cell_type": "code",
   "execution_count": 311,
   "metadata": {},
   "outputs": [
    {
     "data": {
      "image/png": "[encoded data removed]",
      "text/plain": [
       "<matplotlib.figure.Figure at 0x122ea2860>"
      ]
     },
     "metadata": {},
     "output_type": "display_data"
    }
   ],
   "source": [
    "df_norm.head(10)\n",
    "\n",
    "T = np.array(df_norm.loc[:,0].copy())\n",
    "X = np.array(df_norm.loc[:,[2,3,4,5,6,7,9]].copy())\n",
    "#X = np.sort(X)\n",
    "y2 = lsnormal()"
   ]
  },
  {
   "cell_type": "code",
   "execution_count": 313,
   "metadata": {},
   "outputs": [
    {
     "name": "stdout",
     "output_type": "stream",
     "text": [
      "Root Mean Squared Error 0.363132513519\n",
      "Root Mean Squared Error 0.248275788308\n",
      "Mean_Squared_error 0.10659436612\n",
      "Mean_Squared_error 0.0616408670598\n",
      "Mean_Squared_log_error 0.0429512013359\n",
      "Mean_Squared_log_error 0.0281761981616\n",
      "R squared score -1.04101865275\n",
      "R squared score -3.74029419941\n",
      "Explained_variance_error -0.945382523931\n",
      "Explained_variance_error -3.74029419941\n"
     ]
    }
   ],
   "source": [
    "print(\"Root Mean Squared Error\",np.sqrt(np.mean((T-y1)**2)))\n",
    "print(\"Root Mean Squared Error\",np.sqrt(np.mean((T-y2)**2)))\n",
    "\n",
    "from sklearn.metrics import *\n",
    "\n",
    "print(\"Mean_Squared_error\",mean_squared_error(y1,T))\n",
    "print(\"Mean_Squared_error\",mean_squared_error(y2,T))\n",
    "\n",
    "print(\"Mean_Squared_log_error\",mean_squared_log_error(y1,T))\n",
    "print(\"Mean_Squared_log_error\",mean_squared_log_error(y2,T))\n",
    "\n",
    "\n",
    "print(\"R squared score\",r2_score(y1,T))\n",
    "print(\"R squared score\",r2_score(y2,T))\n",
    "\n",
    "print(\"Explained_variance_error\",explained_variance_score(y1,T))\n",
    "print(\"Explained_variance_error\",explained_variance_score(y2,T))"
   ]
  },
  {
   "cell_type": "markdown",
   "metadata": {},
   "source": [
    "<b>Errors of the model with the 'DEPARTMENT' attribute</b>\n",
    "\n",
    "Root Mean Squared Error 0.391611537801\n",
    "\n",
    "Root Mean Squared Error 0.26564652223\n",
    "\n",
    "Mean_Squared_error 0.104011109139\n",
    "\n",
    "Mean_Squared_error 0.0705680747731\n",
    "\n",
    "Mean_Squared_log_error 0.0423810281195\n",
    "\n",
    "Mean_Squared_log_error 0.0327253400992\n",
    "\n",
    "R squared score -0.32481805818\n",
    "\n",
    "R squared score -16.3114244936\n",
    "\n",
    "Explained_variance_error -0.322201778407\n",
    "\n",
    "Explained_variance_error -16.3114244936\n",
    "\n",
    "### We notice that there as in DECREASE in all error rate of all the metrics when the least significant attribute is removed. "
   ]
  },
  {
   "cell_type": "markdown",
   "metadata": {},
   "source": [
    "## Grading\n",
    "\n",
    "DO NOT forget to submit your data! Your notebook is supposed to run well after running your codes. \n",
    "\n",
    "Points | | Description\n",
    "--|--|:--\n",
    "5 | Introduction  \n",
    "20 | Data | \n",
    " | 5| description \n",
    " | 5| plots for understanding or analysis \n",
    " | 5| preliminary observation \n",
    " | 5| Preprocessing of the data \n",
    "40 | Method | \n",
    " | 5| review\n",
    " | 5| explanation of codes\n",
    " | 30| Correct implementation (preliminary test)\n",
    "30 | Experiments | \n",
    " | 5| description, codes\n",
    " | 10| visualization of results\n",
    " | 15| analysis / comparison of algorithms\n",
    "5 | Conclusions, References "
   ]
  },
  {
   "cell_type": "markdown",
   "metadata": {},
   "source": [
    "# Preliminary Test"
   ]
  },
  {
   "cell_type": "code",
   "execution_count": 123,
   "metadata": {},
   "outputs": [
    {
     "name": "stdout",
     "output_type": "stream",
     "text": [
      "training  LS ...\n",
      "training  LMS_All ...\n",
      "7\n",
      "[[ 1.  2.  5.]\n",
      " [ 1.  6.  2.]\n",
      " [ 1.  1.  9.]\n",
      " [ 1.  4.  5.]\n",
      " [ 1.  6.  3.]\n",
      " [ 1.  7.  4.]\n",
      " [ 1.  8.  3.]]\n",
      "Current Weight is [ 0.2700536  3.1637888 -1.4307432]\n",
      "training  LMS_1STEP ...\n",
      "---- Testing  LS ... passed. 1.17458028127e-13 1.19e-13\n",
      "---- Testing  LMS_All ... passed. 2.8753214702 2.8753214702\n",
      "---- Testing  LMS_1STEP ... passed. 38.0584918251 38.0584918251\n"
     ]
    }
   ],
   "source": [
    "##################### WHAT I WILL RELEASE ############\n",
    "\n",
    "# Self-Test code for accuracy of your model - DO NOT MODIFY THIS\n",
    "# Primilnary test data\n",
    "X = np.array([[2,5],\n",
    "              [6,2],\n",
    "              [1,9],\n",
    "              [4,5],\n",
    "              [6,3],\n",
    "              [7,4],\n",
    "              [8,3]])\n",
    "T = X[:,0, None] * 3 - 2 * X[:, 1, None] + 3\n",
    "N = X.shape[0]\n",
    "\n",
    "def rmse(T, Y):\n",
    "    return np.sqrt(np.sum((T-Y)**2))\n",
    "\n",
    "model_names = ['LS', 'LMS_All', 'LMS_1STEP']\n",
    "models = [LinearRegress(), LMS(0.02), LMS(0.02)]\n",
    "#train\n",
    "for i, model in enumerate(models):\n",
    "    print(\"training \", model_names[i], \"...\") \n",
    "    if i == len(models) -1: \n",
    "        # train only one step for LMS2\n",
    "        model.train_step(X[0], T[0])\n",
    "    else:\n",
    "        model.train(X, T)\n",
    "\n",
    "def check(a, b, eps=np.finfo(float).eps):\n",
    "    if abs(a-b) > eps:\n",
    "        print(\"failed.\", a, b)\n",
    "    else:\n",
    "        print(\"passed.\", a, b)\n",
    "\n",
    "errors = [1.19e-13, 2.8753214702, 38.0584918251]\n",
    "for i, model in enumerate(models):\n",
    "    print(\"---- Testing \", model_names[i], \"...\", end=\" \") \n",
    "    \n",
    "    # rmse test\n",
    "    err = rmse(T, model.use(X))\n",
    "    if check(err, errors[i], eps=1e-10):\n",
    "        print (\"check your weights: \", model.w)\n",
    "        print (\"oracle: \", )\n"
   ]
  },
  {
   "cell_type": "code",
   "execution_count": null,
   "metadata": {
    "collapsed": true
   },
   "outputs": [],
   "source": []
  }
 ],
 "metadata": {
  "anaconda-cloud": {},
  "kernelspec": {
   "display_name": "Python 3",
   "language": "python",
   "name": "python3"
  },
  "language_info": {
   "codemirror_mode": {
    "name": "ipython",
    "version": 3
   },
   "file_extension": ".py",
   "mimetype": "text/x-python",
   "name": "python",
   "nbconvert_exporter": "python",
   "pygments_lexer": "ipython3",
   "version": "3.6.1"
  }
 },
 "nbformat": 4,
 "nbformat_minor": 2
}
