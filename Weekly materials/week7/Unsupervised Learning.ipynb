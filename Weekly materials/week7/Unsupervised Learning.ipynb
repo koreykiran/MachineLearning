{
 "cells": [
  {
   "cell_type": "markdown",
   "metadata": {
    "slideshow": {
     "slide_type": "slide"
    }
   },
   "source": [
    "# Unsupervised Learning \n",
    "\n",
    "\n",
    "### Spring 2018\n",
    "\n",
    "### Minwoo \"Jake\" Lee"
   ]
  },
  {
   "cell_type": "markdown",
   "metadata": {
    "slideshow": {
     "slide_type": "slide"
    }
   },
   "source": [
    "# QUIZZES\n",
    "\n",
    "## PollEv.com/mjlee\n",
    "\n",
    "### 5 min for Review Quiz\n",
    "### 5 min for Preview Quiz"
   ]
  },
  {
   "cell_type": "markdown",
   "metadata": {
    "slideshow": {
     "slide_type": "slide"
    }
   },
   "source": [
    "# Agenda\n",
    "\n",
    "- project\n",
    "- Review\n",
    "- Overview\n",
    "- K-means \n",
    "- GMM\n",
    "- PCA\n",
    "- 8156 Presentation\n",
    "- Next Topic: ML Methodology"
   ]
  }
 ],
 "metadata": {
  "celltoolbar": "Slideshow",
  "kernelspec": {
   "display_name": "Python 3",
   "language": "python",
   "name": "python3"
  },
  "language_info": {
   "codemirror_mode": {
    "name": "ipython",
    "version": 3
   },
   "file_extension": ".py",
   "mimetype": "text/x-python",
   "name": "python",
   "nbconvert_exporter": "python",
   "pygments_lexer": "ipython3",
   "version": "3.6.1"
  }
 },
 "nbformat": 4,
 "nbformat_minor": 1
}
