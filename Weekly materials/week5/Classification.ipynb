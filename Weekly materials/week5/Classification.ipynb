{
 "cells": [
  {
   "cell_type": "markdown",
   "metadata": {
    "slideshow": {
     "slide_type": "slide"
    }
   },
   "source": [
    "$\\newcommand{\\xv}{\\mathbf{x}}\n",
    " \\newcommand{\\wv}{\\mathbf{w}}\n",
    "  \\newcommand{\\yv}{\\mathbf{y}}\n",
    " \\newcommand{\\Chi}{\\mathcal{X}}\n",
    " \\newcommand{\\R}{\\rm I\\!R}\n",
    " \\newcommand{\\sign}{\\text{sign}}\n",
    " \\newcommand{\\Tm}{\\mathbf{T}}\n",
    " \\newcommand{\\Xm}{\\mathbf{X}}\n",
    "$\n",
    "\n",
    "# Classification\n",
    "\n",
    "\n",
    "### Spring 2018\n",
    "\n",
    "### Minwoo \"Jake\" Lee\n"
   ]
  },
  {
   "cell_type": "markdown",
   "metadata": {
    "slideshow": {
     "slide_type": "slide"
    }
   },
   "source": [
    "# Agenda\n",
    "\n",
    "- Announcement\n",
    "    - 8156 presentation\n",
    "    - Assignment Q/A\n",
    "    - Assignment #2: Classification\n",
    "    - Project \n",
    "        - No topics up\n",
    "- Review\n",
    "- Gaussian Distribution\n",
    "- LDA/QDA\n",
    "- Logistic Regression\n",
    "- Workbook Practice\n",
    "- Next Topic: Overview"
   ]
  },
  {
   "cell_type": "markdown",
   "metadata": {
    "slideshow": {
     "slide_type": "slide"
    }
   },
   "source": [
    "# Materials helps review the basics of probabilty theory.\n",
    "\n",
    "- http://www.deeplearningbook.org/contents/prob.html\n",
    "- https://ebookcentral.proquest.com/lib/uncc-ebooks/detail.action?docID=3339490\n",
    "- http://ieeexplore.ieee.org/xpl/bkabstractplus.jsp?bkn=6895440\n"
   ]
  },
  {
   "cell_type": "markdown",
   "metadata": {
    "slideshow": {
     "slide_type": "slide"
    }
   },
   "source": [
    "# Why Gaussian ?\n",
    "\n",
    "- Need a model that centers around a point and spread around it.\n",
    "- The model supposes to decrease as the distance from it grows.\n",
    "- Positive values "
   ]
  },
  {
   "cell_type": "markdown",
   "metadata": {
    "slideshow": {
     "slide_type": "slide"
    }
   },
   "source": [
    "# Central Limit Theorem\n",
    "\n",
    "- The distribution of the sum of independent random variables gets closer to normal as the number of samples grows. \n",
    "- This applies even if the original variables are not normally distributed.\n",
    "\n",
    "http://onlinestatbook.com/stat_sim/sampling_dist/"
   ]
  },
  {
   "cell_type": "markdown",
   "metadata": {
    "slideshow": {
     "slide_type": "slide"
    }
   },
   "source": [
    "# Probability Theory Review\n",
    "\n",
    "![](https://www.shmoop.com/images/prealgebra/unit5/pa.5.107.png)\n",
    "\n",
    "\n",
    "   | <font color=\"red\">Red</font> | <font color=\"blue\">Blue</font> | <font color=\"green\">Green</font>  | Suum\n",
    "--|--|--|--\n",
    "<font color=\"black\"><b>Black Bag</b></font> | 5 | 3 | 12 | 20\n",
    "<font color=\"brown\"><b>Brown Bag</b></font> | 6 | 3 | 1  | 10"
   ]
  },
  {
   "cell_type": "markdown",
   "metadata": {
    "slideshow": {
     "slide_type": "fragment"
    }
   },
   "source": [
    "\n",
    "   | <font color=\"red\">Red</font> | <font color=\"blue\">Blue</font> | <font color=\"green\">Green</font>  | Suum\n",
    "--|--|--|--\n",
    "<font color=\"black\"><b>Black Bag</b></font> | 5 / 20 | 3 / 20 | 12 / 20 | 1\n",
    "<font color=\"brown\"><b>Brown Bag</b></font> | 6 / 10 | 3 / 10 | 1 / 10 | 10"
   ]
  },
  {
   "cell_type": "markdown",
   "metadata": {
    "slideshow": {
     "slide_type": "fragment"
    }
   },
   "source": [
    "# Probabilities for each\n",
    "\n",
    "   | <font color=\"red\">Red</font> | <font color=\"blue\">Blue</font> | <font color=\"green\">Green</font>  | Suum\n",
    "--|--|--|--\n",
    "<font color=\"black\"><b>Black Bag</b></font> | 0.25 | 0.15 | 0.60 | 1\n",
    "<font color=\"brown\"><b>Brown Bag</b></font> | 0.60 | 0.30 | 0.10 | 1\n"
   ]
  },
  {
   "cell_type": "markdown",
   "metadata": {
    "slideshow": {
     "slide_type": "slide"
    }
   },
   "source": [
    "# Joint Probability\n",
    "\n",
    "- Consider the probabilty of choosing a bag \n",
    "\n",
    "$$\n",
    " p(Bag = Black) = 0.4 \\\\\n",
    " p(Bag = Brown) = 0.6 \n",
    "$$\n",
    "\n",
    "   | <font color=\"red\">Red</font> | <font color=\"blue\">Blue</font> | <font color=\"green\">Green</font>  | Suum\n",
    "--|----|----|----\n",
    "<font color=\"black\"><b>Black Bag (0.4)</b></font> | $0.25 \\times 0.4 = 0.1$ | $0.15 \\times 0.4 = 0.06$ | $0.60 \\times 0.4 = 0.24$ | 0.40\n",
    "<font color=\"brown\"><b>Brown Bag (0.6)</b></font> | $0.60 \\times 0.6 = 0.36$ | $0.30 \\times 0.6 = 0.18$ | $0.10 \\times 0.6 = 0.06$ | 0.60\n",
    "\n",
    "## Notations\n",
    "\n",
    "$$\n",
    "p(Bag=Black\\boldsymbol, Marble=Red) = 0.1 \\\\\n",
    "p(Bag=Black\\boldsymbol, Marble=Green) = 0.24 \\\\\n",
    "p(Bag=Brown\\boldsymbol, Marble=Blue) = 0.36 \\\\\n",
    "\\cdots\n",
    "$$"
   ]
  },
  {
   "cell_type": "markdown",
   "metadata": {
    "slideshow": {
     "slide_type": "fragment"
    }
   },
   "source": [
    "\n",
    "\n",
    "| <font color=\"red\">Red</font> | <font color=\"blue\">Blue</font> | <font color=\"green\">Green</font>  | Suum\n",
    "--|----------|----------|---\n",
    "<font color=\"black\"><b>Black Bag</b></font> | $p(Bag=Black\\boldsymbol, Marble=Red)$ | $p(Bag=Black\\boldsymbol, Marble=Blue)$ | $p(Bag=Black\\boldsymbol, Marble=Green)$ | $p(Bag=Black)$\n",
    "<font color=\"brown\"><b>Brown Bag</b></font> | $p(Bag=Brown\\boldsymbol, Marble=Red)$ | $p(Bag=Brown\\boldsymbol, Marble=Blue)$ | $p(Bag=Brown\\boldsymbol, Marble=Green)$ | $p(Bag=Brown)$\n",
    " | $p(Marble=Red)$ | $p(Marble=Blue)$ | $p(Marble=Green)$ | 1\n"
   ]
  },
  {
   "cell_type": "markdown",
   "metadata": {
    "slideshow": {
     "slide_type": "slide"
    }
   },
   "source": [
    "# Conditional Probability\n",
    "\n",
    "- Given the choice of a BRWON bag, the probability of choosing a RED marble. \n",
    "\n",
    "$$\n",
    " p(Marble=Red \\mid Bag = Brown) = 0.25 \n",
    "$$\n",
    "\n"
   ]
  },
  {
   "cell_type": "markdown",
   "metadata": {
    "slideshow": {
     "slide_type": "slide"
    }
   },
   "source": [
    "## Product Rule \n",
    "\n",
    "$$\n",
    "p(Marble=Red, Bag = Brown) = p(Marble=Red \\mid Bag = Brown) \\times p(Bag = Brown) \\\\\n",
    "    = 0.25 \\times 0.4 = 0.1\n",
    "$$\n",
    "\n",
    "## Sum Rule\n",
    "\n",
    "$$\n",
    "p(Marble= Red) = \\sum_{Bag} p(Marble=Red, Bag = Brown) \\\\\n",
    "   = 0.1 + 0.36 = 0.46\n",
    "$$"
   ]
  },
  {
   "cell_type": "markdown",
   "metadata": {
    "slideshow": {
     "slide_type": "slide"
    }
   },
   "source": [
    "# Bayes Rule\n",
    "\n",
    "$$ \n",
    "  p(Bag = Brown, Marble = Red) = p(Marble = Red, Bag = Brown) \\\\  \n",
    "  p(Bag = Brown \\mid Marble = Red) \\times p(Marble = Red) = p(Marble = Red \\mid Bag = Brown) \\times p(Bag = Brown) \\\\\n",
    "$$\n",
    "\n",
    "- Bayes Rule\n",
    "\n",
    "$$\n",
    "p(Marble = Red \\mid Bag = Brown) = \\frac{p(Bag = Brown \\mid Marble = Red) \\times p(Marble = Red)}{p(Bag = Brown) }\n",
    "$$\n",
    "\n",
    "- Terminology\n",
    "\n",
    "$$\n",
    "posterior = \\frac{likelihood \\times prior} {evidence}\n",
    "$$"
   ]
  },
  {
   "cell_type": "markdown",
   "metadata": {
    "slideshow": {
     "slide_type": "slide"
    }
   },
   "source": [
    "# Bayes Rule for Classification\n",
    "\n",
    "\n",
    "- MNIST data set \n",
    "![](http://corochann.com/wp-content/uploads/2017/02/mnist_plot.png)\n",
    "\n",
    "$$\n",
    "  P(T = 2 \\mid X = x_i)  \\quad\\text{or}\\quad P(T = k \\mid X = x_i) \\quad\\text{for class label } k\n",
    "$$"
   ]
  },
  {
   "cell_type": "markdown",
   "metadata": {
    "slideshow": {
     "slide_type": "slide"
    }
   },
   "source": [
    "# Bayes Rule for Classification\n",
    "\n",
    "- Bayes Rule \n",
    "$$\n",
    "\\begin{align*}\n",
    "P(T = k \\mid X = x_i) &= \\frac{P(X = x_i \\mid T = k) P(T=k) } {P(X=x_i)} \n",
    "\\end{align*}\n",
    "$$\n",
    "\n",
    "- For the equally sampled data,\n",
    "\n",
    "$$\n",
    "P(T=k) = \\frac{1}{10} \\\\\n",
    "\\\\\n",
    "P(X=x_i) = \\frac{1}{N} \n",
    "$$\n",
    "\n",
    "- So we can compute\n",
    "\n",
    "$$\n",
    "P(T = k \\mid X = x_i) = \\frac{P(X = x_i \\mid T = k) \\times \\frac{1}{10}}{\\frac{1}{N}} = \\frac{N}{10} \\times  P(X = x_i \\mid T = k)\n",
    "$$"
   ]
  },
  {
   "cell_type": "markdown",
   "metadata": {
    "slideshow": {
     "slide_type": "slide"
    }
   },
   "source": [
    "# LDA / QDA"
   ]
  },
  {
   "cell_type": "markdown",
   "metadata": {
    "slideshow": {
     "slide_type": "slide"
    }
   },
   "source": [
    "# Likelihood? \n",
    "\n",
    "### What model do you think is proper for the likelihood? "
   ]
  },
  {
   "cell_type": "markdown",
   "metadata": {
    "slideshow": {
     "slide_type": "slide"
    }
   },
   "source": [
    "# Linear Model and Step Function\n",
    "\n",
    "<br/>\n",
    "$$\n",
    "\\kappa = f(\\xv ; \\wv) = \\Xm \\wv.\n",
    "$$\n",
    "\n",
    "<br/>\n",
    "\n",
    "$$\n",
    "P(T=k \\mid \\xv) = h(\\Xm \\wv) = h(\\kappa) = \\yv.\n",
    "$$\n"
   ]
  },
  {
   "cell_type": "markdown",
   "metadata": {
    "slideshow": {
     "slide_type": "slide"
    }
   },
   "source": [
    "# Indicator Variables for Target\n",
    "\n",
    "$$\n",
    "\\Tm = \\begin{bmatrix}\n",
    "        t_{1,1} & t_{1,2} & \\cdots & t_{1, K} \\\\\n",
    "        t_{2,1} & t_{2,2} & \\cdots & t_{2, K} \\\\\n",
    "        \\vdots & & &     \\vdots \\\\\n",
    "        t_{N,1} & t_{N,2} & \\cdots & t_{N, K} \\\\\n",
    "      \\end{bmatrix}\n",
    "    = \\begin{bmatrix}\n",
    "        1 & 0 & \\cdots & 0 \\\\\n",
    "        0 & 0 & \\cdots & 1 \\\\\n",
    "        \\vdots & & &     \\vdots \\\\\n",
    "        0 & 1 & \\cdots & 0 \\\\\n",
    "      \\end{bmatrix} \n",
    "$$"
   ]
  },
  {
   "cell_type": "markdown",
   "metadata": {
    "slideshow": {
     "slide_type": "slide"
    }
   },
   "source": [
    "# Likelihood\n",
    "\n",
    "$$\n",
    "L(\\wv) = P(\\Tm \\mid \\wv) = \\prod_{n=1}^{N} \\prod_{k=1}^{K} P(T = k \\mid x_n)^{t_{n,k}} = \\prod_{n=1}^{N} \\prod_{k=1}^{K} y_{n,k}^{t_{n,k}}\n",
    "$$\n",
    "\n",
    "\n",
    "## Log-Likelihood\n",
    "\n",
    "$$\n",
    "LL(\\wv) = \\ln P(\\Tm \\mid \\wv) = \\sum_{n=1}^{N} \\sum_{k=1}^{K} t_{n,k} \\ln y_{n,k}.\n",
    "$$"
   ]
  },
  {
   "cell_type": "markdown",
   "metadata": {
    "slideshow": {
     "slide_type": "slide"
    }
   },
   "source": [
    "# Error Function\n",
    "\n",
    "$$\n",
    "E(\\wv) = - LL(\\wv) = - \\sum_{n=1}^{N} \\sum_{k=1}^{K} t_{n,k} \\ln y_{n,k}.\n",
    "$$"
   ]
  },
  {
   "cell_type": "markdown",
   "metadata": {
    "slideshow": {
     "slide_type": "slide"
    }
   },
   "source": [
    "# Gradient Descent\n",
    "\n",
    "$$\n",
    "\\wv \\leftarrow \\wv - \\alpha \\nabla_\\wv E(\\wv).\n",
    "$$"
   ]
  },
  {
   "cell_type": "markdown",
   "metadata": {
    "slideshow": {
     "slide_type": "slide"
    }
   },
   "source": [
    "# Choice of Step Function\n",
    "\n",
    "- $P(T=k \\mid \\xv)$\n",
    "  - the outputs are non-negative,\n",
    "  - the integral of the probability is one. \n",
    "  \n",
    "$$\n",
    "g_k(\\kappa) = P(T=k \\mid \\xv ; \\wv) = \\frac{e^{\\kappa_k}}{\\sum_{c=1}^K e^{\\kappa_c}}\n",
    "$$\n",
    "\n",
    "- Derivative has its own term!\n",
    "$$\n",
    "\\frac{\\partial g_k}{\\partial \\kappa_j}  = g_k (I_{kj} - g_j).\n",
    "$$\n"
   ]
  },
  {
   "cell_type": "markdown",
   "metadata": {
    "slideshow": {
     "slide_type": "slide"
    }
   },
   "source": [
    "# Logistic Regression"
   ]
  },
  {
   "cell_type": "markdown",
   "metadata": {
    "slideshow": {
     "slide_type": "slide"
    }
   },
   "source": [
    "# What is a good classifier for my data?"
   ]
  },
  {
   "cell_type": "markdown",
   "metadata": {
    "slideshow": {
     "slide_type": "slide"
    }
   },
   "source": [
    "# Practice: Breast Cancer"
   ]
  },
  {
   "cell_type": "markdown",
   "metadata": {
    "slideshow": {
     "slide_type": "slide"
    }
   },
   "source": [
    "# NEXT..."
   ]
  }
 ],
 "metadata": {
  "celltoolbar": "Slideshow",
  "kernelspec": {
   "display_name": "Python 3",
   "language": "python",
   "name": "python3"
  },
  "language_info": {
   "codemirror_mode": {
    "name": "ipython",
    "version": 3
   },
   "file_extension": ".py",
   "mimetype": "text/x-python",
   "name": "python",
   "nbconvert_exporter": "python",
   "pygments_lexer": "ipython3",
   "version": "3.6.1"
  }
 },
 "nbformat": 4,
 "nbformat_minor": 2
}
