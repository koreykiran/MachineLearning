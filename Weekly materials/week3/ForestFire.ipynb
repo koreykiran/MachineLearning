{
 "cells": [
  {
   "cell_type": "markdown",
   "metadata": {},
   "source": [
    "\n",
    "\n",
    "# Linear Model (Workbook)\n",
    "\n",
    "\n",
    "\n",
    "<br/>\n",
    "<br/><br/><br/>\n",
    "### ITCS6156/8156 Spring 2018\n",
    "### Minwoo \"Jake\" Lee"
   ]
  },
  {
   "cell_type": "code",
   "execution_count": 1,
   "metadata": {
    "collapsed": true,
    "slideshow": {
     "slide_type": "notes"
    }
   },
   "outputs": [],
   "source": [
    "import numpy as np\n",
    "import matplotlib.pyplot as plt \n",
    "from mpl_toolkits.mplot3d import Axes3D\n",
    "%matplotlib inline\n",
    "#%matplotlib notebook\n",
    "import pandas as pd"
   ]
  },
  {
   "cell_type": "markdown",
   "metadata": {},
   "source": [
    "## Reading and applying linear models"
   ]
  },
  {
   "cell_type": "code",
   "execution_count": 2,
   "metadata": {},
   "outputs": [
    {
     "name": "stderr",
     "output_type": "stream",
     "text": [
      "  % Total    % Received % Xferd  Average Speed   Time    Time     Time  Current\n",
      "                                 Dload  Upload   Total   Spent    Left  Speed\n",
      "\n",
      "  0     0    0     0    0     0      0      0 --:--:-- --:--:-- --:--:--     0\n",
      "  0 25478    0     0    0     0      0      0 --:--:-- --:--:-- --:--:--     0\n",
      "100 25478  100 25478    0     0  25478      0  0:00:01  0:00:01 --:--:-- 24357\n"
     ]
    }
   ],
   "source": [
    "!curl https://archive.ics.uci.edu/ml/machine-learning-databases/forest-fires/forestfires.csv -o forestfires.csv"
   ]
  },
  {
   "cell_type": "code",
   "execution_count": 3,
   "metadata": {
    "collapsed": true,
    "slideshow": {
     "slide_type": "notes"
    }
   },
   "outputs": [],
   "source": [
    "# Can I see the map image by using the map? \n",
    "df = pd.read_csv(\"forestfires.csv\")"
   ]
  },
  {
   "cell_type": "code",
   "execution_count": 4,
   "metadata": {
    "slideshow": {
     "slide_type": "notes"
    }
   },
   "outputs": [
    {
     "data": {
      "text/plain": [
       "array([[0, 1, 2, 3, 4, 5, 6],\n",
       "       [0, 1, 2, 3, 4, 5, 6],\n",
       "       [0, 1, 2, 3, 4, 5, 6],\n",
       "       [0, 1, 2, 3, 4, 5, 6],\n",
       "       [0, 1, 2, 3, 4, 5, 6],\n",
       "       [0, 1, 2, 3, 4, 5, 6],\n",
       "       [0, 1, 2, 3, 4, 5, 6],\n",
       "       [0, 1, 2, 3, 4, 5, 6],\n",
       "       [0, 1, 2, 3, 4, 5, 6],\n",
       "       [0, 1, 2, 3, 4, 5, 6]])"
      ]
     },
     "execution_count": 4,
     "metadata": {},
     "output_type": "execute_result"
    }
   ],
   "source": [
    "x, y = np.meshgrid(np.arange(7), np.arange(10))\n",
    "x"
   ]
  },
  {
   "cell_type": "code",
   "execution_count": 5,
   "metadata": {
    "slideshow": {
     "slide_type": "notes"
    }
   },
   "outputs": [
    {
     "data": {
      "text/plain": [
       "array([[0, 0, 0, 0, 0, 0, 0],\n",
       "       [1, 1, 1, 1, 1, 1, 1],\n",
       "       [2, 2, 2, 2, 2, 2, 2],\n",
       "       [3, 3, 3, 3, 3, 3, 3],\n",
       "       [4, 4, 4, 4, 4, 4, 4],\n",
       "       [5, 5, 5, 5, 5, 5, 5],\n",
       "       [6, 6, 6, 6, 6, 6, 6],\n",
       "       [7, 7, 7, 7, 7, 7, 7],\n",
       "       [8, 8, 8, 8, 8, 8, 8],\n",
       "       [9, 9, 9, 9, 9, 9, 9]])"
      ]
     },
     "execution_count": 5,
     "metadata": {},
     "output_type": "execute_result"
    }
   ],
   "source": [
    "y"
   ]
  },
  {
   "cell_type": "code",
   "execution_count": 20,
   "metadata": {},
   "outputs": [
    {
     "data": {
      "text/plain": [
       "array([[0, 1, 2, 3, 4, 5, 6, 7, 8, 9],\n",
       "       [0, 1, 2, 3, 4, 5, 6, 7, 8, 9],\n",
       "       [0, 1, 2, 3, 4, 5, 6, 7, 8, 9],\n",
       "       [0, 1, 2, 3, 4, 5, 6, 7, 8, 9],\n",
       "       [0, 1, 2, 3, 4, 5, 6, 7, 8, 9],\n",
       "       [0, 1, 2, 3, 4, 5, 6, 7, 8, 9],\n",
       "       [0, 1, 2, 3, 4, 5, 6, 7, 8, 9],\n",
       "       [0, 1, 2, 3, 4, 5, 6, 7, 8, 9],\n",
       "       [0, 1, 2, 3, 4, 5, 6, 7, 8, 9],\n",
       "       [0, 1, 2, 3, 4, 5, 6, 7, 8, 9]])"
      ]
     },
     "execution_count": 20,
     "metadata": {},
     "output_type": "execute_result"
    }
   ],
   "source": [
    "df.loc[df.loc[:, ['X', 'Y', 'area']]"
   ]
  },
  {
   "cell_type": "code",
   "execution_count": 12,
   "metadata": {
    "collapsed": true,
    "slideshow": {
     "slide_type": "notes"
    }
   },
   "outputs": [],
   "source": [
    "burned = df.loc[df.loc[:, 'area'] > 0, ['X', 'Y', 'area']]"
   ]
  },
  {
   "cell_type": "code",
   "execution_count": 28,
   "metadata": {
    "slideshow": {
     "slide_type": "notes"
    }
   },
   "outputs": [
    {
     "data": {
      "image/png": "[encoded data removed]",
      "text/plain": [
       "<matplotlib.figure.Figure at 0x159bcc5cdd8>"
      ]
     },
     "metadata": {},
     "output_type": "display_data"
    }
   ],
   "source": [
    "fig = plt.figure()\n",
    "#ax = fig.add_subplot(111, projection='3d')\n",
    "\n",
    "#ax.scatter(df.loc[:, 'X'], df.loc[:, 'Y'], df.loc[:, 'area'], marker='^')\n",
    "xs, ys = np.meshgrid(range(10), range(10))\n",
    "xs\n",
    "\n",
    "zs = np.zeros(xs.shape)\n",
    "for i, row  in burned.iterrows():\n",
    "    x, y = int(row['X']), int(row['Y'])\n",
    "    #print (x,y)\n",
    "    #if zs[x, y] > 0:\n",
    "    #    print(x, y, \":duplicate entries!\")\n",
    "    zs[x, y] += row['area']\n",
    "    \n",
    "plt.contourf(xs,ys,zs, alpha=0.7, cmap=plt.cm.inferno)\n",
    "plt.grid(c='k', ls='-', alpha=0.3)\n",
    "\n",
    "#plt.show()"
   ]
  },
  {
   "cell_type": "code",
   "execution_count": 29,
   "metadata": {
    "slideshow": {
     "slide_type": "notes"
    }
   },
   "outputs": [
    {
     "data": {
      "text/html": [
       "<div>\n",
       "<style>\n",
       "    .dataframe thead tr:only-child th {\n",
       "        text-align: right;\n",
       "    }\n",
       "\n",
       "    .dataframe thead th {\n",
       "        text-align: left;\n",
       "    }\n",
       "\n",
       "    .dataframe tbody tr th {\n",
       "        vertical-align: top;\n",
       "    }\n",
       "</style>\n",
       "<table border=\"1\" class=\"dataframe\">\n",
       "  <thead>\n",
       "    <tr style=\"text-align: right;\">\n",
       "      <th></th>\n",
       "      <th>0</th>\n",
       "      <th>1</th>\n",
       "      <th>2</th>\n",
       "      <th>3</th>\n",
       "      <th>4</th>\n",
       "      <th>5</th>\n",
       "      <th>6</th>\n",
       "      <th>7</th>\n",
       "      <th>8</th>\n",
       "      <th>9</th>\n",
       "    </tr>\n",
       "  </thead>\n",
       "  <tbody>\n",
       "    <tr>\n",
       "      <th>0</th>\n",
       "      <td>0.0</td>\n",
       "      <td>0.0</td>\n",
       "      <td>0.00</td>\n",
       "      <td>0.00</td>\n",
       "      <td>0.00</td>\n",
       "      <td>0.00</td>\n",
       "      <td>0.00</td>\n",
       "      <td>0.0</td>\n",
       "      <td>0.00</td>\n",
       "      <td>0.00</td>\n",
       "    </tr>\n",
       "    <tr>\n",
       "      <th>1</th>\n",
       "      <td>0.0</td>\n",
       "      <td>0.0</td>\n",
       "      <td>219.94</td>\n",
       "      <td>157.14</td>\n",
       "      <td>150.28</td>\n",
       "      <td>115.47</td>\n",
       "      <td>0.00</td>\n",
       "      <td>0.0</td>\n",
       "      <td>0.00</td>\n",
       "      <td>0.00</td>\n",
       "    </tr>\n",
       "    <tr>\n",
       "      <th>2</th>\n",
       "      <td>0.0</td>\n",
       "      <td>0.0</td>\n",
       "      <td>462.65</td>\n",
       "      <td>0.00</td>\n",
       "      <td>143.37</td>\n",
       "      <td>92.63</td>\n",
       "      <td>0.00</td>\n",
       "      <td>0.0</td>\n",
       "      <td>0.00</td>\n",
       "      <td>0.00</td>\n",
       "    </tr>\n",
       "    <tr>\n",
       "      <th>3</th>\n",
       "      <td>0.0</td>\n",
       "      <td>0.0</td>\n",
       "      <td>0.00</td>\n",
       "      <td>6.58</td>\n",
       "      <td>126.35</td>\n",
       "      <td>2.18</td>\n",
       "      <td>0.00</td>\n",
       "      <td>0.0</td>\n",
       "      <td>0.00</td>\n",
       "      <td>0.00</td>\n",
       "    </tr>\n",
       "    <tr>\n",
       "      <th>4</th>\n",
       "      <td>0.0</td>\n",
       "      <td>0.0</td>\n",
       "      <td>0.00</td>\n",
       "      <td>172.88</td>\n",
       "      <td>397.43</td>\n",
       "      <td>287.01</td>\n",
       "      <td>87.73</td>\n",
       "      <td>0.0</td>\n",
       "      <td>0.00</td>\n",
       "      <td>0.00</td>\n",
       "    </tr>\n",
       "    <tr>\n",
       "      <th>5</th>\n",
       "      <td>0.0</td>\n",
       "      <td>0.0</td>\n",
       "      <td>0.00</td>\n",
       "      <td>0.00</td>\n",
       "      <td>73.75</td>\n",
       "      <td>0.00</td>\n",
       "      <td>17.62</td>\n",
       "      <td>0.0</td>\n",
       "      <td>0.00</td>\n",
       "      <td>0.00</td>\n",
       "    </tr>\n",
       "    <tr>\n",
       "      <th>6</th>\n",
       "      <td>0.0</td>\n",
       "      <td>0.0</td>\n",
       "      <td>0.00</td>\n",
       "      <td>192.78</td>\n",
       "      <td>144.47</td>\n",
       "      <td>1384.05</td>\n",
       "      <td>8.59</td>\n",
       "      <td>0.0</td>\n",
       "      <td>0.00</td>\n",
       "      <td>0.00</td>\n",
       "    </tr>\n",
       "    <tr>\n",
       "      <th>7</th>\n",
       "      <td>0.0</td>\n",
       "      <td>0.0</td>\n",
       "      <td>0.00</td>\n",
       "      <td>27.35</td>\n",
       "      <td>474.37</td>\n",
       "      <td>77.39</td>\n",
       "      <td>86.45</td>\n",
       "      <td>0.0</td>\n",
       "      <td>0.00</td>\n",
       "      <td>0.00</td>\n",
       "    </tr>\n",
       "    <tr>\n",
       "      <th>8</th>\n",
       "      <td>0.0</td>\n",
       "      <td>0.0</td>\n",
       "      <td>0.00</td>\n",
       "      <td>26.31</td>\n",
       "      <td>12.18</td>\n",
       "      <td>2.93</td>\n",
       "      <td>1265.30</td>\n",
       "      <td>0.0</td>\n",
       "      <td>185.76</td>\n",
       "      <td>0.00</td>\n",
       "    </tr>\n",
       "    <tr>\n",
       "      <th>9</th>\n",
       "      <td>0.0</td>\n",
       "      <td>0.0</td>\n",
       "      <td>0.00</td>\n",
       "      <td>0.00</td>\n",
       "      <td>185.61</td>\n",
       "      <td>8.16</td>\n",
       "      <td>42.87</td>\n",
       "      <td>0.0</td>\n",
       "      <td>0.00</td>\n",
       "      <td>4.47</td>\n",
       "    </tr>\n",
       "  </tbody>\n",
       "</table>\n",
       "</div>"
      ],
      "text/plain": [
       "     0    1       2       3       4        5        6    7       8     9\n",
       "0  0.0  0.0    0.00    0.00    0.00     0.00     0.00  0.0    0.00  0.00\n",
       "1  0.0  0.0  219.94  157.14  150.28   115.47     0.00  0.0    0.00  0.00\n",
       "2  0.0  0.0  462.65    0.00  143.37    92.63     0.00  0.0    0.00  0.00\n",
       "3  0.0  0.0    0.00    6.58  126.35     2.18     0.00  0.0    0.00  0.00\n",
       "4  0.0  0.0    0.00  172.88  397.43   287.01    87.73  0.0    0.00  0.00\n",
       "5  0.0  0.0    0.00    0.00   73.75     0.00    17.62  0.0    0.00  0.00\n",
       "6  0.0  0.0    0.00  192.78  144.47  1384.05     8.59  0.0    0.00  0.00\n",
       "7  0.0  0.0    0.00   27.35  474.37    77.39    86.45  0.0    0.00  0.00\n",
       "8  0.0  0.0    0.00   26.31   12.18     2.93  1265.30  0.0  185.76  0.00\n",
       "9  0.0  0.0    0.00    0.00  185.61     8.16    42.87  0.0    0.00  4.47"
      ]
     },
     "execution_count": 29,
     "metadata": {},
     "output_type": "execute_result"
    }
   ],
   "source": [
    "pd.DataFrame(zs)"
   ]
  },
  {
   "cell_type": "code",
   "execution_count": 30,
   "metadata": {
    "slideshow": {
     "slide_type": "notes"
    }
   },
   "outputs": [
    {
     "data": {
      "text/plain": [
       "<matplotlib.contour.QuadContourSet at 0x159bcc641d0>"
      ]
     },
     "execution_count": 30,
     "metadata": {},
     "output_type": "execute_result"
    },
    {
     "data": {
      "image/png": "[encoded data removed]",
      "text/plain": [
       "<matplotlib.figure.Figure at 0x159bce07358>"
      ]
     },
     "metadata": {},
     "output_type": "display_data"
    }
   ],
   "source": [
    "plt.contourf(xs, ys, np.log(zs + 1), alpha=0.7, cmap=plt.cm.inferno)"
   ]
  },
  {
   "cell_type": "code",
   "execution_count": 31,
   "metadata": {},
   "outputs": [
    {
     "data": {
      "text/plain": [
       "array([[<matplotlib.axes._subplots.AxesSubplot object at 0x00000159BCC6B6D8>,\n",
       "        <matplotlib.axes._subplots.AxesSubplot object at 0x00000159BBA334A8>]], dtype=object)"
      ]
     },
     "execution_count": 31,
     "metadata": {},
     "output_type": "execute_result"
    },
    {
     "data": {
      "image/png": "[encoded data removed]",
      "text/plain": [
       "<matplotlib.figure.Figure at 0x159bcc07d30>"
      ]
     },
     "metadata": {},
     "output_type": "display_data"
    }
   ],
   "source": [
    "burned.loc[:, ['X', 'Y']].hist()"
   ]
  },
  {
   "cell_type": "code",
   "execution_count": 32,
   "metadata": {
    "slideshow": {
     "slide_type": "notes"
    }
   },
   "outputs": [
    {
     "data": {
      "image/png": "[encoded data removed]",
      "text/plain": [
       "<matplotlib.figure.Figure at 0x159bb9a6710>"
      ]
     },
     "metadata": {},
     "output_type": "display_data"
    }
   ],
   "source": [
    "fig = plt.figure()\n",
    "ax = fig.add_subplot(111, projection='3d')\n",
    "hist, xedges, yedges = np.histogram2d(burned.loc[:, 'X'], burned.loc[:, 'Y'], bins=9, range=[[1, 9], [1, 9]])\n",
    "\n",
    "# Construct arrays for the anchor positions of the 16 bars.\n",
    "# Note: np.meshgrid gives arrays in (ny, nx) so we use 'F' to flatten xpos,\n",
    "# ypos in column-major order. For numpy >= 1.7, we could instead call meshgrid\n",
    "# with indexing='ij'.\n",
    "xpos, ypos = np.meshgrid(xedges[:-1] + 0.25, yedges[:-1] + 0.25)\n",
    "xpos = xpos.flatten('F')\n",
    "ypos = ypos.flatten('F')\n",
    "zpos = np.zeros_like(xpos)\n",
    "\n",
    "# Construct arrays with the dimensions for the 16 bars.\n",
    "dx = 0.5 * np.ones_like(zpos)\n",
    "dy = dx.copy()\n",
    "dz = hist.flatten()\n",
    "\n",
    "ax.bar3d(xpos, ypos, zpos, dx, dy, dz, color='b', zsort='average')\n",
    "\n",
    "plt.show()"
   ]
  },
  {
   "cell_type": "code",
   "execution_count": 33,
   "metadata": {
    "collapsed": true,
    "slideshow": {
     "slide_type": "notes"
    }
   },
   "outputs": [],
   "source": [
    "X = df.iloc[:, :-1]\n",
    "T = df.iloc[:, -1].as_matrix()\n",
    "N = df.shape[0]\n",
    "\n",
    "# forgot conversion of string\n",
    "monthdic = {'jan': 1, 'feb':2, 'mar':3, 'apr':4, 'may':5, 'jun':6, \n",
    "            'jul': 7, 'aug':8, 'sep':9, 'oct':10, 'nov': 11, 'dec': 12}\n",
    "daydic = {'mon': 1, 'tue':2, 'wed':3, 'thu':4, 'fri':5, 'sat':6, 'sun':7 }\n",
    "\n",
    "X['month'] = X['month'].apply(lambda x: monthdic[x])\n",
    "X['day'] = X['day'].apply(lambda x: daydic[x])\n",
    "X = X.as_matrix()\n",
    "\n",
    "Tlog = np.log(T + 1)"
   ]
  },
  {
   "cell_type": "code",
   "execution_count": 38,
   "metadata": {
    "slideshow": {
     "slide_type": "notes"
    }
   },
   "outputs": [
    {
     "data": {
      "text/plain": [
       "array([  0.00000000e+00,   0.00000000e+00,   0.00000000e+00,\n",
       "         0.00000000e+00,   0.00000000e+00,   0.00000000e+00,\n",
       "         0.00000000e+00,   0.00000000e+00,   0.00000000e+00,\n",
       "         0.00000000e+00,   0.00000000e+00,   0.00000000e+00,\n",
       "         0.00000000e+00,   0.00000000e+00,   0.00000000e+00,\n",
       "         0.00000000e+00,   0.00000000e+00,   0.00000000e+00,\n",
       "         0.00000000e+00,   0.00000000e+00,   0.00000000e+00,\n",
       "         0.00000000e+00,   0.00000000e+00,   0.00000000e+00,\n",
       "         0.00000000e+00,   0.00000000e+00,   0.00000000e+00,\n",
       "         0.00000000e+00,   0.00000000e+00,   0.00000000e+00,\n",
       "         0.00000000e+00,   0.00000000e+00,   0.00000000e+00,\n",
       "         0.00000000e+00,   0.00000000e+00,   0.00000000e+00,\n",
       "         0.00000000e+00,   0.00000000e+00,   0.00000000e+00,\n",
       "         0.00000000e+00,   0.00000000e+00,   0.00000000e+00,\n",
       "         0.00000000e+00,   0.00000000e+00,   0.00000000e+00,\n",
       "         0.00000000e+00,   0.00000000e+00,   0.00000000e+00,\n",
       "         0.00000000e+00,   0.00000000e+00,   0.00000000e+00,\n",
       "         0.00000000e+00,   0.00000000e+00,   0.00000000e+00,\n",
       "         0.00000000e+00,   0.00000000e+00,   0.00000000e+00,\n",
       "         0.00000000e+00,   0.00000000e+00,   0.00000000e+00,\n",
       "         0.00000000e+00,   0.00000000e+00,   0.00000000e+00,\n",
       "         0.00000000e+00,   0.00000000e+00,   0.00000000e+00,\n",
       "         0.00000000e+00,   0.00000000e+00,   0.00000000e+00,\n",
       "         0.00000000e+00,   0.00000000e+00,   0.00000000e+00,\n",
       "         0.00000000e+00,   0.00000000e+00,   0.00000000e+00,\n",
       "         0.00000000e+00,   0.00000000e+00,   0.00000000e+00,\n",
       "         0.00000000e+00,   0.00000000e+00,   0.00000000e+00,\n",
       "         0.00000000e+00,   0.00000000e+00,   0.00000000e+00,\n",
       "         0.00000000e+00,   0.00000000e+00,   0.00000000e+00,\n",
       "         0.00000000e+00,   0.00000000e+00,   0.00000000e+00,\n",
       "         0.00000000e+00,   0.00000000e+00,   0.00000000e+00,\n",
       "         0.00000000e+00,   0.00000000e+00,   0.00000000e+00,\n",
       "         0.00000000e+00,   0.00000000e+00,   0.00000000e+00,\n",
       "         0.00000000e+00,   0.00000000e+00,   0.00000000e+00,\n",
       "         0.00000000e+00,   0.00000000e+00,   0.00000000e+00,\n",
       "         0.00000000e+00,   0.00000000e+00,   0.00000000e+00,\n",
       "         0.00000000e+00,   0.00000000e+00,   0.00000000e+00,\n",
       "         0.00000000e+00,   0.00000000e+00,   0.00000000e+00,\n",
       "         0.00000000e+00,   0.00000000e+00,   0.00000000e+00,\n",
       "         0.00000000e+00,   0.00000000e+00,   0.00000000e+00,\n",
       "         0.00000000e+00,   0.00000000e+00,   0.00000000e+00,\n",
       "         0.00000000e+00,   0.00000000e+00,   0.00000000e+00,\n",
       "         0.00000000e+00,   0.00000000e+00,   0.00000000e+00,\n",
       "         0.00000000e+00,   0.00000000e+00,   0.00000000e+00,\n",
       "         0.00000000e+00,   0.00000000e+00,   0.00000000e+00,\n",
       "         0.00000000e+00,   0.00000000e+00,   0.00000000e+00,\n",
       "         3.60000000e-01,   4.30000000e-01,   4.70000000e-01,\n",
       "         5.50000000e-01,   6.10000000e-01,   7.10000000e-01,\n",
       "         7.70000000e-01,   9.00000000e-01,   9.50000000e-01,\n",
       "         9.60000000e-01,   1.07000000e+00,   1.12000000e+00,\n",
       "         1.19000000e+00,   1.36000000e+00,   1.43000000e+00,\n",
       "         1.46000000e+00,   1.46000000e+00,   1.56000000e+00,\n",
       "         1.61000000e+00,   1.63000000e+00,   1.64000000e+00,\n",
       "         1.69000000e+00,   1.75000000e+00,   1.90000000e+00,\n",
       "         1.94000000e+00,   1.95000000e+00,   2.01000000e+00,\n",
       "         2.14000000e+00,   2.29000000e+00,   2.51000000e+00,\n",
       "         2.53000000e+00,   2.55000000e+00,   2.57000000e+00,\n",
       "         2.69000000e+00,   2.74000000e+00,   3.07000000e+00,\n",
       "         3.50000000e+00,   4.53000000e+00,   4.61000000e+00,\n",
       "         4.69000000e+00,   4.88000000e+00,   5.23000000e+00,\n",
       "         5.33000000e+00,   5.44000000e+00,   6.38000000e+00,\n",
       "         6.83000000e+00,   6.96000000e+00,   7.04000000e+00,\n",
       "         7.19000000e+00,   7.30000000e+00,   7.40000000e+00,\n",
       "         8.24000000e+00,   8.31000000e+00,   8.68000000e+00,\n",
       "         8.71000000e+00,   9.41000000e+00,   1.00100000e+01,\n",
       "         1.00200000e+01,   1.09300000e+01,   1.10600000e+01,\n",
       "         1.12400000e+01,   1.13200000e+01,   1.15300000e+01,\n",
       "         1.21000000e+01,   1.30500000e+01,   1.37000000e+01,\n",
       "         1.39900000e+01,   1.45700000e+01,   1.54500000e+01,\n",
       "         1.72000000e+01,   1.92300000e+01,   2.34100000e+01,\n",
       "         2.42300000e+01,   2.60000000e+01,   2.61300000e+01,\n",
       "         2.73500000e+01,   2.86600000e+01,   2.86600000e+01,\n",
       "         2.94800000e+01,   3.03200000e+01,   3.17200000e+01,\n",
       "         3.18600000e+01,   3.20700000e+01,   3.58800000e+01,\n",
       "         3.68500000e+01,   3.70200000e+01,   3.77100000e+01,\n",
       "         4.85500000e+01,   4.93700000e+01,   5.83000000e+01,\n",
       "         6.41000000e+01,   7.13000000e+01,   8.84900000e+01,\n",
       "         9.51800000e+01,   1.03390000e+02,   1.05660000e+02,\n",
       "         1.54880000e+02,   1.96480000e+02,   2.00940000e+02,\n",
       "         2.12880000e+02,   1.09084000e+03,   0.00000000e+00,\n",
       "         0.00000000e+00,   0.00000000e+00,   1.01300000e+01,\n",
       "         0.00000000e+00,   2.87000000e+00,   7.60000000e-01,\n",
       "         9.00000000e-02,   7.50000000e-01,   0.00000000e+00,\n",
       "         2.47000000e+00,   6.80000000e-01,   2.40000000e-01,\n",
       "         2.10000000e-01,   1.52000000e+00,   1.03400000e+01,\n",
       "         0.00000000e+00,   8.02000000e+00,   6.80000000e-01,\n",
       "         0.00000000e+00,   1.38000000e+00,   8.85000000e+00,\n",
       "         3.30000000e+00,   4.25000000e+00,   1.56000000e+00,\n",
       "         6.54000000e+00,   7.90000000e-01,   1.70000000e-01,\n",
       "         0.00000000e+00,   0.00000000e+00,   4.40000000e+00,\n",
       "         5.20000000e-01,   9.27000000e+00,   3.09000000e+00,\n",
       "         8.98000000e+00,   1.11900000e+01,   5.38000000e+00,\n",
       "         1.78500000e+01,   1.07300000e+01,   2.20300000e+01,\n",
       "         9.77000000e+00,   9.27000000e+00,   2.47700000e+01,\n",
       "         0.00000000e+00,   1.10000000e+00,   2.42400000e+01,\n",
       "         0.00000000e+00,   0.00000000e+00,   0.00000000e+00,\n",
       "         0.00000000e+00,   0.00000000e+00,   0.00000000e+00,\n",
       "         8.00000000e+00,   2.64000000e+00,   8.64500000e+01,\n",
       "         6.57000000e+00,   0.00000000e+00,   9.00000000e-01,\n",
       "         0.00000000e+00,   0.00000000e+00,   0.00000000e+00,\n",
       "         0.00000000e+00,   3.52000000e+00,   0.00000000e+00,\n",
       "         0.00000000e+00,   0.00000000e+00,   0.00000000e+00,\n",
       "         4.10000000e-01,   5.18000000e+00,   0.00000000e+00,\n",
       "         0.00000000e+00,   0.00000000e+00,   1.42900000e+01,\n",
       "         0.00000000e+00,   0.00000000e+00,   1.58000000e+00,\n",
       "         0.00000000e+00,   0.00000000e+00,   3.78000000e+00,\n",
       "         0.00000000e+00,   4.41000000e+00,   3.43600000e+01,\n",
       "         7.21000000e+00,   1.01000000e+00,   2.18000000e+00,\n",
       "         4.42000000e+00,   0.00000000e+00,   0.00000000e+00,\n",
       "         0.00000000e+00,   0.00000000e+00,   3.33000000e+00,\n",
       "         6.58000000e+00,   1.56400000e+01,   1.12200000e+01,\n",
       "         2.13000000e+00,   0.00000000e+00,   0.00000000e+00,\n",
       "         0.00000000e+00,   5.60400000e+01,   7.48000000e+00,\n",
       "         1.47000000e+00,   3.93000000e+00,   0.00000000e+00,\n",
       "         0.00000000e+00,   2.18000000e+00,   6.10000000e+00,\n",
       "         5.83000000e+00,   2.81900000e+01,   0.00000000e+00,\n",
       "         0.00000000e+00,   1.64000000e+00,   3.71000000e+00,\n",
       "         7.31000000e+00,   2.03000000e+00,   1.72000000e+00,\n",
       "         5.97000000e+00,   1.30600000e+01,   1.26000000e+00,\n",
       "         0.00000000e+00,   0.00000000e+00,   8.12000000e+00,\n",
       "         1.09000000e+00,   3.94000000e+00,   5.20000000e-01,\n",
       "         2.93000000e+00,   5.65000000e+00,   2.00300000e+01,\n",
       "         1.75000000e+00,   0.00000000e+00,   1.26400000e+01,\n",
       "         0.00000000e+00,   1.10600000e+01,   0.00000000e+00,\n",
       "         0.00000000e+00,   0.00000000e+00,   1.83000000e+01,\n",
       "         3.93500000e+01,   0.00000000e+00,   1.74630000e+02,\n",
       "         0.00000000e+00,   0.00000000e+00,   7.73000000e+00,\n",
       "         1.63300000e+01,   5.86000000e+00,   4.28700000e+01,\n",
       "         1.21800000e+01,   1.60000000e+01,   2.45900000e+01,\n",
       "         0.00000000e+00,   2.87400000e+01,   0.00000000e+00,\n",
       "         9.96000000e+00,   3.01800000e+01,   7.07600000e+01,\n",
       "         0.00000000e+00,   0.00000000e+00,   5.17800000e+01,\n",
       "         3.64000000e+00,   3.63000000e+00,   0.00000000e+00,\n",
       "         0.00000000e+00,   8.16000000e+00,   4.95000000e+00,\n",
       "         0.00000000e+00,   0.00000000e+00,   6.04000000e+00,\n",
       "         0.00000000e+00,   3.95000000e+00,   0.00000000e+00,\n",
       "         7.80000000e+00,   0.00000000e+00,   0.00000000e+00,\n",
       "         4.62000000e+00,   1.63000000e+00,   0.00000000e+00,\n",
       "         0.00000000e+00,   7.46280000e+02,   7.02000000e+00,\n",
       "         0.00000000e+00,   2.44000000e+00,   3.05000000e+00,\n",
       "         1.85760000e+02,   0.00000000e+00,   6.30000000e+00,\n",
       "         7.20000000e-01,   4.96000000e+00,   0.00000000e+00,\n",
       "         0.00000000e+00,   2.35000000e+00,   0.00000000e+00,\n",
       "         3.20000000e+00,   0.00000000e+00,   6.36000000e+00,\n",
       "         0.00000000e+00,   1.53400000e+01,   0.00000000e+00,\n",
       "         0.00000000e+00,   5.40000000e-01,   0.00000000e+00,\n",
       "         6.43000000e+00,   3.30000000e-01,   0.00000000e+00,\n",
       "         1.23000000e+00,   3.35000000e+00,   0.00000000e+00,\n",
       "         9.96000000e+00,   0.00000000e+00,   0.00000000e+00,\n",
       "         0.00000000e+00,   0.00000000e+00,   0.00000000e+00,\n",
       "         6.43000000e+00,   9.71000000e+00,   0.00000000e+00,\n",
       "         0.00000000e+00,   0.00000000e+00,   0.00000000e+00,\n",
       "         0.00000000e+00,   8.27500000e+01,   3.32000000e+00,\n",
       "         1.94000000e+00,   0.00000000e+00,   0.00000000e+00,\n",
       "         3.71000000e+00,   5.39000000e+00,   2.14000000e+00,\n",
       "         6.84000000e+00,   3.18000000e+00,   5.55000000e+00,\n",
       "         6.61000000e+00,   6.11300000e+01,   0.00000000e+00,\n",
       "         3.84800000e+01,   1.94000000e+00,   7.03200000e+01,\n",
       "         1.00800000e+01,   3.19000000e+00,   1.76000000e+00,\n",
       "         7.36000000e+00,   2.21000000e+00,   2.78530000e+02,\n",
       "         2.75000000e+00,   0.00000000e+00,   1.29000000e+00,\n",
       "         0.00000000e+00,   2.64300000e+01,   2.07000000e+00,\n",
       "         2.00000000e+00,   1.64000000e+01,   4.67000000e+01,\n",
       "         0.00000000e+00,   0.00000000e+00,   0.00000000e+00,\n",
       "         0.00000000e+00,   4.33200000e+01,   8.59000000e+00,\n",
       "         0.00000000e+00,   2.77000000e+00,   1.46800000e+01,\n",
       "         4.05400000e+01,   1.08200000e+01,   0.00000000e+00,\n",
       "         0.00000000e+00,   0.00000000e+00,   1.95000000e+00,\n",
       "         4.95900000e+01,   5.80000000e+00,   0.00000000e+00,\n",
       "         0.00000000e+00,   0.00000000e+00,   2.17000000e+00,\n",
       "         4.30000000e-01,   0.00000000e+00,   6.44000000e+00,\n",
       "         5.42900000e+01,   1.11600000e+01,   0.00000000e+00,\n",
       "         0.00000000e+00])"
      ]
     },
     "execution_count": 38,
     "metadata": {},
     "output_type": "execute_result"
    }
   ],
   "source": [
    "# adding basis\n",
    "X1 = np.hstack((np.ones((N,1)), X))\n",
    "X1"
   ]
  },
  {
   "cell_type": "code",
   "execution_count": 39,
   "metadata": {
    "collapsed": true,
    "slideshow": {
     "slide_type": "notes"
    }
   },
   "outputs": [],
   "source": [
    "w = np.linalg.lstsq(X1.T @ X1, X1.T @ Tlog)[0]"
   ]
  },
  {
   "cell_type": "code",
   "execution_count": 40,
   "metadata": {
    "slideshow": {
     "slide_type": "notes"
    }
   },
   "outputs": [
    {
     "data": {
      "text/plain": [
       "array([-0.30477203,  0.0425947 , -0.00129011,  0.1550639 ,  0.00862479,\n",
       "        0.00502995,  0.00240059, -0.00119776, -0.02492829,  0.00730238,\n",
       "       -0.00418998,  0.05759247,  0.08504343])"
      ]
     },
     "execution_count": 40,
     "metadata": {},
     "output_type": "execute_result"
    }
   ],
   "source": [
    "w"
   ]
  },
  {
   "cell_type": "code",
   "execution_count": 41,
   "metadata": {
    "collapsed": true,
    "slideshow": {
     "slide_type": "notes"
    }
   },
   "outputs": [],
   "source": [
    "Y = X1 @ w"
   ]
  },
  {
   "cell_type": "code",
   "execution_count": 42,
   "metadata": {
    "slideshow": {
     "slide_type": "notes"
    }
   },
   "outputs": [
    {
     "data": {
      "text/plain": [
       "array([ -9.83710145e-01,  -1.17337675e+00,  -1.20468948e+00,\n",
       "        -6.62126038e-01,  -5.36517929e-01,  -1.39881263e+00,\n",
       "        -1.39095028e+00,  -9.16238885e-01,  -1.34829409e+00,\n",
       "        -1.32630278e+00,  -1.42799699e+00,  -8.71468247e-01,\n",
       "        -1.10886089e+00,  -1.21894482e+00,  -1.44973973e+00,\n",
       "        -1.28358032e+00,  -9.82795114e-01,  -1.43146508e+00,\n",
       "        -9.10328725e-01,  -1.01678326e+00,  -1.24452716e+00,\n",
       "        -9.96311947e-01,  -2.74615833e-01,  -1.49844740e+00,\n",
       "        -1.24070091e+00,  -1.28475110e+00,  -1.40081735e+00,\n",
       "        -1.17198201e+00,  -1.42257899e+00,  -1.36739108e+00,\n",
       "        -1.13092152e+00,  -1.18254112e+00,  -1.10650226e+00,\n",
       "        -1.16398686e+00,  -1.08067163e+00,  -1.10831797e+00,\n",
       "        -1.40413367e+00,  -1.24196105e+00,  -1.40998675e+00,\n",
       "        -7.50319555e-01,  -1.22554067e+00,  -1.21377324e+00,\n",
       "        -8.62136405e-01,  -1.06805114e+00,  -9.64698295e-01,\n",
       "        -1.09389509e+00,  -1.09017434e+00,  -1.05145719e+00,\n",
       "        -6.93732900e-01,  -8.72851759e-01,  -1.16677330e+00,\n",
       "        -1.08359007e+00,  -1.09074974e+00,  -1.09074974e+00,\n",
       "        -1.07055703e+00,  -1.24095323e+00,  -1.03905463e+00,\n",
       "        -1.04894130e+00,  -6.93261293e-01,  -3.42710527e-01,\n",
       "        -7.68609003e-01,  -6.69791367e-01,  -1.22341162e+00,\n",
       "        -1.02756534e+00,  -1.04055927e+00,  -1.04998333e+00,\n",
       "        -1.13219349e+00,  -1.17595851e+00,  -1.22779173e+00,\n",
       "        -8.67304587e-01,  -9.53358161e-01,  -9.32453823e-01,\n",
       "        -1.00736200e+00,  -1.20601615e+00,  -1.09912752e+00,\n",
       "        -5.24088263e-01,  -8.16893966e-01,  -4.62202252e-01,\n",
       "        -7.71467122e-01,  -1.35850953e+00,  -1.19495353e+00,\n",
       "        -8.88907731e-01,  -7.12274025e-01,  -6.85186946e-01,\n",
       "        -9.63049246e-01,  -1.03202408e+00,  -1.08509384e+00,\n",
       "        -1.03385684e+00,  -1.18653360e+00,  -1.02176902e+00,\n",
       "        -1.14759085e+00,  -1.13002972e+00,  -1.42785258e+00,\n",
       "        -1.38107349e+00,  -1.30783053e+00,  -9.56967887e-01,\n",
       "        -5.15247719e-01,  -9.89106445e-01,  -9.15088472e-01,\n",
       "        -1.22792020e+00,  -1.22792020e+00,  -1.05511356e+00,\n",
       "        -7.80535598e-01,  -1.27005155e+00,  -2.10900667e-01,\n",
       "        -9.45619234e-01,  -8.06257563e-01,  -1.13630280e+00,\n",
       "        -1.10747962e+00,  -1.10552238e+00,  -9.63125303e-01,\n",
       "        -8.71203645e-01,  -1.18809724e+00,  -9.22232012e-01,\n",
       "        -1.06938165e+00,  -9.91030611e-01,  -9.12600775e-01,\n",
       "        -8.70829839e-01,  -7.63964411e-01,  -1.16141158e+00,\n",
       "        -7.72920850e-01,  -1.13676228e+00,  -1.30859641e+00,\n",
       "        -1.06755957e+00,  -9.55680966e-01,  -1.31915179e+00,\n",
       "        -5.94459369e-01,  -1.13332770e+00,  -1.13781596e+00,\n",
       "        -9.32038729e-01,  -5.90367721e-01,  -7.65328208e-01,\n",
       "        -7.60902729e-01,  -8.17609643e-01,  -7.33226543e-01,\n",
       "        -9.40687898e-01,  -9.64144787e-01,  -9.99520769e-01,\n",
       "        -1.04806376e+00,  -6.78291064e-01,  -6.57218011e-01,\n",
       "        -6.39109071e-01,  -1.05562382e+00,  -5.50167552e-01,\n",
       "        -5.96403244e-01,  -7.58266862e-01,  -2.39040299e-01,\n",
       "        -7.54909576e-01,  -1.78780505e-01,  -4.32975966e-01,\n",
       "        -3.55638688e-01,  -5.53371342e-01,  -8.38741633e-02,\n",
       "        -1.26673427e-01,  -2.89912565e-01,   1.15222574e-01,\n",
       "        -2.38509887e-01,   6.21782985e-02,  -1.17181783e-02,\n",
       "        -4.11276156e-01,   8.47378430e-02,  -2.05243612e-01,\n",
       "        -1.17386751e-01,  -1.26600244e-01,  -6.33797666e-02,\n",
       "         3.65544169e-01,   2.96597475e-01,   5.97630471e-02,\n",
       "         1.23656760e-01,   3.18894858e-02,   1.11150528e-01,\n",
       "         1.10170074e-01,  -8.14040880e-02,   2.82316105e-01,\n",
       "         7.77051101e-01,   7.01420639e-01,   6.76955431e-01,\n",
       "         7.72788830e-01,   8.87895389e-01,   5.63869519e-01,\n",
       "         4.93609780e-01,   4.03811399e-01,   1.41107032e+00,\n",
       "         8.49963704e-01,   7.51988338e-01,   1.01878537e+00,\n",
       "         1.08389717e+00,   1.11247489e+00,   1.43938880e+00,\n",
       "         1.33273389e+00,   1.45495406e+00,   1.16369764e+00,\n",
       "         1.35296389e+00,   1.03910770e+00,   1.47861156e+00,\n",
       "         1.29141650e+00,   1.43146095e+00,   1.33395637e+00,\n",
       "         1.29237340e+00,   1.44607102e+00,   1.47323072e+00,\n",
       "         1.76735333e+00,   2.02574417e+00,   1.32107132e+00,\n",
       "         1.95621764e+00,   1.61280310e+00,   1.69104030e+00,\n",
       "         1.61429042e+00,   1.61286647e+00,   1.99153467e+00,\n",
       "         1.98619305e+00,   2.45911891e+00,   2.18861596e+00,\n",
       "         2.34270107e+00,   2.46323051e+00,   2.46323051e+00,\n",
       "         2.41832169e+00,   2.51984669e+00,   2.35046879e+00,\n",
       "         2.60747004e+00,   2.34014688e+00,   2.60659964e+00,\n",
       "         2.75948911e+00,   2.49327319e+00,   2.49716697e+00,\n",
       "         2.54647024e+00,   2.74240499e+00,   2.71102151e+00,\n",
       "         2.83175661e+00,   3.00276119e+00,   3.12828644e+00,\n",
       "         3.35638864e+00,   3.41325570e+00,   3.26207339e+00,\n",
       "         3.80574045e+00,   3.83412731e+00,   4.30515220e+00,\n",
       "         4.35642624e+00,   5.56959329e+00,  -8.77283053e-01,\n",
       "        -9.82958647e-01,  -1.05442832e+00,   1.52793683e+00,\n",
       "        -1.36472434e+00,   2.03286298e-01,  -6.51549033e-01,\n",
       "        -1.15181872e+00,  -3.07741077e-01,  -1.25320929e+00,\n",
       "         4.35197661e-01,  -7.57438000e-01,  -9.94583978e-01,\n",
       "        -9.44617329e-01,  -3.39168510e-01,   1.17107053e+00,\n",
       "        -9.17569406e-01,   9.64559474e-01,  -5.47552959e-01,\n",
       "        -7.66445985e-01,  -2.23804482e-01,   1.26246474e+00,\n",
       "         3.67207640e-01,   6.18118084e-01,  -3.41861138e-01,\n",
       "         1.02763505e+00,  -6.02382282e-01,  -6.84137354e-01,\n",
       "        -9.71387384e-01,  -9.58165591e-01,   8.10539725e-01,\n",
       "        -4.04723214e-01,   1.19555030e+00,   5.11122552e-01,\n",
       "         3.38916018e-01,   4.10931382e-01,   1.87394775e-02,\n",
       "         7.64676351e-01,   3.32907797e-01,   9.64961151e-01,\n",
       "         2.04927929e-01,   5.50815479e-01,   9.93769140e-01,\n",
       "        -3.49671495e-01,   1.41157004e-01,   2.38502663e+00,\n",
       "        -1.36573241e+00,  -1.32901016e+00,  -1.15471222e+00,\n",
       "        -1.18944364e+00,  -1.19855384e+00,  -8.47027387e-01,\n",
       "         9.95721988e-01,   2.44043385e-01,   2.88145886e+00,\n",
       "         9.04323825e-01,  -1.12470861e+00,  -4.71600033e-01,\n",
       "        -1.23132267e+00,  -1.27481650e+00,  -9.31317466e-01,\n",
       "        -1.34663398e+00,   2.03425290e-01,  -1.25806386e+00,\n",
       "        -1.25806386e+00,  -1.01398690e+00,  -8.91099794e-01,\n",
       "        -9.69309655e-01,   6.58118558e-01,  -8.27095987e-01,\n",
       "        -9.90543798e-01,  -1.23523447e+00,   1.59294352e+00,\n",
       "        -8.64414068e-01,  -1.30496683e+00,  -2.49084129e-03,\n",
       "        -1.02763073e+00,  -1.25422582e+00,   3.56376404e-01,\n",
       "        -1.17276473e+00,   3.24849817e-01,   2.15132024e+00,\n",
       "         1.07984655e+00,  -5.39055024e-01,   1.94129461e-01,\n",
       "         7.80783040e-01,  -1.02193549e+00,  -1.19158404e+00,\n",
       "        -1.13892860e+00,  -1.09236811e+00,   2.67836294e-01,\n",
       "         9.17098199e-01,   1.48451452e+00,   1.52262601e+00,\n",
       "         3.46456107e-01,  -1.06082062e+00,  -7.32148347e-01,\n",
       "        -1.12703104e+00,   2.88910771e+00,   9.08127026e-01,\n",
       "        -7.40497983e-03,   6.82571542e-01,  -1.10583362e+00,\n",
       "        -1.06907183e+00,  -5.60284423e-02,   8.95335706e-01,\n",
       "         9.99360242e-01,   2.48248934e+00,  -8.77490398e-01,\n",
       "        -9.72861234e-01,   2.74823219e-02,   6.72197510e-01,\n",
       "         9.96182094e-01,  -6.48715073e-02,  -9.83672071e-02,\n",
       "         8.92014927e-01,   1.48783334e+00,  -3.40135731e-01,\n",
       "        -1.03661647e+00,  -1.07957196e+00,   1.36373434e+00,\n",
       "        -2.88968397e-01,   5.70778153e-01,  -4.39456755e-01,\n",
       "         4.27608949e-01,   7.28788974e-01,   1.90993848e+00,\n",
       "        -1.97867997e-02,  -9.77462226e-01,   1.42928912e+00,\n",
       "        -1.48669496e+00,   8.74125026e-01,  -9.80327258e-01,\n",
       "        -9.26292794e-01,  -1.13327992e+00,   1.65683535e+00,\n",
       "         2.56599698e+00,  -1.28205853e+00,   4.02747160e+00,\n",
       "        -8.94430653e-01,   3.63194689e-01,   8.91904548e-01,\n",
       "         1.55685759e+00,   7.16699143e-01,   2.37607345e+00,\n",
       "         1.08027873e+00,   1.71496105e+00,   2.23317864e+00,\n",
       "        -8.62545818e-01,   2.08082499e+00,  -1.35426265e+00,\n",
       "         1.69035028e+00,   2.24506388e+00,   2.91756043e+00,\n",
       "        -9.17748847e-01,  -4.43832745e-01,   3.52508338e+00,\n",
       "         5.12063251e-01,   1.12413525e-01,  -1.22125575e+00,\n",
       "        -1.23211440e+00,   9.82731783e-01,   7.44688333e-01,\n",
       "        -1.48886879e+00,  -1.47683641e+00,   9.26496313e-01,\n",
       "        -1.18553089e+00,   7.52111313e-02,  -6.69910290e-01,\n",
       "         7.93362217e-01,  -1.04168057e+00,  -6.97038262e-01,\n",
       "         7.06939545e-01,  -4.24569326e-01,  -1.50121104e+00,\n",
       "        -1.31808757e+00,   5.11582590e+00,   8.76456370e-01,\n",
       "        -1.00030248e+00,  -1.10241987e-01,   9.09492723e-02,\n",
       "         3.67350399e+00,  -1.17240598e+00,   5.09814744e-01,\n",
       "        -4.15139902e-01,   2.30523710e-01,  -1.09100833e+00,\n",
       "        -1.34141606e+00,   4.22440126e-02,  -1.21933178e+00,\n",
       "         1.18412409e-01,  -1.53261769e+00,   8.10685845e-01,\n",
       "        -1.53190214e+00,   1.64188667e+00,  -1.19185535e+00,\n",
       "        -1.04431046e+00,  -9.19676073e-01,  -1.17013106e+00,\n",
       "         7.98497559e-01,  -5.74761456e-01,  -1.36581180e+00,\n",
       "        -5.93899908e-01,   5.47129835e-01,  -8.96303043e-01,\n",
       "         1.15751468e+00,  -1.45339106e+00,  -1.17083302e+00,\n",
       "        -9.18640483e-01,  -1.26652279e+00,  -1.42895186e+00,\n",
       "         8.77124366e-01,   1.61233853e+00,  -1.29465258e+00,\n",
       "        -1.20045850e+00,  -1.15656744e+00,  -7.61270813e-01,\n",
       "        -1.07690534e+00,   3.29797916e+00,   3.05267802e-02,\n",
       "        -4.19317932e-01,  -1.17845055e+00,  -1.43272862e+00,\n",
       "         1.80185278e-01,   1.20862141e+00,   5.24051960e-01,\n",
       "         1.73598295e+00,   5.38505035e-01,   1.08264233e+00,\n",
       "         1.14940782e+00,   2.84303781e+00,  -1.08859263e+00,\n",
       "         2.52010832e+00,  -1.79627293e-01,   2.99867305e+00,\n",
       "         1.30847983e+00,   2.59024972e-01,  -7.77919021e-02,\n",
       "         1.04258096e+00,   1.42821285e-01,   4.32080183e+00,\n",
       "        -7.59609100e-02,  -1.22809087e+00,  -3.62940652e-01,\n",
       "        -1.48881658e+00,   2.13401329e+00,   2.25892106e-01,\n",
       "        -7.15560559e-02,   1.78729623e+00,   2.81412814e+00,\n",
       "        -7.59828086e-01,  -1.07922651e+00,  -1.29845464e+00,\n",
       "        -1.08883143e+00,   2.61430358e+00,   8.86574460e-01,\n",
       "        -1.01115225e+00,   2.17418418e-01,   1.66962107e+00,\n",
       "         2.47710931e+00,   7.05512956e-01,  -1.27933791e+00,\n",
       "        -1.23803333e+00,  -1.05418992e+00,   1.84401675e-01,\n",
       "         2.93787166e+00,   1.04856832e+00,  -1.11759528e+00,\n",
       "        -1.06352361e+00,  -1.02350914e+00,  -2.26255982e-01,\n",
       "        -8.34386380e-01,  -1.24294819e+00,   9.17861166e-01,\n",
       "         3.03801846e+00,   1.25969326e+00,  -1.07361237e+00,\n",
       "        -2.13718373e+00])"
      ]
     },
     "execution_count": 42,
     "metadata": {},
     "output_type": "execute_result"
    }
   ],
   "source": [
    "# RMSE \n",
    "\n",
    "E = Tlog-Y\n",
    "E"
   ]
  },
  {
   "cell_type": "code",
   "execution_count": 43,
   "metadata": {
    "slideshow": {
     "slide_type": "notes"
    }
   },
   "outputs": [
    {
     "data": {
      "text/plain": [
       "array([  9.67685650e-01,   1.37681301e+00,   1.45127674e+00,\n",
       "         4.38410891e-01,   2.87851488e-01,   1.95667677e+00,\n",
       "         1.93474268e+00,   8.39493694e-01,   1.81789696e+00,\n",
       "         1.75907907e+00,   2.03917541e+00,   7.59456906e-01,\n",
       "         1.22957247e+00,   1.48582648e+00,   2.10174529e+00,\n",
       "         1.64757843e+00,   9.65886236e-01,   2.04909227e+00,\n",
       "         8.28698388e-01,   1.03384819e+00,   1.54884786e+00,\n",
       "         9.92637497e-01,   7.54138556e-02,   2.24534462e+00,\n",
       "         1.53933874e+00,   1.65058538e+00,   1.96228925e+00,\n",
       "         1.37354184e+00,   2.02373099e+00,   1.86975837e+00,\n",
       "         1.27898348e+00,   1.39840350e+00,   1.22434724e+00,\n",
       "         1.35486542e+00,   1.16785118e+00,   1.22836872e+00,\n",
       "         1.97159137e+00,   1.54246724e+00,   1.98806263e+00,\n",
       "         5.62979435e-01,   1.50194994e+00,   1.47324548e+00,\n",
       "         7.43279181e-01,   1.14073325e+00,   9.30642801e-01,\n",
       "         1.19660646e+00,   1.18848008e+00,   1.10556222e+00,\n",
       "         4.81265336e-01,   7.61870194e-01,   1.36135994e+00,\n",
       "         1.17416745e+00,   1.18973499e+00,   1.18973499e+00,\n",
       "         1.14609235e+00,   1.53996493e+00,   1.07963453e+00,\n",
       "         1.10027785e+00,   4.80611220e-01,   1.17450506e-01,\n",
       "         5.90759799e-01,   4.48620475e-01,   1.49673598e+00,\n",
       "         1.05589052e+00,   1.08276360e+00,   1.10246499e+00,\n",
       "         1.28186209e+00,   1.38287843e+00,   1.50747254e+00,\n",
       "         7.52217247e-01,   9.08891784e-01,   8.69470132e-01,\n",
       "         1.01477820e+00,   1.45447494e+00,   1.20808131e+00,\n",
       "         2.74668507e-01,   6.67315751e-01,   2.13630922e-01,\n",
       "         5.95161520e-01,   1.84554815e+00,   1.42791395e+00,\n",
       "         7.90156954e-01,   5.07334286e-01,   4.69481151e-01,\n",
       "         9.27463850e-01,   1.06507369e+00,   1.17742864e+00,\n",
       "         1.06885996e+00,   1.40786199e+00,   1.04401193e+00,\n",
       "         1.31696476e+00,   1.27696718e+00,   2.03876298e+00,\n",
       "         1.90736399e+00,   1.71042071e+00,   9.15787537e-01,\n",
       "         2.65480211e-01,   9.78331560e-01,   8.37386911e-01,\n",
       "         1.50778801e+00,   1.50778801e+00,   1.11326462e+00,\n",
       "         6.09235820e-01,   1.61303094e+00,   4.44790912e-02,\n",
       "         8.94195735e-01,   6.50051258e-01,   1.29118406e+00,\n",
       "         1.22651111e+00,   1.22217973e+00,   9.27610350e-01,\n",
       "         7.58995790e-01,   1.41157505e+00,   8.50511883e-01,\n",
       "         1.14357710e+00,   9.82141672e-01,   8.32840175e-01,\n",
       "         7.58344609e-01,   5.83641621e-01,   1.34887685e+00,\n",
       "         5.97406640e-01,   1.29222847e+00,   1.71242457e+00,\n",
       "         1.13968343e+00,   9.13326108e-01,   1.74016145e+00,\n",
       "         3.53381942e-01,   1.28443167e+00,   1.29462517e+00,\n",
       "         8.68696193e-01,   3.48534046e-01,   5.85727267e-01,\n",
       "         5.78972963e-01,   6.68485528e-01,   5.37621163e-01,\n",
       "         8.84893722e-01,   9.29575170e-01,   9.99041767e-01,\n",
       "         1.09843764e+00,   4.60078767e-01,   4.31935514e-01,\n",
       "         4.08460404e-01,   1.11434166e+00,   3.02684335e-01,\n",
       "         3.55696829e-01,   5.74968634e-01,   5.71402646e-02,\n",
       "         5.69888469e-01,   3.19624690e-02,   1.87468187e-01,\n",
       "         1.26478877e-01,   3.06219842e-01,   7.03487528e-03,\n",
       "         1.60461571e-02,   8.40492952e-02,   1.32762417e-02,\n",
       "         5.68869664e-02,   3.86614080e-03,   1.37315703e-04,\n",
       "         1.69148077e-01,   7.18050204e-03,   4.21249404e-02,\n",
       "         1.37796494e-02,   1.60276217e-02,   4.01699481e-03,\n",
       "         1.33622539e-01,   8.79700624e-02,   3.57162180e-03,\n",
       "         1.52909942e-02,   1.01693930e-03,   1.23544398e-02,\n",
       "         1.21374452e-02,   6.62662555e-03,   7.97023833e-02,\n",
       "         6.03808413e-01,   4.91990912e-01,   4.58268655e-01,\n",
       "         5.97202575e-01,   7.88358221e-01,   3.17948834e-01,\n",
       "         2.43650615e-01,   1.63063646e-01,   1.99111945e+00,\n",
       "         7.22438297e-01,   5.65486461e-01,   1.03792364e+00,\n",
       "         1.17483307e+00,   1.23760039e+00,   2.07184011e+00,\n",
       "         1.77617962e+00,   2.11689131e+00,   1.35419221e+00,\n",
       "         1.83051128e+00,   1.07974481e+00,   2.18629213e+00,\n",
       "         1.66775657e+00,   2.04908044e+00,   1.77943958e+00,\n",
       "         1.67022901e+00,   2.09112139e+00,   2.17040876e+00,\n",
       "         3.12353778e+00,   4.10363945e+00,   1.74522944e+00,\n",
       "         3.82678744e+00,   2.60113383e+00,   2.85961731e+00,\n",
       "         2.60593357e+00,   2.60133825e+00,   3.96621035e+00,\n",
       "         3.94496284e+00,   6.04726581e+00,   4.79003980e+00,\n",
       "         5.48824829e+00,   6.06750454e+00,   6.06750454e+00,\n",
       "         5.84827980e+00,   6.34962733e+00,   5.52470355e+00,\n",
       "         6.79890003e+00,   5.47628742e+00,   6.79436169e+00,\n",
       "         7.61478013e+00,   6.21641120e+00,   6.23584290e+00,\n",
       "         6.48451071e+00,   7.52078513e+00,   7.34963765e+00,\n",
       "         8.01884549e+00,   9.01657479e+00,   9.78617602e+00,\n",
       "         1.12653447e+01,   1.16503145e+01,   1.06411228e+01,\n",
       "         1.44836603e+01,   1.47005322e+01,   1.85343355e+01,\n",
       "         1.89784496e+01,   3.10203695e+01,   7.69625555e-01,\n",
       "         9.66207702e-01,   1.11181908e+00,   2.33459094e+00,\n",
       "         1.86247252e+00,   4.13253191e-02,   4.24516142e-01,\n",
       "         1.32668636e+00,   9.47045704e-02,   1.57053352e+00,\n",
       "         1.89397004e-01,   5.73712323e-01,   9.89197288e-01,\n",
       "         8.92301898e-01,   1.15035278e-01,   1.37140620e+00,\n",
       "         8.41933615e-01,   9.30374979e-01,   2.99814243e-01,\n",
       "         5.87439447e-01,   5.00884459e-02,   1.59381722e+00,\n",
       "         1.34841451e-01,   3.82069966e-01,   1.16869038e-01,\n",
       "         1.05603380e+00,   3.62864414e-01,   4.68043919e-01,\n",
       "         9.43593450e-01,   9.18081300e-01,   6.56974647e-01,\n",
       "         1.63800880e-01,   1.42934053e+00,   2.61246263e-01,\n",
       "         1.14864067e-01,   1.68864600e-01,   3.51168019e-04,\n",
       "         5.84729922e-01,   1.10827601e-01,   9.31150023e-01,\n",
       "         4.19954559e-02,   3.03397692e-01,   9.87577103e-01,\n",
       "         1.22270155e-01,   1.99252997e-02,   5.68835205e+00,\n",
       "         1.86522503e+00,   1.76626802e+00,   1.33336032e+00,\n",
       "         1.41477617e+00,   1.43653130e+00,   7.17455394e-01,\n",
       "         9.91462278e-01,   5.95571738e-02,   8.30280514e+00,\n",
       "         8.17801581e-01,   1.26496945e+00,   2.22406591e-01,\n",
       "         1.51615552e+00,   1.62515710e+00,   8.67352223e-01,\n",
       "         1.81342308e+00,   4.13818486e-02,   1.58272468e+00,\n",
       "         1.58272468e+00,   1.02816943e+00,   7.94058843e-01,\n",
       "         9.39561207e-01,   4.33120036e-01,   6.84087771e-01,\n",
       "         9.81177015e-01,   1.52580419e+00,   2.53746907e+00,\n",
       "         7.47211680e-01,   1.70293842e+00,   6.20429032e-06,\n",
       "         1.05602491e+00,   1.57308240e+00,   1.27004142e-01,\n",
       "         1.37537711e+00,   1.05527404e-01,   4.62817877e+00,\n",
       "         1.16606857e+00,   2.90580319e-01,   3.76862477e-02,\n",
       "         6.09622156e-01,   1.04435215e+00,   1.41987253e+00,\n",
       "         1.29715836e+00,   1.19326808e+00,   7.17362804e-02,\n",
       "         8.41069107e-01,   2.20378336e+00,   2.31838996e+00,\n",
       "         1.20031834e-01,   1.12534038e+00,   5.36041201e-01,\n",
       "         1.27019898e+00,   8.34694337e+00,   8.24694696e-01,\n",
       "         5.48337263e-05,   4.65903910e-01,   1.22286799e+00,\n",
       "         1.14291457e+00,   3.13918634e-03,   8.01626026e-01,\n",
       "         9.98720892e-01,   6.16275334e+00,   7.69989398e-01,\n",
       "         9.46458980e-01,   7.55278018e-04,   4.51849493e-01,\n",
       "         9.92378764e-01,   4.20831246e-03,   9.67610743e-03,\n",
       "         7.95690631e-01,   2.21364805e+00,   1.15692316e-01,\n",
       "         1.07457370e+00,   1.16547561e+00,   1.85977135e+00,\n",
       "         8.35027346e-02,   3.25787700e-01,   1.93122240e-01,\n",
       "         1.82849413e-01,   5.31133368e-01,   3.64786500e+00,\n",
       "         3.91517443e-04,   9.55432404e-01,   2.04286737e+00,\n",
       "         2.21026190e+00,   7.64094562e-01,   9.61041534e-01,\n",
       "         8.58018340e-01,   1.28432338e+00,   2.74510338e+00,\n",
       "         6.58434049e+00,   1.64367408e+00,   1.62205275e+01,\n",
       "         8.00006193e-01,   1.31910382e-01,   7.95493723e-01,\n",
       "         2.42380556e+00,   5.13657662e-01,   5.64572503e+00,\n",
       "         1.16700214e+00,   2.94109141e+00,   4.98708682e+00,\n",
       "         7.43985287e-01,   4.32983262e+00,   1.83402733e+00,\n",
       "         2.85728406e+00,   5.04031183e+00,   8.51215884e+00,\n",
       "         8.42262946e-01,   1.96987505e-01,   1.24262128e+01,\n",
       "         2.62208773e-01,   1.26368007e-02,   1.49146561e+00,\n",
       "         1.51810588e+00,   9.65761757e-01,   5.54560714e-01,\n",
       "         2.21673028e+00,   2.18104579e+00,   8.58395417e-01,\n",
       "         1.40548349e+00,   5.65671427e-03,   4.48779796e-01,\n",
       "         6.29423607e-01,   1.08509842e+00,   4.85862338e-01,\n",
       "         4.99763521e-01,   1.80259113e-01,   2.25363458e+00,\n",
       "         1.73735484e+00,   2.61716746e+01,   7.68175769e-01,\n",
       "         1.00060505e+00,   1.21532957e-02,   8.27177013e-03,\n",
       "         1.34946316e+01,   1.37453579e+00,   2.59911073e-01,\n",
       "         1.72341138e-01,   5.31411810e-02,   1.19029918e+00,\n",
       "         1.79939704e+00,   1.78455660e-03,   1.48676999e+00,\n",
       "         1.40214986e-02,   2.34891700e+00,   6.57211538e-01,\n",
       "         2.34672417e+00,   2.69579184e+00,   1.42051917e+00,\n",
       "         1.09058434e+00,   8.45804080e-01,   1.36920670e+00,\n",
       "         6.37598352e-01,   3.30350731e-01,   1.86544189e+00,\n",
       "         3.52717101e-01,   2.99351056e-01,   8.03359146e-01,\n",
       "         1.33984024e+00,   2.11234559e+00,   1.37084997e+00,\n",
       "         8.43900337e-01,   1.60407999e+00,   2.04190341e+00,\n",
       "         7.69347153e-01,   2.59963552e+00,   1.67612531e+00,\n",
       "         1.44110060e+00,   1.33764824e+00,   5.79533250e-01,\n",
       "         1.15972512e+00,   1.08766665e+01,   9.31884307e-04,\n",
       "         1.75827528e-01,   1.38874571e+00,   2.05271130e+00,\n",
       "         3.24667344e-02,   1.46076570e+00,   2.74630457e-01,\n",
       "         3.01363680e+00,   2.89987673e-01,   1.17211441e+00,\n",
       "         1.32113834e+00,   8.08286401e+00,   1.18503391e+00,\n",
       "         6.35094595e+00,   3.22659644e-02,   8.99204003e+00,\n",
       "         1.71211947e+00,   6.70939362e-02,   6.05158004e-03,\n",
       "         1.08697505e+00,   2.03979196e-02,   1.86693285e+01,\n",
       "         5.77005985e-03,   1.50820718e+00,   1.31725917e-01,\n",
       "         2.21657479e+00,   4.55401271e+00,   5.10272435e-02,\n",
       "         5.12026913e-03,   3.19442782e+00,   7.91931719e+00,\n",
       "         5.77338721e-01,   1.16472986e+00,   1.68598446e+00,\n",
       "         1.18555388e+00,   6.83458321e+00,   7.86014273e-01,\n",
       "         1.02242888e+00,   4.72707684e-02,   2.78763453e+00,\n",
       "         6.13607051e+00,   4.97748531e-01,   1.63670550e+00,\n",
       "         1.53272653e+00,   1.11131640e+00,   3.40039776e-02,\n",
       "         8.63108990e+00,   1.09949552e+00,   1.24901921e+00,\n",
       "         1.13108247e+00,   1.04757096e+00,   5.11917693e-02,\n",
       "         6.96200632e-01,   1.54492021e+00,   8.42469121e-01,\n",
       "         9.22955616e+00,   1.58682712e+00,   1.15264353e+00,\n",
       "         4.56755429e+00])"
      ]
     },
     "execution_count": 43,
     "metadata": {},
     "output_type": "execute_result"
    }
   ],
   "source": [
    "(Tlog - Y)**2"
   ]
  },
  {
   "cell_type": "code",
   "execution_count": 44,
   "metadata": {
    "slideshow": {
     "slide_type": "notes"
    }
   },
   "outputs": [
    {
     "data": {
      "text/plain": [
       "1.8780043477613277"
      ]
     },
     "execution_count": 44,
     "metadata": {},
     "output_type": "execute_result"
    }
   ],
   "source": [
    "np.mean((Tlog - Y)**2)"
   ]
  },
  {
   "cell_type": "code",
   "execution_count": 45,
   "metadata": {
    "slideshow": {
     "slide_type": "notes"
    }
   },
   "outputs": [
    {
     "data": {
      "text/plain": [
       "1.3704029873585828"
      ]
     },
     "execution_count": 45,
     "metadata": {},
     "output_type": "execute_result"
    }
   ],
   "source": [
    "np.sqrt(np.mean((Tlog - Y)**2))"
   ]
  },
  {
   "cell_type": "code",
   "execution_count": 46,
   "metadata": {
    "slideshow": {
     "slide_type": "notes"
    }
   },
   "outputs": [
    {
     "data": {
      "text/html": [
       "<div>\n",
       "<style>\n",
       "    .dataframe thead tr:only-child th {\n",
       "        text-align: right;\n",
       "    }\n",
       "\n",
       "    .dataframe thead th {\n",
       "        text-align: left;\n",
       "    }\n",
       "\n",
       "    .dataframe tbody tr th {\n",
       "        vertical-align: top;\n",
       "    }\n",
       "</style>\n",
       "<table border=\"1\" class=\"dataframe\">\n",
       "  <thead>\n",
       "    <tr style=\"text-align: right;\">\n",
       "      <th></th>\n",
       "      <th>0</th>\n",
       "    </tr>\n",
       "  </thead>\n",
       "  <tbody>\n",
       "    <tr>\n",
       "      <th>count</th>\n",
       "      <td>517.000000</td>\n",
       "    </tr>\n",
       "    <tr>\n",
       "      <th>mean</th>\n",
       "      <td>12.847292</td>\n",
       "    </tr>\n",
       "    <tr>\n",
       "      <th>std</th>\n",
       "      <td>63.655818</td>\n",
       "    </tr>\n",
       "    <tr>\n",
       "      <th>min</th>\n",
       "      <td>0.000000</td>\n",
       "    </tr>\n",
       "    <tr>\n",
       "      <th>25%</th>\n",
       "      <td>0.000000</td>\n",
       "    </tr>\n",
       "    <tr>\n",
       "      <th>50%</th>\n",
       "      <td>0.520000</td>\n",
       "    </tr>\n",
       "    <tr>\n",
       "      <th>75%</th>\n",
       "      <td>6.570000</td>\n",
       "    </tr>\n",
       "    <tr>\n",
       "      <th>max</th>\n",
       "      <td>1090.840000</td>\n",
       "    </tr>\n",
       "  </tbody>\n",
       "</table>\n",
       "</div>"
      ],
      "text/plain": [
       "                 0\n",
       "count   517.000000\n",
       "mean     12.847292\n",
       "std      63.655818\n",
       "min       0.000000\n",
       "25%       0.000000\n",
       "50%       0.520000\n",
       "75%       6.570000\n",
       "max    1090.840000"
      ]
     },
     "execution_count": 46,
     "metadata": {},
     "output_type": "execute_result"
    }
   ],
   "source": [
    "pd.DataFrame(T).describe()"
   ]
  },
  {
   "cell_type": "code",
   "execution_count": 47,
   "metadata": {
    "slideshow": {
     "slide_type": "notes"
    }
   },
   "outputs": [
    {
     "data": {
      "text/plain": [
       "[<matplotlib.lines.Line2D at 0x159bba03f60>]"
      ]
     },
     "execution_count": 47,
     "metadata": {},
     "output_type": "execute_result"
    },
    {
     "data": {
      "image/png": "[encoded data removed]",
      "text/plain": [
       "<matplotlib.figure.Figure at 0x159bba037f0>"
      ]
     },
     "metadata": {},
     "output_type": "display_data"
    }
   ],
   "source": [
    "plt.plot(Tlog, 'ob')\n",
    "plt.plot(Y, 'xr')"
   ]
  },
  {
   "cell_type": "code",
   "execution_count": 48,
   "metadata": {},
   "outputs": [
    {
     "data": {
      "text/plain": [
       "array([-0.30477203,  0.0425947 , -0.00129011,  0.1550639 ,  0.00862479,\n",
       "        0.00502995,  0.00240059, -0.00119776, -0.02492829,  0.00730238,\n",
       "       -0.00418998,  0.05759247,  0.08504343])"
      ]
     },
     "execution_count": 48,
     "metadata": {},
     "output_type": "execute_result"
    }
   ],
   "source": [
    "w"
   ]
  },
  {
   "cell_type": "markdown",
   "metadata": {
    "collapsed": true,
    "slideshow": {
     "slide_type": "slide"
    }
   },
   "source": [
    "# How to Improve the Fit? \n",
    "\n",
    "- Normalizaiton (Standardization) "
   ]
  },
  {
   "cell_type": "code",
   "execution_count": null,
   "metadata": {
    "collapsed": true,
    "slideshow": {
     "slide_type": "slide"
    }
   },
   "outputs": [],
   "source": [
    "pd.DataFrame(X).describe()"
   ]
  },
  {
   "cell_type": "code",
   "execution_count": null,
   "metadata": {
    "collapsed": true,
    "slideshow": {
     "slide_type": "slide"
    }
   },
   "outputs": [],
   "source": [
    "mu = np.mean(X, axis=0)\n",
    "std = np.std(X, axis=0)"
   ]
  },
  {
   "cell_type": "code",
   "execution_count": null,
   "metadata": {
    "collapsed": true,
    "slideshow": {
     "slide_type": "notes"
    }
   },
   "outputs": [],
   "source": [
    "normX = (X - mu) / std\n",
    "pd.DataFrame(normX).describe()"
   ]
  },
  {
   "cell_type": "code",
   "execution_count": null,
   "metadata": {
    "collapsed": true,
    "slideshow": {
     "slide_type": "slide"
    }
   },
   "outputs": [],
   "source": [
    "dfX = pd.DataFrame(X)\n",
    "mu = dfX.mean() \n",
    "std = dfX.std()"
   ]
  },
  {
   "cell_type": "code",
   "execution_count": null,
   "metadata": {
    "collapsed": true,
    "slideshow": {
     "slide_type": "notes"
    }
   },
   "outputs": [],
   "source": [
    "ndfX = (dfX - mu) / std"
   ]
  },
  {
   "cell_type": "code",
   "execution_count": null,
   "metadata": {
    "collapsed": true,
    "slideshow": {
     "slide_type": "notes"
    }
   },
   "outputs": [],
   "source": [
    "ndfX"
   ]
  },
  {
   "cell_type": "code",
   "execution_count": null,
   "metadata": {
    "collapsed": true,
    "slideshow": {
     "slide_type": "notes"
    }
   },
   "outputs": [],
   "source": [
    "ndfX.describe()"
   ]
  },
  {
   "cell_type": "code",
   "execution_count": null,
   "metadata": {
    "collapsed": true,
    "slideshow": {
     "slide_type": "notes"
    }
   },
   "outputs": [],
   "source": [
    "X1s = np.hstack((np.ones((N, 1)), ndfX.as_matrix())) "
   ]
  },
  {
   "cell_type": "code",
   "execution_count": null,
   "metadata": {
    "collapsed": true,
    "slideshow": {
     "slide_type": "notes"
    }
   },
   "outputs": [],
   "source": [
    "w_s = np.linalg.lstsq(X1s.T @ X1s, X1s.T @ Tlog)[0]"
   ]
  },
  {
   "cell_type": "code",
   "execution_count": null,
   "metadata": {
    "collapsed": true,
    "slideshow": {
     "slide_type": "notes"
    }
   },
   "outputs": [],
   "source": [
    "Ys = X1s @ w_s"
   ]
  },
  {
   "cell_type": "code",
   "execution_count": null,
   "metadata": {
    "collapsed": true,
    "slideshow": {
     "slide_type": "notes"
    }
   },
   "outputs": [],
   "source": [
    "plt.plot(Tlog, 'ob')\n",
    "plt.plot(Ys, 'xr')"
   ]
  },
  {
   "cell_type": "code",
   "execution_count": null,
   "metadata": {
    "collapsed": true,
    "slideshow": {
     "slide_type": "notes"
    }
   },
   "outputs": [],
   "source": [
    "w_s"
   ]
  },
  {
   "cell_type": "code",
   "execution_count": null,
   "metadata": {
    "collapsed": true,
    "slideshow": {
     "slide_type": "notes"
    }
   },
   "outputs": [],
   "source": [
    "np.sqrt(np.sum((Tlog- Ys)**2))"
   ]
  },
  {
   "cell_type": "markdown",
   "metadata": {
    "slideshow": {
     "slide_type": "fragment"
    }
   },
   "source": [
    "# Does normalization help? \n",
    "\n",
    "- Normally\n",
    "  - better results\n",
    "  - more informative weights\n",
    "\n",
    "- But, still the above results are poor! \n",
    "- what's next ?"
   ]
  },
  {
   "cell_type": "code",
   "execution_count": null,
   "metadata": {
    "collapsed": true,
    "slideshow": {
     "slide_type": "notes"
    }
   },
   "outputs": [],
   "source": [
    "df.loc[:,'month']"
   ]
  },
  {
   "cell_type": "code",
   "execution_count": null,
   "metadata": {
    "collapsed": true,
    "slideshow": {
     "slide_type": "notes"
    }
   },
   "outputs": [],
   "source": [
    "pd.get_dummies(df.loc[:, 'month'])"
   ]
  },
  {
   "cell_type": "code",
   "execution_count": null,
   "metadata": {
    "collapsed": true,
    "slideshow": {
     "slide_type": "notes"
    }
   },
   "outputs": [],
   "source": [
    "pd.concat([pd.get_dummies(df.loc[:, 'month']), pd.get_dummies(df.loc[:, 'day'])], axis=1)"
   ]
  },
  {
   "cell_type": "code",
   "execution_count": null,
   "metadata": {
    "collapsed": true
   },
   "outputs": [],
   "source": [
    "df.columns.values"
   ]
  },
  {
   "cell_type": "code",
   "execution_count": null,
   "metadata": {
    "collapsed": true
   },
   "outputs": [],
   "source": [
    "X = pd.concat([\n",
    "        df.iloc[:, :2], \n",
    "        pd.get_dummies(df.loc[:, 'month']), \n",
    "        pd.get_dummies(df.loc[:, 'day']),\n",
    "        df.iloc[:, 4:-1]],\n",
    "        axis=1)\n",
    "X"
   ]
  },
  {
   "cell_type": "code",
   "execution_count": null,
   "metadata": {
    "collapsed": true,
    "slideshow": {
     "slide_type": "notes"
    }
   },
   "outputs": [],
   "source": [
    "def normalize(X):\n",
    "    mu = X.mean() \n",
    "    std = X.std()\n",
    "    return (X - mu) / std"
   ]
  },
  {
   "cell_type": "code",
   "execution_count": null,
   "metadata": {
    "collapsed": true,
    "slideshow": {
     "slide_type": "notes"
    }
   },
   "outputs": [],
   "source": [
    "nX = normalize(X)"
   ]
  },
  {
   "cell_type": "code",
   "execution_count": null,
   "metadata": {
    "collapsed": true,
    "slideshow": {
     "slide_type": "notes"
    }
   },
   "outputs": [],
   "source": [
    "nX.shape"
   ]
  },
  {
   "cell_type": "code",
   "execution_count": null,
   "metadata": {
    "collapsed": true,
    "slideshow": {
     "slide_type": "notes"
    }
   },
   "outputs": [],
   "source": [
    "nX.describe()"
   ]
  },
  {
   "cell_type": "code",
   "execution_count": null,
   "metadata": {
    "collapsed": true,
    "slideshow": {
     "slide_type": "notes"
    }
   },
   "outputs": [],
   "source": [
    "X1i = np.hstack((np.ones((N, 1)), nX.as_matrix()))"
   ]
  },
  {
   "cell_type": "code",
   "execution_count": null,
   "metadata": {
    "collapsed": true,
    "slideshow": {
     "slide_type": "notes"
    }
   },
   "outputs": [],
   "source": [
    "w_i = np.linalg.lstsq(X1i.T @ X1i, X1i.T @ Tlog)[0]"
   ]
  },
  {
   "cell_type": "code",
   "execution_count": null,
   "metadata": {
    "collapsed": true,
    "slideshow": {
     "slide_type": "notes"
    }
   },
   "outputs": [],
   "source": [
    "Yi = X1i @ w_i"
   ]
  },
  {
   "cell_type": "code",
   "execution_count": null,
   "metadata": {
    "collapsed": true,
    "slideshow": {
     "slide_type": "notes"
    }
   },
   "outputs": [],
   "source": [
    "np.sqrt(np.mean((Tlog- Yi)**2))"
   ]
  },
  {
   "cell_type": "code",
   "execution_count": null,
   "metadata": {
    "collapsed": true,
    "slideshow": {
     "slide_type": "notes"
    }
   },
   "outputs": [],
   "source": [
    "plt.plot(Tlog)\n",
    "plt.plot(Y)"
   ]
  },
  {
   "cell_type": "markdown",
   "metadata": {
    "slideshow": {
     "slide_type": "fragment"
    }
   },
   "source": [
    "# Helpful? What is next? \n",
    "\n",
    "- more flexible or sophistigated model!\n",
    "- will comeback later in this semester. "
   ]
  },
  {
   "cell_type": "markdown",
   "metadata": {
    "slideshow": {
     "slide_type": "fragment"
    }
   },
   "source": [
    "# Least Mean Squares \n",
    "\n",
    "Let us switch the gear and practice LMS, the online learning algorithm. "
   ]
  },
  {
   "cell_type": "code",
   "execution_count": null,
   "metadata": {
    "collapsed": true,
    "slideshow": {
     "slide_type": "notes"
    }
   },
   "outputs": [],
   "source": [
    "import IPython.display as ipd  # for display and clear_output\n",
    "\n",
    "\n",
    "# read one by one and update weights \n",
    "alpha = 0.001 \n",
    "\n",
    "w_lms = np.random.rand(X1i.shape[1])\n",
    "\n",
    "fig = plt.figure(figsize=(16,8))\n",
    "\n",
    "errs = []\n",
    "for i in range(N):\n",
    "    w_lms -= alpha * (w_lms.T @ X1i[i] - Tlog[i]) * X1i[i]\n",
    "    \n",
    "    Y_lms = X1i @ w_lms\n",
    "    errs.append( np.sqrt(np.mean(Tlog - Y_lms)**2) )\n",
    "    \n",
    "    plt.clf()\n",
    "    plt.subplot(1,2, 1)\n",
    "    plt.plot(errs)\n",
    "    plt.ylabel(\"RMSE\")\n",
    "    \n",
    "    plt.subplot(1,2, 2)\n",
    "    plt.plot(Tlog[:i])\n",
    "    plt.plot(Y_lms[:i])\n",
    "    plt.ylabel(\"Current Estimation\")\n",
    "    \n",
    "    \n",
    "    ipd.clear_output(wait=True)\n",
    "    ipd.display(fig)\n",
    "ipd.clear_output(wait=True)"
   ]
  },
  {
   "cell_type": "code",
   "execution_count": null,
   "metadata": {
    "collapsed": true,
    "slideshow": {
     "slide_type": "notes"
    }
   },
   "outputs": [],
   "source": [
    "print(\"RMSE: {0}\".format(errs[-1]))"
   ]
  },
  {
   "cell_type": "markdown",
   "metadata": {
    "slideshow": {
     "slide_type": "slide"
    }
   },
   "source": [
    "# Partitioning Data \n",
    "\n",
    "- necessity to consider generalization of your model\n",
    "- measure for the performance with unseen data\n",
    "\n",
    "\n",
    "- training and testing partition"
   ]
  },
  {
   "cell_type": "code",
   "execution_count": null,
   "metadata": {
    "collapsed": true,
    "slideshow": {
     "slide_type": "notes"
    }
   },
   "outputs": [],
   "source": [
    "# now partition the data \n",
    "\n",
    "\"\"\" partitioning data\n",
    "\n",
    "    parameters\n",
    "    -----------\n",
    "    X        pd.DataFrame\n",
    "             input data to partition\n",
    "    T        pd.DataFrame\n",
    "             target labels to partition\n",
    "    raito    list\n",
    "             list of ratios for partitions (should be summed to 1) \n",
    "             the number of return pairs are different\n",
    "\"\"\"\n",
    "def partition(X, T, ratio=[0.8, 0.2]): \n",
    "    \n",
    "    assert(np.sum(ratio) == 1)\n",
    "    \n",
    "    # shuffle the data indices \n",
    "    idxs = np.random.permutation(X.index)\n",
    "    \n",
    "    # the number of samples \n",
    "    N = X.shape[0]\n",
    "    \n",
    "    Xs = []\n",
    "    Ts = []\n",
    "    i = 0  # first index to zero\n",
    "    for k, r in enumerate(ratio):\n",
    "        nrows = int(round(N * r))  # number of rows\n",
    "        \n",
    "        if k == len(ratio) -1:\n",
    "            Xs.append(X.iloc[i:, :])\n",
    "            Ts.append(T.iloc[i:, :])\n",
    "        else:\n",
    "            Xs.append(X.iloc[i:i+nrows, :])\n",
    "            Ts.append(T.iloc[i:i+nrows, :])\n",
    "        \n",
    "        i += nrows\n",
    "    \n",
    "    return Xs, Ts\n",
    "\n"
   ]
  },
  {
   "cell_type": "code",
   "execution_count": null,
   "metadata": {
    "collapsed": true,
    "slideshow": {
     "slide_type": "notes"
    }
   },
   "outputs": [],
   "source": [
    "Xlst, Tlst = partition(pd.DataFrame(X1i), pd.DataFrame(Tlog))"
   ]
  },
  {
   "cell_type": "code",
   "execution_count": null,
   "metadata": {
    "collapsed": true,
    "slideshow": {
     "slide_type": "notes"
    }
   },
   "outputs": [],
   "source": [
    "Xlst[0].shape"
   ]
  },
  {
   "cell_type": "code",
   "execution_count": null,
   "metadata": {
    "collapsed": true,
    "slideshow": {
     "slide_type": "notes"
    }
   },
   "outputs": [],
   "source": [
    "Xlst[1].shape"
   ]
  },
  {
   "cell_type": "code",
   "execution_count": null,
   "metadata": {
    "collapsed": true,
    "slideshow": {
     "slide_type": "notes"
    }
   },
   "outputs": [],
   "source": [
    "Tlst[0].shape"
   ]
  },
  {
   "cell_type": "code",
   "execution_count": null,
   "metadata": {
    "collapsed": true,
    "slideshow": {
     "slide_type": "notes"
    }
   },
   "outputs": [],
   "source": [
    "# read one by one and update weights \n",
    "alpha = 0.001 \n",
    "\n",
    "Xtrain, Xtest = [xx.as_matrix() for xx in Xlst]\n",
    "Ttrain, Ttest = [tt.as_matrix() for tt in Tlst]\n",
    " \n",
    "w = np.random.rand(Xtrain.shape[1], Ttrain.shape[1])\n",
    "\n",
    "fig = plt.figure(figsize=(16,8))\n",
    "\n",
    "errs = []\n",
    "for i in range(Xtrain.shape[0]):\n",
    "    w -= alpha * ((w.T @ Xtrain[i] - Ttrain[i]) * Xtrain[i, None].T)\n",
    "    \n",
    "Yp = Xtest @ w\n",
    "np.sqrt(np.mean((Yp -  Ttest)**2))"
   ]
  },
  {
   "cell_type": "code",
   "execution_count": null,
   "metadata": {
    "collapsed": true,
    "slideshow": {
     "slide_type": "notes"
    }
   },
   "outputs": [],
   "source": [
    "\n",
    "plt.plot(Ttest)\n",
    "plt.plot(Yp)"
   ]
  },
  {
   "cell_type": "code",
   "execution_count": null,
   "metadata": {
    "collapsed": true,
    "slideshow": {
     "slide_type": "notes"
    }
   },
   "outputs": [],
   "source": [
    "# now with linear regression\n",
    "w = np.linalg.lstsq(Xtrain.T @ Xtrain, Xtrain.T @ Ttrain)[0]\n",
    "\n",
    "Yp2 = Xtest @ w\n",
    "np.sqrt(np.mean((Yp2 -  Ttest)**2))"
   ]
  },
  {
   "cell_type": "code",
   "execution_count": null,
   "metadata": {
    "collapsed": true,
    "slideshow": {
     "slide_type": "notes"
    }
   },
   "outputs": [],
   "source": [
    "plt.plot(Ttest)\n",
    "plt.plot(Yp2)\n"
   ]
  }
 ],
 "metadata": {
  "kernelspec": {
   "display_name": "Python 3",
   "language": "python",
   "name": "python3"
  },
  "language_info": {
   "codemirror_mode": {
    "name": "ipython",
    "version": 3
   },
   "file_extension": ".py",
   "mimetype": "text/x-python",
   "name": "python",
   "nbconvert_exporter": "python",
   "pygments_lexer": "ipython3",
   "version": "3.6.3"
  }
 },
 "nbformat": 4,
 "nbformat_minor": 2
}
