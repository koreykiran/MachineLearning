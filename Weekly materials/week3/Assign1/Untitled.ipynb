{
 "cells": [
  {
   "cell_type": "code",
   "execution_count": 7,
   "metadata": {},
   "outputs": [
    {
     "name": "stdout",
     "output_type": "stream",
     "text": [
      "Coefficients: \n",
      " [[ 283.96855737]]\n",
      "61940787221.5\n",
      "Variance score: 0.48\n"
     ]
    },
    {
     "data": {
      "image/png": "[encoded data removed]",
      "text/plain": [
       "<matplotlib.figure.Figure at 0x238cc856710>"
      ]
     },
     "metadata": {},
     "output_type": "display_data"
    },
    {
     "name": "stdout",
     "output_type": "stream",
     "text": [
      "Coefficients: \n",
      " [[   316.73894154 -55220.29641829  11630.95508462    641.74449094]]\n",
      "59712434572.3\n",
      "Variance score: 0.50\n"
     ]
    }
   ],
   "source": [
    "# -*- coding: utf-8 -*-\n",
    "\"\"\"\n",
    "Created on Tue Dec 26 19:40:46 2017\n",
    "\n",
    "@author: Aditya\n",
    "\"\"\"\n",
    "\n",
    "import pandas as pd \n",
    "import sklearn.linear_model as lm \n",
    "from sklearn.metrics import mean_squared_error, r2_score\n",
    "\n",
    "import  matplotlib.pyplot as plt\n",
    "\n",
    "from sklearn.model_selection import train_test_split as sp \n",
    "\n",
    "\n",
    "\n",
    "def size_based_prediction ():\n",
    "    \n",
    "    home_df = pd.read_csv ('home_data.csv'  )\n",
    "    \n",
    "    home_df = home_df.set_index (['id'])\n",
    "    \n",
    "    size_feature_df  = home_df[['sqft_living']]\n",
    "    \n",
    "    price_df = home_df[['price']]\n",
    "    \n",
    "    ax = home_df.plot(kind = 'scatter', x = 'sqft_living' , y = 'price')\n",
    "    \n",
    "    \n",
    "    x_train, x_test, y_train, y_test = sp (size_feature_df,price_df,train_size=0.8, \n",
    "                                       test_size = 0.2, random_state = 0)\n",
    "    \n",
    "    model_1 = lm.LinearRegression(fit_intercept=True,normalize = False)\n",
    "    \n",
    "    model_1.fit ( x_train,y_train)\n",
    "    \n",
    "    predicted_values = model_1.predict(x_test)\n",
    "    \n",
    "    print('Coefficients: \\n', model_1.coef_)\n",
    "    \n",
    "    print( mean_squared_error(y_test, predicted_values))\n",
    "    \n",
    "    print('Variance score: %.2f' % r2_score(y_test, predicted_values))\n",
    "    \n",
    "    ax.plot(x_test, predicted_values, color='red', linewidth=3)\n",
    "    \n",
    "    plt.show()\n",
    "\n",
    "\n",
    "\n",
    "def feature_based_house_price_prediction ():\n",
    "    \n",
    "    home_df = pd.read_csv ('home_data.csv'  )\n",
    "    \n",
    "    home_df = home_df.set_index (['id'])\n",
    "    \n",
    "    #print (home_df.head (1))\n",
    "    \n",
    "    #feature_selection = ['sqft_living','bedrooms','bathrooms' ,'sqft_lot', 'zipcode']\n",
    "    \n",
    "    features_df = home_df[['sqft_living','bedrooms','bathrooms' , 'zipcode']]\n",
    "    \n",
    "    price_df = home_df[['price']]\n",
    "    \n",
    "    x_train, x_test, y_train, y_test = sp (features_df,price_df,train_size=0.8, \n",
    "                                       test_size = 0.2, random_state = 0)\n",
    "    \n",
    "    model_1 = lm.LinearRegression(fit_intercept=True,normalize = True)\n",
    "    \n",
    "    model_1.fit ( x_train,y_train)\n",
    "    \n",
    "    predicted_values = model_1.predict(x_test)\n",
    "    \n",
    "    print('Coefficients: \\n', model_1.coef_)\n",
    "    \n",
    "    print( mean_squared_error(y_test, predicted_values))\n",
    "    \n",
    "    print('Variance score: %.2f' % r2_score(y_test, predicted_values))\n",
    "    \n",
    "    \n",
    "    \n",
    "    \n",
    "    \n",
    "    \n",
    "size_based_prediction()\n",
    "    \n",
    "feature_based_house_price_prediction ()"
   ]
  }
 ],
 "metadata": {
  "kernelspec": {
   "display_name": "Python 3",
   "language": "python",
   "name": "python3"
  },
  "language_info": {
   "codemirror_mode": {
    "name": "ipython",
    "version": 3
   },
   "file_extension": ".py",
   "mimetype": "text/x-python",
   "name": "python",
   "nbconvert_exporter": "python",
   "pygments_lexer": "ipython3",
   "version": "3.6.3"
  }
 },
 "nbformat": 4,
 "nbformat_minor": 2
}
