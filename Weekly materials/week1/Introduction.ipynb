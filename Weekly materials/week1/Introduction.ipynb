{
 "cells": [
  {
   "cell_type": "markdown",
   "metadata": {
    "slideshow": {
     "slide_type": "slide"
    }
   },
   "source": [
    "# Course Introduction\n",
    "\n",
    "## ITCS 6156/8156:  Machine Learning \n",
    "\n",
    "\n",
    "### Spring 2018\n",
    "\n",
    "### Minwoo \"Jake\" Lee\n"
   ]
  },
  {
   "cell_type": "markdown",
   "metadata": {
    "slideshow": {
     "slide_type": "slide"
    }
   },
   "source": [
    "# Course Staffs: Who are we?\n",
    "\n",
    "Instructor:   <a href=\"http://webpages.uncc.edu/mlee173\">Minwoo Jake Lee </a>\n",
    "\n",
    " - Course Website: <a href=\"http://webpages.uncc.edu/mlee173/teach/itcs6156\">http://webpages.uncc.edu/mlee173/teach/itcs6156<a/>\n",
    "\n",
    "GTAs: \n",
    "- Amrit\n",
    "- Eshwar\n",
    "- Tanmay"
   ]
  },
  {
   "cell_type": "markdown",
   "metadata": {
    "slideshow": {
     "slide_type": "slide"
    }
   },
   "source": [
    "# What is Machine Learning\n",
    "\n",
    "\n",
    "> \"The only source of knowledge is experience.\"  - Albert Einstein\n",
    "\n",
    "\n",
    "> Machine learning is the field of study that gives computers the ability to learn without being **explicitly programmed**.  - Arthur Samuel\n",
    "\n",
    "- Recognizing a pattern / rule\n",
    "- Learning: discovery of new knowledge"
   ]
  },
  {
   "cell_type": "markdown",
   "metadata": {
    "slideshow": {
     "slide_type": "slide"
    }
   },
   "source": [
    "# Traditional Coding / Planning\n",
    "\n",
    "\n",
    "![unreadable flowchart](http://spaceotechnologies.s3.amazonaws.com/wp-content/uploads/2015/03/flowcharts.png)\n"
   ]
  },
  {
   "cell_type": "markdown",
   "metadata": {
    "slideshow": {
     "slide_type": "slide"
    }
   },
   "source": [
    "# Machine Learning Problems and Applications"
   ]
  },
  {
   "cell_type": "markdown",
   "metadata": {
    "slideshow": {
     "slide_type": "slide"
    }
   },
   "source": [
    "# How-Old.net\n",
    "\n",
    "![](http://webpages.uncc.edu/mlee173/teach/itcs6156/images/class/howoldnet.png)"
   ]
  },
  {
   "cell_type": "markdown",
   "metadata": {
    "slideshow": {
     "slide_type": "slide"
    }
   },
   "source": [
    "# Microsoft CaptionBot\n",
    "\n",
    "![](http://webpages.uncc.edu/mlee173/teach/itcs6156/images/class/captionbot.png)"
   ]
  },
  {
   "cell_type": "markdown",
   "metadata": {
    "slideshow": {
     "slide_type": "slide"
    }
   },
   "source": [
    "# Natural Language Processing and Decision Making\n",
    "\n",
    "![](http://webpages.uncc.edu/mlee173/teach/itcs6156/images/class/watson.png)"
   ]
  },
  {
   "cell_type": "markdown",
   "metadata": {
    "slideshow": {
     "slide_type": "slide"
    }
   },
   "source": [
    "# Playing Complex Games\n",
    "\n",
    "- (19 x 19)! cases\n",
    "\n",
    "![](http://webpages.uncc.edu/mlee173/teach/itcs6156/images/class/alphago.png)"
   ]
  },
  {
   "cell_type": "markdown",
   "metadata": {
    "slideshow": {
     "slide_type": "slide"
    }
   },
   "source": [
    "# Control Problems\n",
    "\n",
    "![](http://webpages.uncc.edu/mlee173/teach/itcs6156/images/class/openaigym.png)"
   ]
  },
  {
   "cell_type": "markdown",
   "metadata": {
    "slideshow": {
     "slide_type": "slide"
    }
   },
   "source": [
    "\n",
    "# Daimler - Infrared Colorization (Video)"
   ]
  },
  {
   "cell_type": "markdown",
   "metadata": {
    "slideshow": {
     "slide_type": "slide"
    }
   },
   "source": [
    "# Objectives of Machine Learning\n",
    "\n",
    "From data as samples of measurements, variable values, attributes or features, \n",
    "\n",
    "- __find__: outliers, anomalies, redundant variables\n",
    "- __explain__: relationships, dependences\n",
    "- __predict__: some variables from others\n",
    "- __classify__: samples into categories\n",
    "- __control__: by selecting actions in sequences that optimizes performances\n"
   ]
  },
  {
   "cell_type": "markdown",
   "metadata": {
    "slideshow": {
     "slide_type": "slide"
    }
   },
   "source": [
    "# Course Objectives\n",
    "\n",
    "- Being familiar to data and visualization\n",
    "- Learning concepts and algorithms of ML\n",
    "- Understand the basic theory of machine learning\n",
    "- Being able to apply machine learing algorithms to solve problems\n",
    "- Learning to program in Python\n",
    "- Using Python to analyze and visualize results\n",
    "- Learning to write Jupyter notebooks \n",
    "- Learning to ask and answer questions about your data, results, and interpretation\n"
   ]
  },
  {
   "cell_type": "markdown",
   "metadata": {
    "slideshow": {
     "slide_type": "slide"
    }
   },
   "source": [
    "# Textbook \n",
    "\n",
    "- Aurelien Geron, Hands-on Machine Learning with Scikit-Learn & TensorFlow. O'Reilly (2017)\n",
    "- handbook for practice and basic concept\n",
    "\n",
    "\n",
    "<img src=\"https://covers.oreillystatic.com/images/0636920052289/lrg.jpg\" width=150 />\n",
    "\n",
    "\n",
    "## Reference Text\n",
    "\n",
    "- Christopher M. Bishop, Pattern Recognition and Machine Learning, Springer (2007). \n",
    "- Sutton and Barto, Reinforcement Learning: An Introduction, 2nd Edition (2016) On-line and free.\n",
    "- Ethem Alpaydin, Introduction to Machine Learning, 3rd edition, MIT Press, 2014.\n",
    "- Kevin P. Murphy, MachineLearning: A Probabilistic Perspective. MIT Press, 2012.     \n",
    "    "
   ]
  },
  {
   "cell_type": "markdown",
   "metadata": {
    "slideshow": {
     "slide_type": "slide"
    }
   },
   "source": [
    "# Grading\n",
    "\n",
    "- 90% of the grade are assignments and a project\n",
    "- 20& for a project.\n",
    "- **No late period**"
   ]
  },
  {
   "cell_type": "markdown",
   "metadata": {
    "slideshow": {
     "slide_type": "slide"
    }
   },
   "source": [
    "# Attendance / Participation / Reading\n",
    "\n",
    "- 5% for attendance and discussions\n",
    "  - PollEverywhere (in-class activities, feedback, quizzes, Q&A)\n",
    "  - Pizza for discussion\n",
    "- 5% reading assignment (prototype programming)"
   ]
  },
  {
   "cell_type": "markdown",
   "metadata": {
    "slideshow": {
     "slide_type": "slide"
    }
   },
   "source": [
    "# 8156 Requirement\n",
    "\n",
    "- 10 % for a presentation (free of choice)\n",
    "- Pick a topic or a paper and share it with a class for 20 minutes"
   ]
  },
  {
   "cell_type": "markdown",
   "metadata": {
    "slideshow": {
     "slide_type": "slide"
    }
   },
   "source": [
    "# Syllabus\n",
    "\n",
    "\n",
    "http://webpages.uncc.edu/mlee173/teach/itcs6156/syllabus.html\n"
   ]
  },
  {
   "cell_type": "markdown",
   "metadata": {
    "slideshow": {
     "slide_type": "slide"
    }
   },
   "source": [
    "# Resources\n",
    "\n",
    "\n",
    "http://webpages.uncc.edu/mlee173/teach/itcs6156/resources.html\n"
   ]
  },
  {
   "cell_type": "markdown",
   "metadata": {
    "slideshow": {
     "slide_type": "slide"
    }
   },
   "source": [
    "# PollEverywhere: PollEv.com/mjlee\n",
    "\n",
    "Let's practice. See if it works! "
   ]
  },
  {
   "cell_type": "markdown",
   "metadata": {
    "slideshow": {
     "slide_type": "slide"
    }
   },
   "source": [
    "# Tools \n",
    "\n",
    "- Python\n",
    "  - ipython\n",
    "  - numpy\n",
    "  - scikit and scikit.learn\n",
    "  - matplotlib\n",
    "  - pandas \n",
    "  - ...\n",
    "  \n",
    "- jupyter notebook\n",
    "  "
   ]
  },
  {
   "cell_type": "markdown",
   "metadata": {
    "slideshow": {
     "slide_type": "slide"
    }
   },
   "source": [
    "# To Do\n",
    "\n",
    "1. install python (install Anaconda)\n",
    "2. install jupyter\n",
    "4. install [RISE](https://github.com/damianavila/RISE) for slideshow. \n",
    "5. watch section 1 scipy lecture notes\n",
    "6. run ipython and practice the examples in Section 1. "
   ]
  }
 ],
 "metadata": {
  "celltoolbar": "Slideshow",
  "kernelspec": {
   "display_name": "Python 3",
   "language": "python",
   "name": "python3"
  },
  "language_info": {
   "codemirror_mode": {
    "name": "ipython",
    "version": 3
   },
   "file_extension": ".py",
   "mimetype": "text/x-python",
   "name": "python",
   "nbconvert_exporter": "python",
   "pygments_lexer": "ipython3",
   "version": "3.6.3"
  }
 },
 "nbformat": 4,
 "nbformat_minor": 2
}
