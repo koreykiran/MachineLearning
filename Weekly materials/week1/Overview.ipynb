{
 "cells": [
  {
   "cell_type": "markdown",
   "metadata": {
    "slideshow": {
     "slide_type": "slide"
    }
   },
   "source": [
    "# Overview\n",
    "\n",
    "\n",
    "<br/>\n",
    "<br/><br/><br/>\n",
    "### ITCS6156/8156 Spring 2018\n",
    "### Minwoo \"Jake\" Lee\n"
   ]
  },
  {
   "cell_type": "markdown",
   "metadata": {
    "slideshow": {
     "slide_type": "slide"
    }
   },
   "source": [
    "# Review \n",
    "\n",
    "## What is Machine Learning?\n"
   ]
  },
  {
   "cell_type": "markdown",
   "metadata": {
    "slideshow": {
     "slide_type": "slide"
    }
   },
   "source": [
    "# What Follows Next? \n",
    "\n",
    "- 2, 4, 6, 8, 10, 12, ?"
   ]
  },
  {
   "cell_type": "markdown",
   "metadata": {
    "slideshow": {
     "slide_type": "fragment"
    }
   },
   "source": [
    "- 2, 4, 6, 8, 10, 12, <b><font color=\"red\" bold=True> 13</font></b>"
   ]
  },
  {
   "cell_type": "markdown",
   "metadata": {
    "slideshow": {
     "slide_type": "subslide"
    }
   },
   "source": [
    "## why? \n"
   ]
  },
  {
   "cell_type": "markdown",
   "metadata": {
    "slideshow": {
     "slide_type": "fragment"
    }
   },
   "source": [
    "- 2, 4, 6, 8, 10, 12, 13, 2, 4, 6, 8, 10, 12, 13, 2, 4, 6, 8, 10, 12, 13, ..."
   ]
  },
  {
   "cell_type": "markdown",
   "metadata": {
    "slideshow": {
     "slide_type": "fragment"
    }
   },
   "source": [
    "- 2, 4, 6, 8, 10, 12, 13, 2, 4, 6, 8, 10, 12, 13, 2, 4, 6, 8, 10, 12, 13, 2, 4, 6, 8, 10, 12, ? "
   ]
  },
  {
   "cell_type": "markdown",
   "metadata": {
    "slideshow": {
     "slide_type": "fragment"
    }
   },
   "source": [
    "- 2, 4, 6, 8, 10, 12, 13, 2, 4, 6, 8, 10, 12, 13, 2, 4, 6, 8, 10, 12, 13, 2, 4, 6, 8, 10, 12, 9 "
   ]
  },
  {
   "cell_type": "markdown",
   "metadata": {
    "slideshow": {
     "slide_type": "slide"
    }
   },
   "source": [
    "# Learning Pattern\n",
    "\n",
    "\n",
    "![](http://webpages.uncc.edu/mlee173/teach/itcs6156/images/class/1stgrader_pattern.png)"
   ]
  },
  {
   "cell_type": "markdown",
   "metadata": {
    "slideshow": {
     "slide_type": "slide"
    }
   },
   "source": [
    "# Why ML? \n",
    "\n",
    "- Maintenance of codes\n",
    "- Complex problems\n",
    "- Changing data or environment\n",
    "- Discovery or new knowlege\n",
    "- Large data - data mining"
   ]
  },
  {
   "cell_type": "markdown",
   "metadata": {
    "slideshow": {
     "slide_type": "slide"
    }
   },
   "source": [
    "# Questions from the previous class\n",
    "\n",
    "- Available Data for the project? \n",
    "- Python **3.6** or 2.7?\n",
    "- effect of machine learning in 50 years\n",
    "- rubrics for assignments\n",
    "- the process of install Jupyter Notebook\n",
    "  - install Anaconda, that's it! \n",
    "- team project?"
   ]
  },
  {
   "cell_type": "markdown",
   "metadata": {
    "slideshow": {
     "slide_type": "slide"
    }
   },
   "source": [
    "# Types of ML \n",
    "\n",
    "- Supervised Learning\n",
    "  - Classification\n",
    "  - Regressions\n",
    "  \n",
    "- Unsupervised Learning\n",
    "  - Clustering\n",
    "  - Dimensionality Reduction\n",
    "  \n",
    "- Reinforcement Learning\n",
    "\n",
    "- Semi-supervised Learning\n"
   ]
  },
  {
   "cell_type": "markdown",
   "metadata": {
    "slideshow": {
     "slide_type": "slide"
    }
   },
   "source": [
    "# Classification\n",
    "\n",
    "\n",
    "<img src=\"https://webpages.uncc.edu/mlee173/teach/itcs6156/images/class/svm_classifiy.png\" width=700 />\n"
   ]
  },
  {
   "cell_type": "markdown",
   "metadata": {
    "slideshow": {
     "slide_type": "slide"
    }
   },
   "source": [
    "# Supervised Learning (Binary Classification Example)\n",
    "\n",
    "- $f: \\mathcal{X} \\rightarrow y $\n",
    "- Input: $\\mathbf{x} \\in {\\rm I\\!R}^d = \\mathcal{X}$\n",
    "- Output: $y \\in \\{-1, +1\\}$\n",
    "- Data: $D = \\{ (\\mathbf{x}_1, y_1), \\dots, (\\mathbf{x}_N, y_N) \\}$ where $y_i = f(\\mathcal{x}_i)$."
   ]
  },
  {
   "cell_type": "markdown",
   "metadata": {
    "slideshow": {
     "slide_type": "slide"
    }
   },
   "source": [
    "# Regression\n",
    "\n",
    "<img src=\"https://webpages.uncc.edu/mlee173/teach/itcs6156/images/class/poly_regress.png\" width=800 />"
   ]
  },
  {
   "cell_type": "markdown",
   "metadata": {
    "slideshow": {
     "slide_type": "slide"
    }
   },
   "source": [
    "# Supervised Learning (Regression)\n",
    "\n",
    "- $f: \\mathcal{X} \\rightarrow y $\n",
    "- Input: $\\mathbf{x} \\in {\\rm I\\!R}^d = \\mathcal{X}$\n",
    "- <font color=\"red\">Output: $y \\in {\\rm I\\!R}$ </font>\n",
    "- Data: $D = \\{ (\\mathbf{x}_1, y_1), \\dots, (\\mathbf{x}_N, y_N) \\}$ where $y_i = f(\\mathcal{x}_i)$."
   ]
  },
  {
   "cell_type": "markdown",
   "metadata": {
    "slideshow": {
     "slide_type": "slide"
    }
   },
   "source": [
    "# Clustering\n",
    "\n",
    "<img src=\"https://upload.wikimedia.org/wikipedia/commons/e/ea/K-means_convergence.gif\" width=450 />\n",
    "wikipedia.org"
   ]
  },
  {
   "cell_type": "markdown",
   "metadata": {
    "slideshow": {
     "slide_type": "slide"
    }
   },
   "source": [
    "# Dimensionality Reduction\n",
    "\n",
    "<img src=\"http://www.turingfinance.com/wp-content/uploads/2014/10/Dimensionality.png\" width=600 />\n",
    "http://bigsnarf.wordpress.com/category/thoughts/page/4/"
   ]
  },
  {
   "cell_type": "markdown",
   "metadata": {
    "slideshow": {
     "slide_type": "slide"
    }
   },
   "source": [
    "# Reinforcement Learning\n",
    "\n",
    "![](http://twistedsifter.files.wordpress.com/2010/09/pavlovs-dogs-mark-stivers.gif?w=675&h=539&zoom=2)\n",
    "http://twistedsifter.com/"
   ]
  },
  {
   "cell_type": "markdown",
   "metadata": {
    "slideshow": {
     "slide_type": "slide"
    }
   },
   "source": [
    "# Semi-supervised Learning\n",
    "\n",
    "![](https://upload.wikimedia.org/wikipedia/commons/d/d0/Example_of_unlabeled_data_in_semisupervised_learning.png)\n",
    "wikipedia.org"
   ]
  },
  {
   "cell_type": "markdown",
   "metadata": {
    "slideshow": {
     "slide_type": "slide"
    }
   },
   "source": [
    "# Why Python\n",
    "\n",
    "- Free! \n",
    "- Large community of ML researchers\n",
    "- Libraries for plotting and linear algebra (even ML libraries)\n",
    "- cross-platform compatibility\n",
    "- An iterpreteed language"
   ]
  },
  {
   "cell_type": "markdown",
   "metadata": {
    "slideshow": {
     "slide_type": "slide"
    }
   },
   "source": [
    "# Why Python?  (Cont')\n",
    "\n",
    "<img src=\"https://fossbytes.com/wp-content/uploads/2016/12/machine-learning-data-science-programming-language.png\" width=600 />\n",
    "https://fossbytes.com/popular-top-programming-languages-machine-learning-data-science/\n",
    "\n",
    "- Python Tops 2017's Most Popular Programming Lanauages (\n",
    "https://www.extremetech.com/computing/252987-python-tops-list-2017s-popular-programming-languages)\n",
    "- Top 10 Most used programming language (https://www.sitepoint.com/whats-the-best-programming-language-to-learn-in-2017/)"
   ]
  },
  {
   "cell_type": "markdown",
   "metadata": {
    "slideshow": {
     "slide_type": "slide"
    }
   },
   "source": [
    "# Numpy\n",
    "\n",
    "- Vector and Matrix operations"
   ]
  },
  {
   "cell_type": "code",
   "execution_count": null,
   "metadata": {
    "collapsed": true
   },
   "outputs": [],
   "source": [
    "import numpy as np \n",
    "\n",
    "A = np.array([4,2,1])\n",
    "B = np.array([0.5, 1, 2])\n",
    "\n",
    "print(A)\n",
    "print(A * B)\n",
    "print(A @ B)"
   ]
  },
  {
   "cell_type": "markdown",
   "metadata": {
    "slideshow": {
     "slide_type": "slide"
    }
   },
   "source": [
    "# Matplotlib\n",
    "\n",
    "- visusalize the data or results"
   ]
  },
  {
   "cell_type": "code",
   "execution_count": null,
   "metadata": {
    "collapsed": true,
    "slideshow": {
     "slide_type": "-"
    }
   },
   "outputs": [],
   "source": [
    "import matplotlib.pyplot as plt \n",
    "%matplotlib inline\n",
    "\n",
    "plt.plot(A)"
   ]
  },
  {
   "cell_type": "markdown",
   "metadata": {
    "slideshow": {
     "slide_type": "slide"
    }
   },
   "source": [
    "# Scikit Learn\n",
    "\n",
    "- Machine learning library\n",
    "- Classification, Regression, Clustering, Dimensionality Reduction, Model Selection, Preprocessing"
   ]
  },
  {
   "cell_type": "markdown",
   "metadata": {
    "slideshow": {
     "slide_type": "slide"
    }
   },
   "source": [
    "# Pandas\n",
    "\n",
    "- Tools for reading and analyzing data"
   ]
  },
  {
   "cell_type": "code",
   "execution_count": 1,
   "metadata": {
    "slideshow": {
     "slide_type": "-"
    }
   },
   "outputs": [
    {
     "name": "stdout",
     "output_type": "stream",
     "text": [
      "[('Bob', 968), ('Jessica', 155), ('Mary', 77), ('John', 578), ('Mel', 973)]\n"
     ]
    },
    {
     "data": {
      "text/html": [
       "<div>\n",
       "<style>\n",
       "    .dataframe thead tr:only-child th {\n",
       "        text-align: right;\n",
       "    }\n",
       "\n",
       "    .dataframe thead th {\n",
       "        text-align: left;\n",
       "    }\n",
       "\n",
       "    .dataframe tbody tr th {\n",
       "        vertical-align: top;\n",
       "    }\n",
       "</style>\n",
       "<table border=\"1\" class=\"dataframe\">\n",
       "  <thead>\n",
       "    <tr style=\"text-align: right;\">\n",
       "      <th></th>\n",
       "      <th>Names</th>\n",
       "      <th>Births</th>\n",
       "    </tr>\n",
       "  </thead>\n",
       "  <tbody>\n",
       "    <tr>\n",
       "      <th>0</th>\n",
       "      <td>Bob</td>\n",
       "      <td>968</td>\n",
       "    </tr>\n",
       "    <tr>\n",
       "      <th>1</th>\n",
       "      <td>Jessica</td>\n",
       "      <td>155</td>\n",
       "    </tr>\n",
       "    <tr>\n",
       "      <th>2</th>\n",
       "      <td>Mary</td>\n",
       "      <td>77</td>\n",
       "    </tr>\n",
       "    <tr>\n",
       "      <th>3</th>\n",
       "      <td>John</td>\n",
       "      <td>578</td>\n",
       "    </tr>\n",
       "    <tr>\n",
       "      <th>4</th>\n",
       "      <td>Mel</td>\n",
       "      <td>973</td>\n",
       "    </tr>\n",
       "  </tbody>\n",
       "</table>\n",
       "</div>"
      ],
      "text/plain": [
       "     Names  Births\n",
       "0      Bob     968\n",
       "1  Jessica     155\n",
       "2     Mary      77\n",
       "3     John     578\n",
       "4      Mel     973"
      ]
     },
     "execution_count": 1,
     "metadata": {},
     "output_type": "execute_result"
    }
   ],
   "source": [
    "import pandas as pd\n",
    "\n",
    "# The inital set of baby names and bith rates\n",
    "names = ['Bob','Jessica','Mary','John','Mel']\n",
    "births = [968, 155, 77, 578, 973]\n",
    "\n",
    "BabyDataSet = list(zip(names,births))\n",
    "df = pd.DataFrame(data = BabyDataSet, columns=['Names', 'Births'])\n",
    "\n",
    "print(BabyDataSet)\n",
    "df"
   ]
  },
  {
   "cell_type": "markdown",
   "metadata": {
    "slideshow": {
     "slide_type": "slide"
    }
   },
   "source": [
    "# TensorFlow\n",
    "\n",
    "- library for numerical computation\n",
    "- data flow graphs\n",
    "- can be deployed multiple CPUs or GPUs"
   ]
  },
  {
   "cell_type": "code",
   "execution_count": 2,
   "metadata": {},
   "outputs": [
    {
     "name": "stdout",
     "output_type": "stream",
     "text": [
      "a=2, b=3\n",
      "Addition with constants: 5\n",
      "Multiplication with constants: 6\n"
     ]
    }
   ],
   "source": [
    "import tensorflow as tf\n",
    "\n",
    "# Basic constant operations\n",
    "# The value returned by the constructor represents the output\n",
    "# of the Constant op.\n",
    "a = tf.constant(2)\n",
    "b = tf.constant(3)\n",
    "\n",
    "# Launch the default graph.\n",
    "with tf.Session() as sess:\n",
    "    print(\"a=2, b=3\")\n",
    "    print(\"Addition with constants: %i\" % sess.run(a+b))\n",
    "    print(\"Multiplication with constants: %i\" % sess.run(a*b))\n"
   ]
  },
  {
   "cell_type": "markdown",
   "metadata": {
    "slideshow": {
     "slide_type": "slide"
    }
   },
   "source": [
    "# Challenges of ML \n",
    "\n",
    "- Insufficient Data: ML needs more than you think\n",
    "- Nonrepresentative data\n",
    "  - Interpolation vs Extrapolation\n",
    "  - sampling bias\n",
    "- Poor-Quality data\n",
    "- Irrelevant Features\n",
    "- Overfitting\n",
    "  - regularization\n",
    "  - early stopping\n",
    "- Underfitting\n"
   ]
  },
  {
   "cell_type": "markdown",
   "metadata": {
    "slideshow": {
     "slide_type": "slide"
    }
   },
   "source": [
    "# Data / Applications\n",
    "\n",
    "- [UCI Data Repository](https://archive.ics.uci.edu/ml/datasets.html)\n",
    "- [Kaggle Data](https://www.kaggle.com)\n",
    "- [KDNugget](http://www.kdnuggets.com/)\n",
    "- [ImageNet](http://www.image-net.org/)\n",
    "\n",
    "\n",
    "- [OpenAI Gym](https://gym.openai.com)\n",
    "- [Robot Benchmark](https://robotbenchmark.net/)\n",
    "\n",
    "\n",
    "And far more [here](https://en.wikipedia.org/wiki/List_of_datasets_for_machine_learning_research)"
   ]
  },
  {
   "cell_type": "markdown",
   "metadata": {
    "slideshow": {
     "slide_type": "slide"
    }
   },
   "source": [
    "# Q: Best suited for ML? \n",
    "\n",
    "- classifying numbers into prime and non-prime numbers\n",
    "- predicting the time it would take a falling object to hit the ground\n",
    "- determining the optimal cycle for traffic lights in a busy intersection\n",
    "- medical diagnosis\n",
    "\n",
    "\n",
    "ref: Machine Learning (CS545) - Asa Ben-Hur"
   ]
  },
  {
   "cell_type": "markdown",
   "metadata": {
    "slideshow": {
     "slide_type": "slide"
    }
   },
   "source": [
    "# What is the best model to choose? \n",
    "\n",
    "- Testing and Validating\n",
    "- No Free Lunch Theorem - David Wolpert\n",
    "  - Test reasonable models or test them all. \n"
   ]
  },
  {
   "cell_type": "markdown",
   "metadata": {
    "slideshow": {
     "slide_type": "slide"
    }
   },
   "source": [
    "# ML Setup\n",
    "\n",
    "<img src=\"http://webpages.uncc.edu/mlee173/teach/itcs6156/images/class/learning_setup_LFD.png\" width=600 />\n",
    "\n",
    "Learning from Data - Yaser S. Abu-Mostafa, Malik Magdon-Ismail, and Tsuan-Tien Ln (http://amlbook.com)"
   ]
  },
  {
   "cell_type": "markdown",
   "metadata": {
    "slideshow": {
     "slide_type": "slide"
    }
   },
   "source": [
    "# Summary\n",
    "\n",
    "\n",
    "- Types of ML?\n",
    "- Packages that we will use\n",
    "- Challenges of ML? \n",
    "- Model Selection"
   ]
  }
 ],
 "metadata": {
  "celltoolbar": "Slideshow",
  "kernelspec": {
   "display_name": "Python 3",
   "language": "python",
   "name": "python3"
  },
  "language_info": {
   "codemirror_mode": {
    "name": "ipython",
    "version": 3
   },
   "file_extension": ".py",
   "mimetype": "text/x-python",
   "name": "python",
   "nbconvert_exporter": "python",
   "pygments_lexer": "ipython3",
   "version": "3.6.3"
  }
 },
 "nbformat": 4,
 "nbformat_minor": 2
}
