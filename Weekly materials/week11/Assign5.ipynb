{
 "cells": [
  {
   "cell_type": "markdown",
   "metadata": {},
   "source": [
    "# Assignment #5 - Deep Learning\n",
    "\n",
    "### <font color=\"red\"> DUE: Apr 19 (Thursday) 11:00 pm </font>  "
   ]
  },
  {
   "cell_type": "markdown",
   "metadata": {},
   "source": [
    "<font color=\"blue\"> type your name here </font>"
   ]
  },
  {
   "cell_type": "markdown",
   "metadata": {},
   "source": [
    "# I. Overview\n",
    "\n",
    "Describe the objective of this assignment. You can briefly state how you accompilsh it."
   ]
  },
  {
   "cell_type": "markdown",
   "metadata": {},
   "source": [
    "# II. Data\n",
    "\n",
    "Introduce your data and visualize them. Describe your observations about the data.\n",
    "You can reuse the data that you examined in Assignment #0 (of course for classification). "
   ]
  },
  {
   "cell_type": "markdown",
   "metadata": {},
   "source": [
    "# III. Methods\n",
    "\n",
    "In this assignment, you are build a deep network with more than 5 layers using TensorFlow. \n",
    "Looking at the chart below, get some idea about how you can construct your networks for what problem and why you pick your structure. \n",
    "\n",
    "- Pick at least 3 different networks for experiments.\n",
    "- Summarize the choice of your networks. \n",
    "- Explain your TensorFlow codes. \n",
    "- Explain how you apply your model to your data. \n",
    "\n",
    "Following images are only for you to get some idea. You do not necessarily stick with these. You can come up with your own structure or shape. \n",
    "\n",
    "![](https://camo.githubusercontent.com/31e20172e3b7bc5530a6e7c7e7339e8e556d0acc/687474703a2f2f7777772e6173696d6f76696e737469747574652e6f72672f77702d636f6e74656e742f75706c6f6164732f323031362f30392f6e657572616c6e6574776f726b732e706e67)\n",
    "\n"
   ]
  },
  {
   "cell_type": "markdown",
   "metadata": {},
   "source": [
    "# IV - Results\n",
    "\n",
    "- Presents the results of applications of your deep networks.\n",
    "- Visualize the results \n",
    "- Discuss about the choice of network structures and performance of it as you change the structures.  \n",
    "- What do you think about the results? "
   ]
  },
  {
   "cell_type": "markdown",
   "metadata": {},
   "source": [
    "# Conclusions\n",
    "\n",
    "Discuss the challenges or somethat that you learned. \n",
    "If you have any suggestion about the assignment, you can write about it. "
   ]
  },
  {
   "cell_type": "markdown",
   "metadata": {},
   "source": [
    "# Extra Credit\n",
    "\n",
    "- Test your program with GPUs and compare training speed. You can try [FloydHub](https://www.floydhub.com/) for free 2 hours of GPU resources. "
   ]
  },
  {
   "cell_type": "markdown",
   "metadata": {},
   "source": [
    "## Grading\n",
    "\n",
    "DO NOT forget to submit your data! Your notebook is supposed to run fine after running your codes. \n",
    "\n",
    "\n",
    "points | | description\n",
    "--|--|:--\n",
    "5 | Overview| states the objective and the appraoch \n",
    "15 | Data | \n",
    " | 5| Includes description of your data\n",
    " | 5| Plots to visualize data \n",
    " | 5| Reading and analyzing the plots \n",
    "50 | Methods | \n",
    " | 30| Explanation of the choice for 3 different neural network structures and reason for the selection. (10 points for each) \n",
    " |   | Relate the choice of your data!\n",
    " | 15| Explanation of codes for each structure\n",
    " |  5| Explanation of experimental codes\n",
    "25 | Results | Your Data\n",
    "| 15| plots for results \n",
    "| 10| Discussions about the choice of network structures \n",
    "5 | Conclusions \n"
   ]
  }
 ],
 "metadata": {
  "kernelspec": {
   "display_name": "Python 3",
   "language": "python",
   "name": "python3"
  },
  "language_info": {
   "codemirror_mode": {
    "name": "ipython",
    "version": 3
   },
   "file_extension": ".py",
   "mimetype": "text/x-python",
   "name": "python",
   "nbconvert_exporter": "python",
   "pygments_lexer": "ipython3",
   "version": "3.6.1"
  }
 },
 "nbformat": 4,
 "nbformat_minor": 2
}
