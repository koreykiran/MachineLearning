{
 "cells": [
  {
   "cell_type": "markdown",
   "metadata": {
    "slideshow": {
     "slide_type": "slide"
    }
   },
   "source": [
    "# ML Methodology\n",
    "\n",
    "\n",
    "### Spring 2018\n",
    "\n",
    "### Minwoo \"Jake\" Lee"
   ]
  },
  {
   "cell_type": "markdown",
   "metadata": {
    "slideshow": {
     "slide_type": "slide"
    }
   },
   "source": [
    "# QUIZZES\n",
    "\n",
    "## PollEv.com/mjlee\n",
    "\n",
    "### 5 min for Review Quiz\n",
    "### 5 min for Preview Quiz"
   ]
  },
  {
   "cell_type": "markdown",
   "metadata": {
    "slideshow": {
     "slide_type": "slide"
    }
   },
   "source": [
    "# Agenda\n",
    "\n",
    "- project/assignment\n",
    "- Review\n",
    "- Overview\n",
    "- GMM (finish)\n",
    "- Dimensionality Reduction \n",
    "- Polynomial Regression for Nonlinearity\n",
    "- Generalization\n",
    "- Bias-Variance Tradeoff\n",
    "- Regularization\n",
    "- CV\n",
    "- 8156 Presentation\n",
    "- Next Topic: Neural Networks"
   ]
  }
 ],
 "metadata": {
  "celltoolbar": "Slideshow",
  "kernelspec": {
   "display_name": "Python 3",
   "language": "python",
   "name": "python3"
  },
  "language_info": {
   "codemirror_mode": {
    "name": "ipython",
    "version": 3
   },
   "file_extension": ".py",
   "mimetype": "text/x-python",
   "name": "python",
   "nbconvert_exporter": "python",
   "pygments_lexer": "ipython3",
   "version": "3.6.1"
  }
 },
 "nbformat": 4,
 "nbformat_minor": 1
}
