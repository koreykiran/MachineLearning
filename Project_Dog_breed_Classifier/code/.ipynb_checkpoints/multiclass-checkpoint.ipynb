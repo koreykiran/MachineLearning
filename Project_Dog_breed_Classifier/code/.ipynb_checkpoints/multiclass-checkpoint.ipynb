{
 "cells": [
  {
   "cell_type": "markdown",
   "metadata": {},
   "source": [
    "# Dog breed Classifier"
   ]
  },
  {
   "cell_type": "markdown",
   "metadata": {},
   "source": [
    "This file consists of CNN for the 2nd module of the proposed approach.\n",
    "I.e. this the Multi class classifier.\n",
    "\n",
    "This file also contains the method to test the image, which integrates the binary classifier and multi class classifier. "
   ]
  },
  {
   "cell_type": "code",
   "execution_count": 67,
   "metadata": {},
   "outputs": [],
   "source": [
    "from keras.models import Sequential\n",
    "from keras.layers import Conv2D\n",
    "from keras.layers import MaxPooling2D,GlobalAveragePooling2D\n",
    "from keras.layers import Flatten\n",
    "from keras.layers import Dense\n",
    "from timeit import default_timer as timer\n",
    "from keras.preprocessing.image import ImageDataGenerator\n",
    "from PIL import ImageFile\n",
    "ImageFile.LOAD_TRUNCATED_IMAGES = True\n",
    "\n",
    "from keras.callbacks import History \n",
    "history = History()\n",
    "acc=[]\n",
    "loss=[]\n",
    "val_loss=[]\n",
    "val_acc=[]"
   ]
  },
  {
   "cell_type": "code",
   "execution_count": 173,
   "metadata": {},
   "outputs": [],
   "source": [
    "import matplotlib.pyplot as plt\n",
    "%matplotlib inline\n",
    "from skimage.io import imread\n",
    "from skimage.transform import resize\n",
    "import numpy as np\n",
    "from IPython.display import display, Image,HTML\n",
    "from keras.models import model_from_yaml"
   ]
  },
  {
   "cell_type": "markdown",
   "metadata": {},
   "source": [
    "### Build the Model."
   ]
  },
  {
   "cell_type": "code",
   "execution_count": 2,
   "metadata": {},
   "outputs": [],
   "source": [
    "# Initialising the CNN\n",
    "classifier = Sequential()\n",
    "\n",
    "# Step 1 - Convolution\n",
    "# number of features - 32,64,128 , size of each feaature map (3,3)\n",
    "# Input shape -> 3 for colored, 2 for black and white, size - 64,64 \n",
    "#activation function - to remove the negative pixel values , to remove the linearity \n",
    "# classifier.add(GlobalAveragePooling2D(input_shape=train_ResNet50.shape[1:]))\n",
    "\n",
    "classifier.add(Conv2D(64, (3, 3), activation=\"relu\", input_shape=(64, 64, 3)))\n",
    "# Step 2 - Pooling\n",
    "classifier.add(MaxPooling2D(pool_size = (2, 2)))\n",
    "\n",
    "# Adding a second convolutional layer\n",
    "classifier.add(Conv2D(64, (3, 3), activation=\"relu\"))\n",
    "classifier.add(MaxPooling2D(pool_size = (2, 2)))\n",
    "\n",
    "# Adding a third convolutional layer\n",
    "classifier.add(Conv2D(64, (3, 3), activation=\"relu\"))\n",
    "classifier.add(MaxPooling2D(pool_size = (2, 2)))\n",
    "\n",
    "\n",
    "# Step 3 - Flattening\n",
    "classifier.add(Flatten())\n",
    "# Step 4 - Full connection\n",
    "classifier.add(Dense(activation = 'relu', units = 64))\n",
    "\n",
    "# activation - softmax for more than 2 classes, sigmoid - 2 classes\n",
    "classifier.add(Dense(activation = 'softmax', units = 133))\n",
    "\n",
    "# Compiling the CNN\n",
    "# binary_class = binary_crossentropy, multi - categorical_crossentropy\n",
    "classifier.compile(optimizer = 'adam', loss = 'categorical_crossentropy', metrics = ['accuracy'])"
   ]
  },
  {
   "cell_type": "markdown",
   "metadata": {},
   "source": [
    "As we can see we are using **Sequential** class from Keras models to build the CNN.\n",
    "Here we have 3 layers of convolution and a layer of Max pooling for each convolution layer.\n",
    "\n",
    "We then flatten the nodes and feed it to the fully connected layers.\n",
    "we have 2 fully connected layers, one uses '**relu**' as the activation function and other uses '**softmax**'.\n",
    "\n",
    "We have chosen '**adam optimizer**' as the optimizer and '**Caategorical crossentropy**' as the loss function.\n",
    "\n",
    "### Model Summary :"
   ]
  },
  {
   "cell_type": "code",
   "execution_count": 183,
   "metadata": {},
   "outputs": [
    {
     "name": "stdout",
     "output_type": "stream",
     "text": [
      "_________________________________________________________________\n",
      "Layer (type)                 Output Shape              Param #   \n",
      "=================================================================\n",
      "conv2d_1 (Conv2D)            (None, 62, 62, 64)        1792      \n",
      "_________________________________________________________________\n",
      "max_pooling2d_1 (MaxPooling2 (None, 31, 31, 64)        0         \n",
      "_________________________________________________________________\n",
      "conv2d_2 (Conv2D)            (None, 29, 29, 64)        36928     \n",
      "_________________________________________________________________\n",
      "max_pooling2d_2 (MaxPooling2 (None, 14, 14, 64)        0         \n",
      "_________________________________________________________________\n",
      "conv2d_3 (Conv2D)            (None, 12, 12, 64)        36928     \n",
      "_________________________________________________________________\n",
      "max_pooling2d_3 (MaxPooling2 (None, 6, 6, 64)          0         \n",
      "_________________________________________________________________\n",
      "flatten_1 (Flatten)          (None, 2304)              0         \n",
      "_________________________________________________________________\n",
      "dense_1 (Dense)              (None, 64)                147520    \n",
      "_________________________________________________________________\n",
      "dense_2 (Dense)              (None, 133)               8645      \n",
      "=================================================================\n",
      "Total params: 231,813\n",
      "Trainable params: 231,813\n",
      "Non-trainable params: 0\n",
      "_________________________________________________________________\n"
     ]
    }
   ],
   "source": [
    "classifier.summary()"
   ]
  },
  {
   "cell_type": "markdown",
   "metadata": {},
   "source": [
    "Since we don't have enough images lets create some more images from the existing images and modifying some properties using Keras **ImageDataGenerator**."
   ]
  },
  {
   "cell_type": "code",
   "execution_count": 3,
   "metadata": {},
   "outputs": [
    {
     "name": "stdout",
     "output_type": "stream",
     "text": [
      "Found 6680 images belonging to 133 classes.\n",
      "Found 836 images belonging to 133 classes.\n"
     ]
    }
   ],
   "source": [
    "# Part 2 - Fitting the CNN to the images\n",
    "train_datagen = ImageDataGenerator(rescale = 1./255,\n",
    "                                   shear_range = 0.2,\n",
    "                                   zoom_range = 0.2,\n",
    "                                   horizontal_flip = True)\n",
    "test_datagen = ImageDataGenerator(rescale = 1./255)\n",
    "# class_mode = binary or categorical, target_size = same as input_size mentioned in Convo2D step\n",
    "training_set = train_datagen.flow_from_directory('dogImages/train',\n",
    "                                                 target_size = (64, 64),\n",
    "                                                 batch_size = 32,\n",
    "                                                 class_mode = 'categorical')\n",
    "test_set = test_datagen.flow_from_directory('dogImages/test',\n",
    "                                            target_size = (64, 64),\n",
    "                                            batch_size = 32,\n",
    "                                            class_mode = 'categorical')"
   ]
  },
  {
   "cell_type": "markdown",
   "metadata": {},
   "source": [
    "Let's fetch the available labels from these images and store it so that we can use it later when we try to predict the images."
   ]
  },
  {
   "cell_type": "code",
   "execution_count": 141,
   "metadata": {},
   "outputs": [],
   "source": [
    "class_labels = {v: k for k, v in training_set.class_indices.items()}"
   ]
  },
  {
   "cell_type": "markdown",
   "metadata": {},
   "source": [
    "Let's create the model check point so that we can save our trained model.\n",
    "Important property to note here is that it stores only the best weights."
   ]
  },
  {
   "cell_type": "code",
   "execution_count": 4,
   "metadata": {},
   "outputs": [],
   "source": [
    "from keras.callbacks import ModelCheckpoint  \n",
    "\n",
    "checkpointer = ModelCheckpoint(filepath='mclass.hdf5', \n",
    "                               verbose=1, save_best_only=True)"
   ]
  },
  {
   "cell_type": "markdown",
   "metadata": {},
   "source": [
    "### Train the model :\n",
    "Now we are all good to start training the model.\n",
    "Since it takes a lot of time to train (**nearly 10hrs for 5 epochs**), we train for 5 epochs at a time and keep repeating it."
   ]
  },
  {
   "cell_type": "code",
   "execution_count": 5,
   "metadata": {
    "scrolled": false
   },
   "outputs": [
    {
     "name": "stdout",
     "output_type": "stream",
     "text": [
      "Epoch 1/5\n",
      "6680/6680 [==============================] - 3179s 476ms/step - loss: 3.4105 - acc: 0.1907 - val_loss: 4.1795 - val_acc: 0.1280\n",
      "\n",
      "Epoch 00001: val_loss improved from inf to 4.17946, saving model to mclass.hdf5\n",
      "Epoch 2/5\n",
      "6680/6680 [==============================] - 13611s 2s/step - loss: 2.0358 - acc: 0.4498 - val_loss: 5.2151 - val_acc: 0.1507\n",
      "\n",
      "Epoch 00002: val_loss did not improve\n",
      "Epoch 3/5\n",
      "6680/6680 [==============================] - 3701s 554ms/step - loss: 1.5436 - acc: 0.5612 - val_loss: 5.8133 - val_acc: 0.1304\n",
      "\n",
      "Epoch 00003: val_loss did not improve\n",
      "Epoch 4/5\n",
      "6680/6680 [==============================] - 2894s 433ms/step - loss: 1.2708 - acc: 0.6279 - val_loss: 6.3351 - val_acc: 0.1400\n",
      "\n",
      "Epoch 00004: val_loss did not improve\n",
      "Epoch 5/5\n",
      "6680/6680 [==============================] - 2881s 431ms/step - loss: 1.0783 - acc: 0.6796 - val_loss: 6.8100 - val_acc: 0.1471\n",
      "\n",
      "Epoch 00005: val_loss did not improve\n"
     ]
    },
    {
     "data": {
      "text/plain": [
       "<keras.callbacks.History at 0x25c4fb78128>"
      ]
     },
     "execution_count": 5,
     "metadata": {},
     "output_type": "execute_result"
    }
   ],
   "source": [
    "classifier.fit_generator(training_set,\n",
    "                         steps_per_epoch = 6680,\n",
    "                         epochs = 5,\n",
    "                         validation_data = test_set,\n",
    "                         validation_steps = 836,callbacks=[checkpointer],verbose=1)"
   ]
  },
  {
   "cell_type": "markdown",
   "metadata": {},
   "source": [
    "Since we did not store the history of first few trainings we recorded the readings manually for few trainings."
   ]
  },
  {
   "cell_type": "code",
   "execution_count": 72,
   "metadata": {},
   "outputs": [],
   "source": [
    "acc.extend([0.1907,0.4498,0.5612,0.6279,0.6796])\n",
    "loss.extend([3.4105,2.0358,1.5436,1.2708,1.0783])\n",
    "val_loss.extend([4.1795,5.2151,5.8133,6.3351,6.8100])\n",
    "val_acc.extend([0.1280,0.1507,0.1304,0.1400,0.1471])"
   ]
  },
  {
   "cell_type": "code",
   "execution_count": 73,
   "metadata": {},
   "outputs": [
    {
     "name": "stdout",
     "output_type": "stream",
     "text": [
      "5 5 5 5\n"
     ]
    }
   ],
   "source": [
    "print(len(acc),len(loss),len(val_loss),len(val_acc))"
   ]
  },
  {
   "cell_type": "markdown",
   "metadata": {},
   "source": [
    "### continue training..."
   ]
  },
  {
   "cell_type": "code",
   "execution_count": 6,
   "metadata": {
    "scrolled": false
   },
   "outputs": [
    {
     "name": "stdout",
     "output_type": "stream",
     "text": [
      "Epoch 1/2\n",
      "10/10 [==============================] - 6s 647ms/step - loss: 2.3800 - acc: 0.4125 - val_loss: 4.1434 - val_acc: 0.1469\n",
      "\n",
      "Epoch 00001: val_loss improved from 4.17946 to 4.14345, saving model to mclass.hdf5\n",
      "Epoch 2/2\n",
      "10/10 [==============================] - 5s 523ms/step - loss: 2.2300 - acc: 0.4156 - val_loss: 4.1396 - val_acc: 0.1406\n",
      "\n",
      "Epoch 00002: val_loss improved from 4.14345 to 4.13959, saving model to mclass.hdf5\n"
     ]
    },
    {
     "data": {
      "text/plain": [
       "<keras.callbacks.History at 0x25c50535b38>"
      ]
     },
     "execution_count": 6,
     "metadata": {},
     "output_type": "execute_result"
    }
   ],
   "source": [
    "classifier.load_weights('mclass.hdf5')\n",
    "classifier.fit_generator(training_set,\n",
    "                         steps_per_epoch = 10,\n",
    "                         epochs = 2,\n",
    "                         validation_data = test_set,\n",
    "                         validation_steps = 836,callbacks=[checkpointer],verbose=1)"
   ]
  },
  {
   "cell_type": "markdown",
   "metadata": {},
   "source": [
    "### continue training..."
   ]
  },
  {
   "cell_type": "code",
   "execution_count": 7,
   "metadata": {},
   "outputs": [
    {
     "name": "stdout",
     "output_type": "stream",
     "text": [
      "Epoch 1/5\n",
      "6680/6680 [==============================] - 2891s 433ms/step - loss: 2.0564 - acc: 0.4444 - val_loss: 4.9131 - val_acc: 0.1567\n",
      "\n",
      "Epoch 00001: val_loss did not improve\n",
      "Epoch 2/5\n",
      "6680/6680 [==============================] - 2880s 431ms/step - loss: 1.5532 - acc: 0.5610 - val_loss: 5.6125 - val_acc: 0.1555\n",
      "\n",
      "Epoch 00002: val_loss did not improve\n",
      "Epoch 3/5\n",
      "6680/6680 [==============================] - 2890s 433ms/step - loss: 1.2690 - acc: 0.6300 - val_loss: 6.1789 - val_acc: 0.1412\n",
      "\n",
      "Epoch 00003: val_loss did not improve\n",
      "Epoch 4/5\n",
      "6680/6680 [==============================] - 2887s 432ms/step - loss: 1.0926 - acc: 0.6759 - val_loss: 6.9489 - val_acc: 0.1340\n",
      "\n",
      "Epoch 00004: val_loss did not improve\n",
      "Epoch 5/5\n",
      "6680/6680 [==============================] - 2887s 432ms/step - loss: 0.9535 - acc: 0.7125 - val_loss: 6.9898 - val_acc: 0.1519\n",
      "\n",
      "Epoch 00005: val_loss did not improve\n"
     ]
    },
    {
     "data": {
      "text/plain": [
       "<keras.callbacks.History at 0x25c51864240>"
      ]
     },
     "execution_count": 7,
     "metadata": {},
     "output_type": "execute_result"
    }
   ],
   "source": [
    "classifier.load_weights('mclass.hdf5')\n",
    "classifier.fit_generator(training_set,\n",
    "                         steps_per_epoch = 6680,\n",
    "                         epochs = 5,\n",
    "                         validation_data = test_set,\n",
    "                         validation_steps = 836,callbacks=[checkpointer],verbose=1)"
   ]
  },
  {
   "cell_type": "code",
   "execution_count": 74,
   "metadata": {},
   "outputs": [],
   "source": [
    "loss.extend([2.0564,1.5532,1.2690,1.0926,0.9535])\n",
    "acc.extend([0.4444,0.5610,0.6300,0.6759,0.7125])\n",
    "val_loss.extend([4.9131,5.6125,6.1789,6.9489,6.9898])\n",
    "val_acc.extend([0.1567,0.1555,0.1412,0.1340,0.1519])"
   ]
  },
  {
   "cell_type": "code",
   "execution_count": 75,
   "metadata": {},
   "outputs": [
    {
     "name": "stdout",
     "output_type": "stream",
     "text": [
      "10 10 10 10\n"
     ]
    }
   ],
   "source": [
    "print(len(loss),len(acc),len(val_loss),len(val_acc))"
   ]
  },
  {
   "cell_type": "markdown",
   "metadata": {},
   "source": [
    "### continue training..."
   ]
  },
  {
   "cell_type": "code",
   "execution_count": 8,
   "metadata": {},
   "outputs": [
    {
     "name": "stdout",
     "output_type": "stream",
     "text": [
      "Epoch 1/5\n",
      "6680/6680 [==============================] - 2889s 432ms/step - loss: 0.8560 - acc: 0.7391 - val_loss: 7.4955 - val_acc: 0.1472\n",
      "\n",
      "Epoch 00001: val_loss did not improve\n",
      "Epoch 2/5\n",
      "6680/6680 [==============================] - 2876s 431ms/step - loss: 0.7844 - acc: 0.7603 - val_loss: 7.8982 - val_acc: 0.1460\n",
      "\n",
      "Epoch 00002: val_loss did not improve\n",
      "Epoch 3/5\n",
      "6680/6680 [==============================] - 3348s 501ms/step - loss: 0.7397 - acc: 0.7733 - val_loss: 8.0763 - val_acc: 0.1483\n",
      "\n",
      "Epoch 00003: val_loss did not improve\n",
      "Epoch 4/5\n",
      "6680/6680 [==============================] - 4564s 683ms/step - loss: 0.6995 - acc: 0.7842 - val_loss: 8.2217 - val_acc: 0.1363\n",
      "\n",
      "Epoch 00004: val_loss did not improve\n",
      "Epoch 5/5\n",
      "6680/6680 [==============================] - 4138s 619ms/step - loss: 0.6616 - acc: 0.7963 - val_loss: 8.2303 - val_acc: 0.1483\n",
      "\n",
      "Epoch 00005: val_loss did not improve\n"
     ]
    },
    {
     "data": {
      "text/plain": [
       "<keras.callbacks.History at 0x25c50535c88>"
      ]
     },
     "execution_count": 8,
     "metadata": {},
     "output_type": "execute_result"
    }
   ],
   "source": [
    "classifier.fit_generator(training_set,\n",
    "                         steps_per_epoch = 6680,\n",
    "                         epochs = 5,\n",
    "                         validation_data = test_set,\n",
    "                         validation_steps = 836,callbacks=[checkpointer],verbose=1)"
   ]
  },
  {
   "cell_type": "code",
   "execution_count": 76,
   "metadata": {},
   "outputs": [],
   "source": [
    "loss.extend([0.8560,0.7844,0.7397,0.6995,0.6616])\n",
    "acc.extend([0.7391,0.7603,0.7733,0.7842,0.7963])\n",
    "val_loss.extend([7.4955,7.8982,8.0763,8.2217,8.2303])\n",
    "val_acc.extend([0.1472,0.1460,0.1483,0.1363,0.1483])"
   ]
  },
  {
   "cell_type": "code",
   "execution_count": 77,
   "metadata": {},
   "outputs": [
    {
     "name": "stdout",
     "output_type": "stream",
     "text": [
      "15 15 15 15\n"
     ]
    }
   ],
   "source": [
    "print(len(loss),len(acc),len(val_loss),len(val_acc))"
   ]
  },
  {
   "cell_type": "markdown",
   "metadata": {},
   "source": [
    "### continue training..."
   ]
  },
  {
   "cell_type": "code",
   "execution_count": 11,
   "metadata": {},
   "outputs": [
    {
     "name": "stdout",
     "output_type": "stream",
     "text": [
      "Epoch 1/5\n",
      "6680/6680 [==============================] - 4038s 604ms/step - loss: 0.6227 - acc: 0.8078 - val_loss: 8.6124 - val_acc: 0.1280\n",
      "\n",
      "Epoch 00001: val_loss did not improve\n",
      "Epoch 2/5\n",
      "6680/6680 [==============================] - 4119s 617ms/step - loss: 0.5959 - acc: 0.8157 - val_loss: 8.2849 - val_acc: 0.1471\n",
      "\n",
      "Epoch 00002: val_loss did not improve\n",
      "Epoch 3/5\n",
      "6680/6680 [==============================] - 4619s 691ms/step - loss: 0.5745 - acc: 0.8216 - val_loss: 9.0264 - val_acc: 0.1352\n",
      "\n",
      "Epoch 00003: val_loss did not improve\n",
      "Epoch 4/5\n",
      "6680/6680 [==============================] - 4004s 599ms/step - loss: 0.5533 - acc: 0.8295 - val_loss: 8.7171 - val_acc: 0.1435\n",
      "\n",
      "Epoch 00004: val_loss did not improve\n",
      "Epoch 5/5\n",
      "6680/6680 [==============================] - 4177s 625ms/step - loss: 0.5340 - acc: 0.8344 - val_loss: 8.9985 - val_acc: 0.1364\n",
      "\n",
      "Epoch 00005: val_loss did not improve\n"
     ]
    },
    {
     "data": {
      "text/plain": [
       "<keras.callbacks.History at 0x25c4c889a90>"
      ]
     },
     "execution_count": 11,
     "metadata": {},
     "output_type": "execute_result"
    }
   ],
   "source": [
    "classifier.fit_generator(training_set,\n",
    "                         steps_per_epoch = 6680,\n",
    "                         epochs = 5,\n",
    "                         validation_data = test_set,\n",
    "                         validation_steps = 836,callbacks=[checkpointer],verbose=1)"
   ]
  },
  {
   "cell_type": "code",
   "execution_count": 78,
   "metadata": {},
   "outputs": [],
   "source": [
    "loss.extend([0.6227,0.5959,0.5745,0.5533,0.5340])\n",
    "acc.extend([0.8078,0.8157,0.8216,0.8295,0.8344])\n",
    "val_loss.extend([8.6124,8.2849,9.0264,8.7171,8.9985])\n",
    "val_acc.extend([0.1280,0.1471,0.1352,0.1435,0.1364])"
   ]
  },
  {
   "cell_type": "code",
   "execution_count": 79,
   "metadata": {},
   "outputs": [
    {
     "name": "stdout",
     "output_type": "stream",
     "text": [
      "20 20 20 20\n"
     ]
    }
   ],
   "source": [
    "print(len(loss),len(acc),len(val_loss),len(val_acc))"
   ]
  },
  {
   "cell_type": "markdown",
   "metadata": {},
   "source": [
    "### continue training..."
   ]
  },
  {
   "cell_type": "code",
   "execution_count": 14,
   "metadata": {
    "scrolled": false
   },
   "outputs": [
    {
     "name": "stdout",
     "output_type": "stream",
     "text": [
      "Epoch 1/5\n",
      "6680/6680 [==============================] - 3216s 481ms/step - loss: 0.5168 - acc: 0.8401 - val_loss: 8.9264 - val_acc: 0.1388\n",
      "\n",
      "Epoch 00001: val_loss did not improve\n",
      "Epoch 2/5\n",
      "6680/6680 [==============================] - 3157s 473ms/step - loss: 0.5060 - acc: 0.8445 - val_loss: 9.0244 - val_acc: 0.1436\n",
      "\n",
      "Epoch 00002: val_loss did not improve\n",
      "Epoch 3/5\n",
      "6680/6680 [==============================] - 3135s 469ms/step - loss: 0.4925 - acc: 0.8481 - val_loss: 9.0717 - val_acc: 0.1387\n",
      "\n",
      "Epoch 00003: val_loss did not improve\n",
      "Epoch 4/5\n",
      "6680/6680 [==============================] - 3130s 469ms/step - loss: 0.4812 - acc: 0.8521 - val_loss: 9.2006 - val_acc: 0.1412\n",
      "\n",
      "Epoch 00004: val_loss did not improve\n",
      "Epoch 5/5\n",
      "6680/6680 [==============================] - 3689s 552ms/step - loss: 0.4607 - acc: 0.8567 - val_loss: 9.4323 - val_acc: 0.1447\n",
      "\n",
      "Epoch 00005: val_loss did not improve\n"
     ]
    },
    {
     "data": {
      "text/plain": [
       "<keras.callbacks.History at 0x25c52b5bdd8>"
      ]
     },
     "execution_count": 14,
     "metadata": {},
     "output_type": "execute_result"
    }
   ],
   "source": [
    "classifier.fit_generator(training_set,\n",
    "                         steps_per_epoch = 6680,\n",
    "                         epochs = 5,\n",
    "                         validation_data = test_set,\n",
    "                         validation_steps = 836,callbacks=[checkpointer],verbose=1)"
   ]
  },
  {
   "cell_type": "code",
   "execution_count": 80,
   "metadata": {},
   "outputs": [],
   "source": [
    "loss.extend([0.5168,0.5060,0.4925,0.4812,0.4607])\n",
    "acc.extend([0.8401,0.8445,0.8481,0.8521,0.8567])\n",
    "val_loss.extend([8.9264,9.0244,9.0717,9.2006,9.4323])\n",
    "val_acc.extend([0.1388,0.1436,0.1387,0.1412,0.1447])"
   ]
  },
  {
   "cell_type": "code",
   "execution_count": 81,
   "metadata": {},
   "outputs": [
    {
     "name": "stdout",
     "output_type": "stream",
     "text": [
      "25 25 25 25\n"
     ]
    }
   ],
   "source": [
    "print(len(loss),len(acc),len(val_loss),len(val_acc))"
   ]
  },
  {
   "cell_type": "markdown",
   "metadata": {},
   "source": [
    "### continue training..."
   ]
  },
  {
   "cell_type": "code",
   "execution_count": 16,
   "metadata": {},
   "outputs": [
    {
     "name": "stdout",
     "output_type": "stream",
     "text": [
      "Epoch 1/5\n",
      "6680/6680 [==============================] - 4663s 698ms/step - loss: 0.4469 - acc: 0.8621 - val_loss: 9.2174 - val_acc: 0.1376\n",
      "\n",
      "Epoch 00001: val_loss did not improve\n",
      "Epoch 2/5\n",
      "6680/6680 [==============================] - 4072s 610ms/step - loss: 0.4386 - acc: 0.8659 - val_loss: 9.2248 - val_acc: 0.1459\n",
      "\n",
      "Epoch 00002: val_loss did not improve\n",
      "Epoch 3/5\n",
      "6680/6680 [==============================] - 4102s 614ms/step - loss: 0.4282 - acc: 0.8689 - val_loss: 9.2836 - val_acc: 0.1400\n",
      "\n",
      "Epoch 00003: val_loss did not improve\n",
      "Epoch 4/5\n",
      "6680/6680 [==============================] - 2973s 445ms/step - loss: 0.4220 - acc: 0.8703 - val_loss: 9.5837 - val_acc: 0.1447\n",
      "\n",
      "Epoch 00004: val_loss did not improve\n",
      "Epoch 5/5\n",
      "6680/6680 [==============================] - 2916s 436ms/step - loss: 0.4152 - acc: 0.8720 - val_loss: 9.7656 - val_acc: 0.1460\n",
      "\n",
      "Epoch 00005: val_loss did not improve\n"
     ]
    },
    {
     "data": {
      "text/plain": [
       "<keras.callbacks.History at 0x25c52b26080>"
      ]
     },
     "execution_count": 16,
     "metadata": {},
     "output_type": "execute_result"
    }
   ],
   "source": [
    "classifier.fit_generator(training_set,\n",
    "                         steps_per_epoch = 6680,\n",
    "                         epochs = 5,\n",
    "                         validation_data = test_set,\n",
    "                         validation_steps = 836,callbacks=[checkpointer],verbose=1)"
   ]
  },
  {
   "cell_type": "code",
   "execution_count": 82,
   "metadata": {},
   "outputs": [],
   "source": [
    "loss.extend([0.4469,0.4386,0.4282,0.4220,0.4152])\n",
    "acc.extend([0.8621,0.8659,0.8689,0.8703,0.8720])\n",
    "val_loss.extend([9.2174,9.2248,9.2836,9.5837,9.7656])\n",
    "val_acc.extend([0.1376,0.1459,0.1400,0.1447,0.1460])"
   ]
  },
  {
   "cell_type": "code",
   "execution_count": 83,
   "metadata": {},
   "outputs": [
    {
     "name": "stdout",
     "output_type": "stream",
     "text": [
      "30 30 30 30\n"
     ]
    }
   ],
   "source": [
    "print(len(loss),len(acc),len(val_loss),len(val_acc))"
   ]
  },
  {
   "cell_type": "markdown",
   "metadata": {},
   "source": [
    "### continue training..."
   ]
  },
  {
   "cell_type": "code",
   "execution_count": 19,
   "metadata": {},
   "outputs": [
    {
     "name": "stdout",
     "output_type": "stream",
     "text": [
      "Epoch 1/5\n",
      "6680/6680 [==============================] - 4256s 637ms/step - loss: 0.4056 - acc: 0.8750 - val_loss: 9.6393 - val_acc: 0.1256\n",
      "\n",
      "Epoch 00001: val_loss did not improve\n",
      "Epoch 2/5\n",
      "6680/6680 [==============================] - 4334s 649ms/step - loss: 0.3978 - acc: 0.8783 - val_loss: 9.4727 - val_acc: 0.1447\n",
      "\n",
      "Epoch 00002: val_loss did not improve\n",
      "Epoch 3/5\n",
      "6680/6680 [==============================] - 4137s 619ms/step - loss: 0.3873 - acc: 0.8811 - val_loss: 9.7185 - val_acc: 0.1316\n",
      "\n",
      "Epoch 00003: val_loss did not improve\n",
      "Epoch 4/5\n",
      "6680/6680 [==============================] - 4043s 605ms/step - loss: 0.3814 - acc: 0.8833 - val_loss: 9.7264 - val_acc: 0.1328\n",
      "\n",
      "Epoch 00004: val_loss did not improve\n",
      "Epoch 5/5\n",
      "6680/6680 [==============================] - 26713s 4s/step - loss: 0.3773 - acc: 0.8854 - val_loss: 9.9378 - val_acc: 0.1328\n",
      "\n",
      "Epoch 00005: val_loss did not improve\n"
     ]
    },
    {
     "data": {
      "text/plain": [
       "<keras.callbacks.History at 0x25c504052b0>"
      ]
     },
     "execution_count": 19,
     "metadata": {},
     "output_type": "execute_result"
    }
   ],
   "source": [
    "classifier.fit_generator(training_set,\n",
    "                         steps_per_epoch = 6680,\n",
    "                         epochs = 5,\n",
    "                         validation_data = test_set,\n",
    "                         validation_steps = 836,callbacks=[checkpointer,history],verbose=1)"
   ]
  },
  {
   "cell_type": "code",
   "execution_count": 84,
   "metadata": {},
   "outputs": [],
   "source": [
    "loss.extend([0.4056,0.3978,0.3873,0.3814,0.3773])\n",
    "acc.extend([0.8750,0.8783,0.8811,0.8833,0.8854])\n",
    "val_loss.extend([9.6393,9.4727,9.7185,9.7264,9.9378])\n",
    "val_acc.extend([0.1256,0.1447,0.1316,0.1328,0.1328])"
   ]
  },
  {
   "cell_type": "code",
   "execution_count": 85,
   "metadata": {},
   "outputs": [
    {
     "name": "stdout",
     "output_type": "stream",
     "text": [
      "35 35 35 35\n"
     ]
    }
   ],
   "source": [
    "print(len(loss),len(acc),len(val_loss),len(val_acc))"
   ]
  },
  {
   "cell_type": "markdown",
   "metadata": {},
   "source": [
    "### continue training..."
   ]
  },
  {
   "cell_type": "code",
   "execution_count": 21,
   "metadata": {},
   "outputs": [
    {
     "name": "stdout",
     "output_type": "stream",
     "text": [
      "Epoch 1/5\n",
      "6680/6680 [==============================] - 3182s 476ms/step - loss: 0.3666 - acc: 0.8882 - val_loss: 9.9513 - val_acc: 0.1400\n",
      "\n",
      "Epoch 00001: val_loss did not improve\n",
      "Epoch 2/5\n",
      "6680/6680 [==============================] - 3123s 468ms/step - loss: 0.3594 - acc: 0.8907 - val_loss: 9.9422 - val_acc: 0.1292\n",
      "\n",
      "Epoch 00002: val_loss did not improve\n",
      "Epoch 3/5\n",
      "6680/6680 [==============================] - 3114s 466ms/step - loss: 0.3578 - acc: 0.8911 - val_loss: 9.9416 - val_acc: 0.1436\n",
      "\n",
      "Epoch 00003: val_loss did not improve\n",
      "Epoch 4/5\n",
      "6680/6680 [==============================] - 2996s 449ms/step - loss: 0.3541 - acc: 0.8926 - val_loss: 9.9242 - val_acc: 0.1375\n",
      "\n",
      "Epoch 00004: val_loss did not improve\n",
      "Epoch 5/5\n",
      "6680/6680 [==============================] - 3155s 472ms/step - loss: 0.3474 - acc: 0.8943 - val_loss: 10.3115 - val_acc: 0.1328\n",
      "\n",
      "Epoch 00005: val_loss did not improve\n"
     ]
    },
    {
     "data": {
      "text/plain": [
       "<keras.callbacks.History at 0x25c5042a898>"
      ]
     },
     "execution_count": 21,
     "metadata": {},
     "output_type": "execute_result"
    }
   ],
   "source": [
    "classifier.fit_generator(training_set,\n",
    "                         steps_per_epoch = 6680,\n",
    "                         epochs = 5,\n",
    "                         validation_data = test_set,\n",
    "                         validation_steps = 836,callbacks=[checkpointer,history],verbose=1)"
   ]
  },
  {
   "cell_type": "code",
   "execution_count": 88,
   "metadata": {},
   "outputs": [],
   "source": [
    "loss.extend([0.3666,0.3594,0.3578,0.3541,0.3474])\n",
    "acc.extend([0.8882,0.8907,0.8911,0.8926,0.8943])\n",
    "val_loss.extend([9.9513,9.9422,9.9416,9.242,10.3115])\n",
    "val_acc.extend([0.1400,0.1292,0.1436,0.1375,0.1328])"
   ]
  },
  {
   "cell_type": "code",
   "execution_count": 89,
   "metadata": {},
   "outputs": [
    {
     "name": "stdout",
     "output_type": "stream",
     "text": [
      "40 40 40 40\n"
     ]
    }
   ],
   "source": [
    "print(len(loss),len(acc),len(val_loss),len(val_acc))"
   ]
  },
  {
   "cell_type": "markdown",
   "metadata": {},
   "source": [
    "### continue training...\n",
    "\n",
    "add store the history"
   ]
  },
  {
   "cell_type": "code",
   "execution_count": 93,
   "metadata": {},
   "outputs": [
    {
     "name": "stdout",
     "output_type": "stream",
     "text": [
      "Epoch 1/5\n",
      "6680/6680 [==============================] - 12779s 2s/step - loss: 0.3467 - acc: 0.8945 - val_loss: 10.2412 - val_acc: 0.1303\n",
      "\n",
      "Epoch 00001: val_loss did not improve\n",
      "Epoch 2/5\n",
      "6680/6680 [==============================] - 3393s 508ms/step - loss: 0.3432 - acc: 0.8961 - val_loss: 10.0668 - val_acc: 0.1340\n",
      "\n",
      "Epoch 00002: val_loss did not improve\n",
      "Epoch 3/5\n",
      "6680/6680 [==============================] - 3053s 457ms/step - loss: 0.3366 - acc: 0.8984 - val_loss: 10.0778 - val_acc: 0.1388\n",
      "\n",
      "Epoch 00003: val_loss did not improve\n",
      "Epoch 4/5\n",
      "6680/6680 [==============================] - 3062s 458ms/step - loss: 0.3334 - acc: 0.8996 - val_loss: 10.0394 - val_acc: 0.1387\n",
      "\n",
      "Epoch 00004: val_loss did not improve\n",
      "Epoch 5/5\n",
      "6680/6680 [==============================] - 3061s 458ms/step - loss: 0.3303 - acc: 0.9003 - val_loss: 10.2157 - val_acc: 0.1375\n",
      "\n",
      "Epoch 00005: val_loss did not improve\n"
     ]
    }
   ],
   "source": [
    "classifier.fit_generator(training_set,\n",
    "                         steps_per_epoch = 6680,\n",
    "                         epochs = 5,\n",
    "                         validation_data = test_set,\n",
    "                         validation_steps = 836,callbacks=[checkpointer,history],verbose=1)\n",
    "\n",
    "loss.extend(history.history['loss'])\n",
    "acc.extend(history.history['acc'])\n",
    "val_loss.extend(history.history['val_loss'])\n",
    "val_acc.extend(history.history['val_acc'])"
   ]
  },
  {
   "cell_type": "markdown",
   "metadata": {},
   "source": [
    "### continue training...\n",
    "add store the history"
   ]
  },
  {
   "cell_type": "code",
   "execution_count": 94,
   "metadata": {},
   "outputs": [
    {
     "name": "stdout",
     "output_type": "stream",
     "text": [
      "Epoch 1/5\n",
      "6680/6680 [==============================] - 3052s 457ms/step - loss: 0.3311 - acc: 0.8994 - val_loss: 10.2077 - val_acc: 0.1554\n",
      "\n",
      "Epoch 00001: val_loss did not improve\n",
      "Epoch 2/5\n",
      "6680/6680 [==============================] - 3056s 458ms/step - loss: 0.3230 - acc: 0.9029 - val_loss: 10.2323 - val_acc: 0.1495\n",
      "\n",
      "Epoch 00002: val_loss did not improve\n",
      "Epoch 3/5\n",
      "6680/6680 [==============================] - 3056s 457ms/step - loss: 0.3249 - acc: 0.9016 - val_loss: 10.2163 - val_acc: 0.1351\n",
      "\n",
      "Epoch 00003: val_loss did not improve\n",
      "Epoch 4/5\n",
      "6680/6680 [==============================] - 3051s 457ms/step - loss: 0.3182 - acc: 0.9040 - val_loss: 10.0507 - val_acc: 0.1447\n",
      "\n",
      "Epoch 00004: val_loss did not improve\n",
      "Epoch 5/5\n",
      "6680/6680 [==============================] - 3056s 457ms/step - loss: 0.3130 - acc: 0.9061 - val_loss: 10.3110 - val_acc: 0.1411\n",
      "\n",
      "Epoch 00005: val_loss did not improve\n"
     ]
    }
   ],
   "source": [
    "classifier.fit_generator(training_set,\n",
    "                         steps_per_epoch = 6680,\n",
    "                         epochs = 5,\n",
    "                         validation_data = test_set,\n",
    "                         validation_steps = 836,callbacks=[checkpointer,history],verbose=1)\n",
    "\n",
    "loss.extend(history.history['loss'])\n",
    "acc.extend(history.history['acc'])\n",
    "val_loss.extend(history.history['val_loss'])\n",
    "val_acc.extend(history.history['val_acc'])"
   ]
  },
  {
   "cell_type": "code",
   "execution_count": 97,
   "metadata": {},
   "outputs": [
    {
     "name": "stdout",
     "output_type": "stream",
     "text": [
      "50 50 50 50\n"
     ]
    }
   ],
   "source": [
    "print(len(loss),len(acc),len(val_loss),len(val_acc))"
   ]
  },
  {
   "cell_type": "markdown",
   "metadata": {},
   "source": [
    "### Plots:\n",
    "\n",
    "Since we have trained for 50 epochs lets see the trends of training and test **Accuracy** and **Loss**"
   ]
  },
  {
   "cell_type": "code",
   "execution_count": 139,
   "metadata": {
    "scrolled": false
   },
   "outputs": [
    {
     "data": {
      "text/plain": [
       "<matplotlib.text.Text at 0x25c5b87c240>"
      ]
     },
     "execution_count": 139,
     "metadata": {},
     "output_type": "execute_result"
    },
    {
     "data": {
      "image/png": "[encoded data removed]",
      "text/plain": [
       "<matplotlib.figure.Figure at 0x25c5b3d5be0>"
      ]
     },
     "metadata": {},
     "output_type": "display_data"
    }
   ],
   "source": [
    "fig = plt.figure(figsize=(10,10))\n",
    "fig.subplots_adjust(hspace=0.4, wspace=0.4)\n",
    "\n",
    "ax = fig.add_subplot(2, 2, 1)\n",
    "ax.plot(acc)\n",
    "ax.set_title('Training Accuracy')\n",
    "\n",
    "ax = fig.add_subplot(2, 2, 2)\n",
    "ax.plot(loss)\n",
    "ax.set_title('Training Loss')\n",
    "\n",
    "ax = fig.add_subplot(2, 2, 3)\n",
    "ax.plot(val_acc)\n",
    "ax.set_title('Validation Accuracy')\n",
    "\n",
    "ax = fig.add_subplot(2, 2, 4)\n",
    "ax.plot(val_loss)\n",
    "ax.set_title('Validation Loss')"
   ]
  },
  {
   "cell_type": "markdown",
   "metadata": {},
   "source": [
    "As we can see from the above plots, the training accuracy is increasing and the loss is decreasing.\n",
    "The training accuracy is around **90 %** and loss has decreased 3.5 to 0.4.\n",
    "But the validation accuracy is still not stable and fluctuates around **14%** which is in line with the survey that we had done.\n",
    "And the validation loss keeps increasing as we train, may be it needs more training where it starts to decrease after hitting a certain threshold.\n",
    "\n",
    "Or may be the model is over fitted and we have to implement drop outs to reduce the loss, but taking the time left in the project we will not be able to do it, as we will loose the training that we did so far."
   ]
  },
  {
   "cell_type": "markdown",
   "metadata": {},
   "source": [
    "Below code is to save the model and it's weight using Yaml, though we have used the model check point to save, this is just to be double sure."
   ]
  },
  {
   "cell_type": "code",
   "execution_count": 197,
   "metadata": {},
   "outputs": [
    {
     "name": "stdout",
     "output_type": "stream",
     "text": [
      "Saved model to disk\n"
     ]
    }
   ],
   "source": [
    "def save_mclass():\n",
    "    classifier_yaml = classifier.to_yaml()\n",
    "    with open(\"mclass.yaml\", \"w\") as yaml_file:\n",
    "        yaml_file.write(classifier_yaml)\n",
    "    # serialize weights to HDF5\n",
    "    classifier.save_weights(\"mclass.h5\")\n",
    "    print(\"Saved model to disk\")\n",
    "\n",
    "save_mclass()"
   ]
  },
  {
   "cell_type": "markdown",
   "metadata": {},
   "source": [
    "Below code is to load the saved model."
   ]
  },
  {
   "cell_type": "code",
   "execution_count": 199,
   "metadata": {},
   "outputs": [
    {
     "name": "stdout",
     "output_type": "stream",
     "text": [
      "Loaded model from disk\n"
     ]
    }
   ],
   "source": [
    "def load_mclass():\n",
    "    # load YAML and create model\n",
    "    yaml_file = open('mclass.yaml', 'r')\n",
    "    loaded_classifier_yaml = yaml_file.read()\n",
    "    yaml_file.close()\n",
    "    loaded_classifier = model_from_yaml(loaded_classifier_yaml)\n",
    "    # load weights into new model\n",
    "    loaded_classifier.load_weights(\"mclass.h5\")\n",
    "    print(\"Loaded model from disk\")\n",
    "    return loaded_classifier\n",
    "    \n",
    "loaded_classifier = load_mclass()"
   ]
  },
  {
   "cell_type": "markdown",
   "metadata": {},
   "source": [
    "### Test the Model\n",
    "\n",
    "Lets test the model with some random images from valid folder which are not used for training or testing.\n",
    "\n",
    "**Though the predicted class is not the right class but if we see the original image and image from predicted class they both look similar.**"
   ]
  },
  {
   "cell_type": "code",
   "execution_count": 207,
   "metadata": {},
   "outputs": [],
   "source": [
    "#make sure that path_to_file contains the path to the image you want to predict on. \n",
    "def identifyBreed(path,loaded_classifier):    \n",
    "    img = imread(path) \n",
    "    img = resize(img,(64,64),mode='constant')\n",
    "    img = np.expand_dims(img,axis=0)\n",
    "    \n",
    "    if(np.max(img)>1):\n",
    "        img = img/255.0\n",
    "    \n",
    "    prediction = loaded_classifier.predict_classes(img)\n",
    "    \n",
    "    print(\"This dog belongs to\",class_labels[prediction[0]].split('.')[1],\"breed\")"
   ]
  },
  {
   "cell_type": "code",
   "execution_count": 208,
   "metadata": {},
   "outputs": [
    {
     "name": "stdout",
     "output_type": "stream",
     "text": [
      "This dog belongs to Belgian_sheepdog breed\n"
     ]
    }
   ],
   "source": [
    "identifyBreed('dogImages/valid/001.Affenpinscher/Affenpinscher_00038.jpg',loaded_classifier)"
   ]
  },
  {
   "cell_type": "code",
   "execution_count": 209,
   "metadata": {},
   "outputs": [
    {
     "name": "stdout",
     "output_type": "stream",
     "text": [
      "This dog belongs to Poodle breed\n"
     ]
    }
   ],
   "source": [
    "identifyBreed('dogImages/valid/021.Belgian_sheepdog/Belgian_sheepdog_01485.jpg',loaded_classifier)"
   ]
  },
  {
   "cell_type": "code",
   "execution_count": 210,
   "metadata": {},
   "outputs": [
    {
     "name": "stdout",
     "output_type": "stream",
     "text": [
      "This dog belongs to Black_russian_terrier breed\n"
     ]
    }
   ],
   "source": [
    "identifyBreed('dogImages/valid/124.Poodle/Poodle_07914.jpg',loaded_classifier)"
   ]
  },
  {
   "cell_type": "code",
   "execution_count": 211,
   "metadata": {},
   "outputs": [
    {
     "name": "stdout",
     "output_type": "stream",
     "text": [
      "This dog belongs to Lakeland_terrier breed\n"
     ]
    }
   ],
   "source": [
    "identifyBreed('dogImages/valid/026.Black_russian_terrier/Black_russian_terrier_01855.jpg',loaded_classifier)"
   ]
  },
  {
   "cell_type": "code",
   "execution_count": 212,
   "metadata": {},
   "outputs": [
    {
     "name": "stdout",
     "output_type": "stream",
     "text": [
      "This dog belongs to Black_and_tan_coonhound breed\n"
     ]
    }
   ],
   "source": [
    "identifyBreed('dogImages/valid/097.Lakeland_terrier/Lakeland_terrier_06542.jpg',loaded_classifier)"
   ]
  },
  {
   "cell_type": "code",
   "execution_count": 213,
   "metadata": {
    "scrolled": false
   },
   "outputs": [
    {
     "data": {
      "text/html": [
       "<table><tr><th>Affenpinscher</th><th>Belgian sheepdog</th><th>Poodle</th></tr><tr><td><img src='dogImages/valid/001.Affenpinscher/Affenpinscher_00038.jpg'></td><td><img src='dogImages/valid/021.Belgian_sheepdog/Belgian_sheepdog_01485.jpg'></td><td><img src='dogImages/valid/124.Poodle/Poodle_07914.jpg'></td></tr><tr><th>Black Russian Terrier</th><th>Lakeland Terrier</th><th>Black and tan coonhound</th></tr><tr><td><img src='dogImages/valid/026.Black_russian_terrier/Black_russian_terrier_01855.jpg'></td><td><img src='dogImages/valid/097.Lakeland_terrier/Lakeland_terrier_06542.jpg'></td><td><img src='dogImages/valid/025.Black_and_tan_coonhound/Black_and_tan_coonhound_01775.jpg'></td></tr></table>"
      ],
      "text/plain": [
       "<IPython.core.display.HTML object>"
      ]
     },
     "metadata": {},
     "output_type": "display_data"
    }
   ],
   "source": [
    "display(HTML(\"<table><tr><th>Affenpinscher</th><th>Belgian sheepdog</th><th>Poodle</th></tr>\\\n",
    "<tr><td><img src='dogImages/valid/001.Affenpinscher/Affenpinscher_00038.jpg'></td>\\\n",
    "<td><img src='dogImages/valid/021.Belgian_sheepdog/Belgian_sheepdog_01485.jpg'></td>\\\n",
    "<td><img src='dogImages/valid/124.Poodle/Poodle_07914.jpg'></td></tr>\\\n",
    "<tr><th>Black Russian Terrier</th><th>Lakeland Terrier</th><th>Black and tan coonhound</th></tr>\\\n",
    "<tr><td><img src='dogImages/valid/026.Black_russian_terrier/Black_russian_terrier_01855.jpg'></td>\\\n",
    "<td><img src='dogImages/valid/097.Lakeland_terrier/Lakeland_terrier_06542.jpg'></td>\\\n",
    "<td><img src='dogImages/valid/025.Black_and_tan_coonhound/Black_and_tan_coonhound_01775.jpg'></td></tr>\\\n",
    "</table>\"))"
   ]
  },
  {
   "cell_type": "markdown",
   "metadata": {},
   "source": [
    "## Integration"
   ]
  },
  {
   "cell_type": "code",
   "execution_count": 222,
   "metadata": {},
   "outputs": [],
   "source": [
    "def load_bclass():\n",
    "    # load YAML and create model\n",
    "    yaml_file = open('model.yaml', 'r')\n",
    "    loaded_classifier_yaml = yaml_file.read()\n",
    "    yaml_file.close()\n",
    "    loaded_classifier = model_from_yaml(loaded_classifier_yaml)\n",
    "    # load weights into new model\n",
    "    loaded_classifier.load_weights(\"model.h5\")\n",
    "#     print(\"Loaded model from disk\")\n",
    "    return loaded_classifier\n",
    "    "
   ]
  },
  {
   "cell_type": "code",
   "execution_count": 219,
   "metadata": {},
   "outputs": [],
   "source": [
    "def isDog(path,loaded_classifier):\n",
    "    img = imread(path) #make sure that path_to_file contains the path to the image you want to predict on. \n",
    "    img = resize(img,(64,64),mode='constant')\n",
    "    img = np.expand_dims(img,axis=0)\n",
    "\n",
    "    if(np.max(img)>1):\n",
    "        img = img/255.0\n",
    "\n",
    "    prediction = loaded_classifier.predict_classes(img)\n",
    "    return prediction[0][0]\n",
    "    "
   ]
  },
  {
   "cell_type": "code",
   "execution_count": 220,
   "metadata": {},
   "outputs": [],
   "source": [
    "def whichDog(path):\n",
    "    loaded_bclass = load_bclass()\n",
    "    loaded_mclass = load_mclass()\n",
    "    res_binary=isDog(path,loaded_bclass)\n",
    "    if(res_binary == 0):\n",
    "        identifyBreed(path,loaded_classifier)\n",
    "    else:\n",
    "        print(\"Provided Image is not of a dog\")"
   ]
  },
  {
   "cell_type": "code",
   "execution_count": 223,
   "metadata": {},
   "outputs": [
    {
     "name": "stdout",
     "output_type": "stream",
     "text": [
      "Loaded model from disk\n",
      "This dog belongs to Black_and_tan_coonhound breed\n"
     ]
    }
   ],
   "source": [
    "whichDog('dogImages/valid/097.Lakeland_terrier/Lakeland_terrier_06542.jpg')"
   ]
  },
  {
   "cell_type": "code",
   "execution_count": 225,
   "metadata": {},
   "outputs": [
    {
     "name": "stdout",
     "output_type": "stream",
     "text": [
      "Loaded model from disk\n",
      "This dog belongs to Cavalier_king_charles_spaniel breed\n"
     ]
    }
   ],
   "source": [
    "whichDog('test_images/d2.jpg')"
   ]
  },
  {
   "cell_type": "code",
   "execution_count": 226,
   "metadata": {},
   "outputs": [
    {
     "name": "stdout",
     "output_type": "stream",
     "text": [
      "Loaded model from disk\n",
      "This dog belongs to Italian_greyhound breed\n"
     ]
    }
   ],
   "source": [
    "whichDog('test_images/d1.jpg')"
   ]
  },
  {
   "cell_type": "code",
   "execution_count": 227,
   "metadata": {},
   "outputs": [
    {
     "name": "stdout",
     "output_type": "stream",
     "text": [
      "Loaded model from disk\n",
      "Provided Image is not of a dog\n"
     ]
    }
   ],
   "source": [
    "whichDog('test_images/h1.jpg')"
   ]
  },
  {
   "cell_type": "code",
   "execution_count": 229,
   "metadata": {},
   "outputs": [
    {
     "name": "stdout",
     "output_type": "stream",
     "text": [
      "Loaded model from disk\n",
      "Provided Image is not of a dog\n"
     ]
    }
   ],
   "source": [
    "whichDog('test_images/lemon.jpg')"
   ]
  }
 ],
 "metadata": {
  "kernelspec": {
   "display_name": "Python 3",
   "language": "python",
   "name": "python3"
  },
  "language_info": {
   "codemirror_mode": {
    "name": "ipython",
    "version": 3
   },
   "file_extension": ".py",
   "mimetype": "text/x-python",
   "name": "python",
   "nbconvert_exporter": "python",
   "pygments_lexer": "ipython3",
   "version": "3.6.4"
  }
 },
 "nbformat": 4,
 "nbformat_minor": 2
}
